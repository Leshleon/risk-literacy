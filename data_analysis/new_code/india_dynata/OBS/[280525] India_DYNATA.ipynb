{
 "cells": [
  {
   "cell_type": "code",
   "execution_count": 1,
   "id": "a7cae5aa-64c8-4388-9066-175d15fdea21",
   "metadata": {},
   "outputs": [],
   "source": [
    "import pandas as pd\n",
    "import numpy as np\n",
    "import scipy as sp\n",
    "\n",
    "import seaborn as sns\n",
    "import matplotlib.pyplot as plt\n",
    "import matplotlib.gridspec as gridspec\n",
    "import mpl_toolkits as mplot3d\n",
    "\n",
    "pd.set_option(\"display.max_columns\", None)\n",
    "from tqdm import tqdm\n",
    "tqdm.pandas()"
   ]
  },
  {
   "cell_type": "code",
   "execution_count": 2,
   "id": "eefdfbff-e216-42d6-a178-41b00cb54c60",
   "metadata": {},
   "outputs": [],
   "source": [
    "import_folder_path = rf\"..\\..\\[1] Datasets\\India\\Dynata\""
   ]
  },
  {
   "cell_type": "markdown",
   "id": "ed4dd628-1933-46a2-b3fa-4c0b672b482a",
   "metadata": {},
   "source": [
    "# DATA WRANGLING"
   ]
  },
  {
   "cell_type": "code",
   "execution_count": 3,
   "id": "d0e0c16a-6cd4-4e05-a315-d2e2f01f32e7",
   "metadata": {},
   "outputs": [
    {
     "name": "stdout",
     "output_type": "stream",
     "text": [
      "Post dropping NA: 963\n",
      "Post removing students: 961\n",
      "Post removing straightliners: 846\n",
      "Post attention chaeck failures: 846\n",
      "Post removing <0.5 median time responses: 699\n"
     ]
    }
   ],
   "source": [
    "df00 = pd.read_csv(rf\"{import_folder_path}/Indian Risk Literacy DYNATA_280525.csv\")[26:]\n",
    "\n",
    "# drop na in responses\n",
    "df01 = df00.dropna(subset = df00.columns[19:77])\n",
    "print(\"Post dropping NA:\", len(df01[\"ResponseId\"]))\n",
    "\n",
    "# removing students\n",
    "df01 = df01.loc[ ~(df01[\"Q4a\"] == \"Student\")].copy()\n",
    "print(\"Post removing students:\", len(df01[\"ResponseId\"]))\n",
    "\n",
    "# removing straight liners\n",
    "matrix = [\"Q8_1\", \"Q8_2\", \"Q8_3\", \"Q8_4\", \"Q8_5\", \"Q8_6\", \"Q8_7\", \"Q8_8\"]\n",
    "dict = {\"1 (strongly disagree)\":1 , \"2\":2, \"3\":3, \"4\":4, \"5\":5, \"6 (strongly agree)\":6}\n",
    "for ques in matrix:\n",
    "    df01[ques] = df01[ques].astype(str).replace(dict)\n",
    "df01[\"Q8_std\"] = df01[matrix].std(axis = 1)\n",
    "df01 = df01.loc[ df01[\"Q8_std\"] != 0].copy()\n",
    "print(\"Post removing straightliners:\", len(df01[\"ResponseId\"]))\n",
    "\n",
    "# attention check\n",
    "df01 = df01.loc[ df01[\"Attention Check\"] == \"Vase\"].copy()\n",
    "print(\"Post attention chaeck failures:\", len(df01[\"ResponseId\"]))\n",
    "\n",
    "# <0.5 median time of completion filtered\n",
    "df01[\"Duration (in seconds)\"] = df01[\"Duration (in seconds)\"].astype(\"Int64\")\n",
    "median = df01[\"Duration (in seconds)\"].astype(\"Int64\").median()\n",
    "df01 = df01.loc[ df01[\"Duration (in seconds)\"] >= median*0.5].copy()\n",
    "print(\"Post removing <0.5 median time responses:\", len(df01[\"ResponseId\"]))\n",
    "\n",
    "df0 = df01.iloc[:, 19:77].copy().reset_index(drop = True)\n",
    "df0.insert(0, \"ResponseId\", range(0, len(df0)))"
   ]
  },
  {
   "cell_type": "code",
   "execution_count": 4,
   "id": "ebe648c2-9979-4164-9da1-8c6e3aec8260",
   "metadata": {},
   "outputs": [],
   "source": [
    "df0[\"age\"] = df0[\"Q2\"].astype(float).copy()\n",
    "\n",
    "# Age groups/rec = [2,3,4]\n",
    "# Age group 2 = 18 to 35 y/o\n",
    "# Age group 3 = 36 to 55 y/o\n",
    "# Age group 4 = 56 to 75 y/o (75 y/o, i.e, within the scope of the data we have, it can mean 60 and above also)\n",
    "\n",
    "df0[\"age_rec\"] = np.where( (df0[\"age\"] >= 18) & (df0[\"age\"] <= 35), 2,\n",
    "                          np.where( (df0[\"age\"] >= 36) & (df0[\"age\"] <= 55), 3,\n",
    "                                   np.where( (df0[\"age\"] >= 56), 4, 0\n",
    "                                           )\n",
    "                                  )\n",
    "                         )\n",
    "\n",
    "# Secondary upto 10 – ISCED 3\n",
    "# Senior Secondary upto 12 - ISCED 3 \n",
    "# Diploma and voca – ISCED 2\n",
    "# UG – ISCED 2\n",
    "# PG – ISCED 1\n",
    "# PhD and higher – ISCED 1\n",
    "\n",
    "df0[\"isced\"] = np.where(df0[\"Q3\"] == \"Post-Graduate Program\", 1,\n",
    "                        np.where(df0[\"Q3\"] == \"Undergraduate Program\", 2,\n",
    "                                 np.where(df0[\"Q3\"] == \"Ph.D. and higher\", 1,\n",
    "                                          np.where(df0[\"Q3\"] == \"Diploma and Vocational Training\", 2,\n",
    "                                                   np.where(df0[\"Q3\"] == \"Secondary School (11th to 12th Std.)\", 3,\n",
    "                                                            np.where( df0[\"Q3\"] == \"Primary School (up to 10th Std.)\", 3,\n",
    "                                                                     np.where( df0[\"Q3\"] == \"M.Phil.\", 1, 0\n",
    "                                                                             )\n",
    "                                                                    )\n",
    "                                                           )\n",
    "                                                  )\n",
    "                                         )\n",
    "                                )\n",
    "                       )\n",
    "\n",
    "df0[\"income\"] = np.where(df0[\"Q15a\"] == \"< INR 500,000\", 1,\n",
    "                         np.where(df0[\"Q15a\"] == \"INR 500,001 – INR 15,00,000\", 2,\n",
    "                                  np.where(df0[\"Q15a\"] == \"INR 1500,001 – INR 30,00,000\", 3,\n",
    "                                           np.where(df0[\"Q15a\"] == \"INR 30,00,001 – INR 50,00,000\", 4,\n",
    "                                                    np.where(df0[\"Q15a\"] == \"INR 50,00,001 – INR 75,00,000\", 5,\n",
    "                                                             np.where( df0[\"Q15a\"] == \"> INR 75,00,000\", 6,0\n",
    "                                                                     )\n",
    "                                                            )\n",
    "                                                   )\n",
    "                                           )\n",
    "                                  )\n",
    "                         )\n",
    "\n",
    "df0[\"nonwinsorised_wealth\"] = df0[\"Q14b\"].astype(float).copy()"
   ]
  },
  {
   "cell_type": "code",
   "execution_count": 5,
   "id": "b7935167-31a4-46ee-be8e-6126429cbfab",
   "metadata": {},
   "outputs": [
    {
     "name": "stdout",
     "output_type": "stream",
     "text": [
      "Total Observations: 699\n",
      "\n",
      "Gender:\n",
      "Male      361\n",
      "Female    338\n",
      "\n",
      "Occupation:\n",
      "Salaried                       490\n",
      "Entrepreneur/Business Owner    129\n",
      "Currently not employed          68\n",
      "Retired                         12\n",
      "\n",
      "Education:\n",
      "Post-Graduate Program                   225\n",
      "Undergraduate Program                   206\n",
      "Secondary School (11th to 12th Std.)    177\n",
      "Diploma and Vocational Training          35\n",
      "Primary School (up to 10th Std.)         29\n",
      "Ph.D. and higher                         16\n",
      "M.Phil.                                  11\n",
      "\n",
      "ISCED:\n",
      "1    252\n",
      "2    241\n",
      "3    206\n",
      "\n",
      "Income:\n",
      "< INR 500,000                    194\n",
      "INR 500,001 – INR 15,00,000      221\n",
      "INR 1500,001 – INR 30,00,000     114\n",
      "INR 30,00,001 – INR 50,00,000     76\n",
      "INR 50,00,001 – INR 75,00,000     52\n",
      "> INR 75,00,000                   42\n"
     ]
    }
   ],
   "source": [
    "def remove_indexname(series): # removes index name\n",
    "    series.index.name = None\n",
    "    series.name = None\n",
    "    return series.to_string()\n",
    "\n",
    "print(\"Total Observations:\", df0[\"Q1\"].count())\n",
    "\n",
    "print(f'\\nGender:\\n{remove_indexname(df0[\"Q1\"].value_counts())}')\n",
    "print(f'\\nOccupation:\\n{remove_indexname(df0[\"Q4a\"].value_counts())}')\n",
    "print(f'\\nEducation:\\n{remove_indexname(df0[\"Q3\"].value_counts())}')\n",
    "print(f'\\nISCED:\\n{remove_indexname(df0[\"isced\"].value_counts())}')\n",
    "print(f'\\nIncome:\\n{remove_indexname(df0[\"Q15a\"].value_counts().iloc[[1, 0, 2, 3, 4, 5]])}')"
   ]
  },
  {
   "cell_type": "code",
   "execution_count": null,
   "id": "4fa14251-ddb3-435c-8b21-932174828125",
   "metadata": {},
   "outputs": [],
   "source": []
  },
  {
   "cell_type": "markdown",
   "id": "4b5dc424-61a8-42e4-b56b-3b9073f6ef03",
   "metadata": {},
   "source": [
    "## Winsorizing Wealth"
   ]
  },
  {
   "cell_type": "code",
   "execution_count": 6,
   "id": "99eddaab-ff49-448b-84ac-9059823d8a95",
   "metadata": {},
   "outputs": [
    {
     "data": {
      "text/html": [
       "<div>\n",
       "<style scoped>\n",
       "    .dataframe tbody tr th:only-of-type {\n",
       "        vertical-align: middle;\n",
       "    }\n",
       "\n",
       "    .dataframe tbody tr th {\n",
       "        vertical-align: top;\n",
       "    }\n",
       "\n",
       "    .dataframe thead th {\n",
       "        text-align: right;\n",
       "    }\n",
       "</style>\n",
       "<table border=\"1\" class=\"dataframe\">\n",
       "  <thead>\n",
       "    <tr style=\"text-align: right;\">\n",
       "      <th></th>\n",
       "      <th>nonwinsorised_wealth</th>\n",
       "      <th>winsorised_wealth</th>\n",
       "    </tr>\n",
       "  </thead>\n",
       "  <tbody>\n",
       "    <tr>\n",
       "      <th>count</th>\n",
       "      <td>6.990000e+02</td>\n",
       "      <td>6.990000e+02</td>\n",
       "    </tr>\n",
       "    <tr>\n",
       "      <th>mean</th>\n",
       "      <td>1.628566e+08</td>\n",
       "      <td>3.129498e+06</td>\n",
       "    </tr>\n",
       "    <tr>\n",
       "      <th>std</th>\n",
       "      <td>3.794346e+09</td>\n",
       "      <td>4.770219e+06</td>\n",
       "    </tr>\n",
       "    <tr>\n",
       "      <th>min</th>\n",
       "      <td>0.000000e+00</td>\n",
       "      <td>5.000000e+03</td>\n",
       "    </tr>\n",
       "    <tr>\n",
       "      <th>25%</th>\n",
       "      <td>1.000000e+05</td>\n",
       "      <td>1.000000e+05</td>\n",
       "    </tr>\n",
       "    <tr>\n",
       "      <th>50%</th>\n",
       "      <td>6.000000e+05</td>\n",
       "      <td>6.000000e+05</td>\n",
       "    </tr>\n",
       "    <tr>\n",
       "      <th>75%</th>\n",
       "      <td>4.000000e+06</td>\n",
       "      <td>4.000000e+06</td>\n",
       "    </tr>\n",
       "    <tr>\n",
       "      <th>max</th>\n",
       "      <td>1.000000e+11</td>\n",
       "      <td>1.500000e+07</td>\n",
       "    </tr>\n",
       "  </tbody>\n",
       "</table>\n",
       "</div>"
      ],
      "text/plain": [
       "       nonwinsorised_wealth  winsorised_wealth\n",
       "count          6.990000e+02       6.990000e+02\n",
       "mean           1.628566e+08       3.129498e+06\n",
       "std            3.794346e+09       4.770219e+06\n",
       "min            0.000000e+00       5.000000e+03\n",
       "25%            1.000000e+05       1.000000e+05\n",
       "50%            6.000000e+05       6.000000e+05\n",
       "75%            4.000000e+06       4.000000e+06\n",
       "max            1.000000e+11       1.500000e+07"
      ]
     },
     "execution_count": 6,
     "metadata": {},
     "output_type": "execute_result"
    }
   ],
   "source": [
    "## Winsorizing Wealth\n",
    "\n",
    "from scipy.stats.mstats import winsorize\n",
    "\n",
    "df0[\"winsorised_wealth\"] = winsorize(np.array(df0[\"nonwinsorised_wealth\"]), limits = [0.1, 0.1], inclusive = [False, False])\n",
    "df0[[\"nonwinsorised_wealth\", \"winsorised_wealth\"]].describe()"
   ]
  },
  {
   "cell_type": "code",
   "execution_count": 7,
   "id": "e50671a6-2b8b-42f7-abde-9ce3e726a9b9",
   "metadata": {},
   "outputs": [
    {
     "data": {
      "image/png": "[encoded data removed]",
      "text/plain": [
       "<Figure size 1200x600 with 2 Axes>"
      ]
     },
     "metadata": {},
     "output_type": "display_data"
    }
   ],
   "source": [
    "# WEALTH - winsorized, and non winsorized\n",
    "\n",
    "fig, axes = plt.subplots(1, 2, figsize = (12, 6))\n",
    "\n",
    "sns.kdeplot(data = df0[\"nonwinsorised_wealth\"].replace([np.inf, -np.inf], np.nan), ax = axes[0])\n",
    "axes[0].set_title('Nonwinsorised Wealth')\n",
    "\n",
    "sns.kdeplot(data = df0[\"winsorised_wealth\"].replace([np.inf, -np.inf], np.nan), ax = axes[1])\n",
    "axes[1].set_title('Winsorized Wealth')\n",
    "\n",
    "plt.tight_layout()\n",
    "plt.show()"
   ]
  },
  {
   "cell_type": "code",
   "execution_count": 8,
   "id": "706b004f-fb83-40b4-ab80-64b811077985",
   "metadata": {},
   "outputs": [],
   "source": [
    "# Using winsorised wealth as wealth\n",
    "df0[\"wealth\"] = df0[\"winsorised_wealth\"].copy()"
   ]
  },
  {
   "cell_type": "code",
   "execution_count": null,
   "id": "e08f5aa5-5263-42cf-b81f-cbac587837cd",
   "metadata": {},
   "outputs": [],
   "source": []
  },
  {
   "cell_type": "markdown",
   "id": "6ab813dc-0e4d-406d-a5d2-1b6db7fb85f4",
   "metadata": {},
   "source": [
    "## Questions"
   ]
  },
  {
   "cell_type": "code",
   "execution_count": 9,
   "id": "945ab635-98c5-450a-96de-ef48959719c5",
   "metadata": {},
   "outputs": [],
   "source": [
    "matchCol = [\"q8_2_1\", \"q8_2_2\", \"q8_2_3\", \"q8_2_4\", \"q8_2_5\", \"q8_3\", \"q8_4\", \"q8_5berlin_1\", \n",
    "            \"q8_5london_1\", \"q8_5paris_1\", \"q8_6\", \"q8_7\", \"q9_1_1\", \"q9_2_1\", \"q9_3\",\n",
    "            \"q10_1_1\", \"q10_2_1\", \"q10_3_1\", \"q10_4\"]\n",
    "df0[ matchCol ] = 0"
   ]
  },
  {
   "cell_type": "code",
   "execution_count": 10,
   "id": "8b7c1e92-9105-4f84-95a4-eced5ce3f580",
   "metadata": {},
   "outputs": [
    {
     "data": {
      "text/plain": [
       "Index(['ResponseId', 'Q1', 'Q2', 'Q3', 'Q4a', 'Q4.5_4', 'Q4.5_5', 'Q4.5_6',\n",
       "       'Q5_1', 'Q6 - changed', 'Q8_1', 'Q8_2', 'Q8_3', 'Q8_4', 'Q8_5', 'Q8_6',\n",
       "       'Q8_7', 'Q8_8', 'Q9b_1', 'Q9b_4', 'Q9b_10', 'Q9b_5', 'Q9b_11', 'Q9b_12',\n",
       "       'Q9b_6', 'Q9b_7', 'Q9b_8', 'Q9b_13', 'Q9b_14', 'Q9b_9', 'Q14b',\n",
       "       'Q11a_1', 'Q11a_2', 'Q11a_3', 'Q11b_1', 'Q11b_2', 'Q11b_3', 'Q11b_4',\n",
       "       'Q11b_5', 'Q11c', 'Q11d', 'Q11h', 'Attention Check', 'Q11i', 'Q13a',\n",
       "       'Q13b', 'Q13c', 'Q13d', 'Q12a', 'Q12b', 'Q12c', 'Q14a', 'Q14b.1',\n",
       "       'Q14c', 'Q54', 'Q57', 'Q58', 'Q15a', 'psid', 'age', 'age_rec', 'isced',\n",
       "       'income', 'nonwinsorised_wealth', 'winsorised_wealth', 'wealth',\n",
       "       'q8_2_1', 'q8_2_2', 'q8_2_3', 'q8_2_4', 'q8_2_5', 'q8_3', 'q8_4',\n",
       "       'q8_5berlin_1', 'q8_5london_1', 'q8_5paris_1', 'q8_6', 'q8_7', 'q9_1_1',\n",
       "       'q9_2_1', 'q9_3', 'q10_1_1', 'q10_2_1', 'q10_3_1', 'q10_4'],\n",
       "      dtype='object')"
      ]
     },
     "execution_count": 10,
     "metadata": {},
     "output_type": "execute_result"
    }
   ],
   "source": [
    "df0.columns"
   ]
  },
  {
   "cell_type": "code",
   "execution_count": 11,
   "id": "a6a1e858-dec1-4b0c-8b15-9c272d692bae",
   "metadata": {},
   "outputs": [],
   "source": [
    "df0[\"q8_2_1\"] = np.where(df0[\"Q11b_1\"] == \"No\", 1, 2)\n",
    "df0[\"q8_2_2\"] = np.where(df0[\"Q11b_2\"] == \"No\", 1, 2)\n",
    "df0[\"q8_2_3\"] = np.where(df0[\"Q11b_3\"] == \"No\", 1, 2)\n",
    "df0[\"q8_2_4\"] = np.where(df0[\"Q11b_4\"] == \"No\", 1, 2)\n",
    "df0[\"q8_2_5\"] = np.where(df0[\"Q11b_5\"] == \"No\", 1, 2)\n",
    "\n",
    "df0[\"q8_3\"] = np.where(df0[\"Q11c\"] == \"The lower the quality of the study, the more likely that future studies will change the risk estimate.\", 1,\n",
    "                          np.where(df0[\"Q11c\"] == \"The higher the quality of the study, the more likely that future studies will change the risk estimate.\", 2,\n",
    "                                  np.where(df0[\"Q11c\"] == \"Irrespective of the quality of the study, future studies will not change the risk estimate.\", 3,\n",
    "                                          np.where(df0[\"Q11c\"] == \"Irrespective of the quality of the study, future studies will change the risk estimate substantially anyway.\", 4,0\n",
    "                                                  )\n",
    "                                          )\n",
    "                                  )\n",
    "                         )\n",
    "\n",
    "\n",
    "df0[\"q8_4\"] = np.where(df0[\"Q11d\"] == \"The growth rate will be 0.4% on average each year\", 1,\n",
    "                          np.where(df0[\"Q11d\"] == \"The growth rate over five years will be exactly 2%\", 2,\n",
    "                                  np.where(df0[\"Q11d\"] == \"The growth rate over five years will be between 1% and 3%\", 3,\n",
    "                                          np.where(df0[\"Q11d\"] == \"It is not possible to predict the growth rate with certainty\", 4,0\n",
    "                                                  )\n",
    "                                          )\n",
    "                                  )\n",
    "                         )"
   ]
  },
  {
   "cell_type": "code",
   "execution_count": 12,
   "id": "9ae4a27c-46bb-45ab-8e6f-90bc47420885",
   "metadata": {},
   "outputs": [],
   "source": [
    "df0[\"q8_5berlin_1\"] = np.where(df0[\"Q11a_1\"].astype(int) == 1, 1, 2)\n",
    "df0[\"q8_5london_1\"] = np.where(df0[\"Q11a_1\"].astype(int) == 1, 1, 2)\n",
    "df0[\"q8_5paris_1\"] = np.where(df0[\"Q11a_1\"].astype(int) == 1, 1, 2)\n",
    "\n",
    "df0[\"q8_6\"] = np.where(df0[\"Q11i\"] == \"The medication increases recovery by 100%\", 1,\n",
    "                          np.where(df0[\"Q11i\"] == \"The medication increases recovery by 50%\", 2,\n",
    "                                   np.where(df0[\"Q11i\"] == \"The medication increases recovery by 2%\", 3,\n",
    "                                            np.where(df0[\"Q11i\"] == \"None of the above is implied\", 4, 0\n",
    "                                                    )\n",
    "                                           )\n",
    "                                  )\n",
    "                         )\n",
    "\n",
    "df0[\"q8_7\"] = np.where(df0[\"Q11h\"] == \"5 in 100 people prior to the intervention to 6 out of 100 people after the intervention\", 1,\n",
    "                          np.where(df0[\"Q11h\"] == \"100 in 10,000 people prior to the intervention to 120 out of 10,000 people after the intervention\", 2,\n",
    "                                   np.where(df0[\"Q11h\"] == \"70 in 100 people prior to the intervention to 90 out of 100 people after the intervention\", 3,\n",
    "                                            np.where(df0[\"Q11h\"] == \"It is not possible to determine which of the answers is correct given the information provided\", 4, 0\n",
    "                                                    )\n",
    "                                           )\n",
    "                                  )\n",
    "                         )\n",
    "\n",
    "\n",
    "df0[\"q9_1_1\"] = df0[\"Q14a\"].astype(float).copy()\n",
    "df0[\"q9_2_1\"] = df0[\"Q14b.1\"].astype(float).copy()\n",
    "\n",
    "df0[\"q9_3\"] = np.where(df0[\"Q14c\"] == \"Crosicol\", 1,\n",
    "                          np.where(df0[\"Q14c\"] == \"Hertinol\", 2,\n",
    "                                   np.where(df0[\"Q14c\"] == \"They are equal\", 3,\n",
    "                                            np.where(df0[\"Q14c\"] == \"Can’t say\", 4, 0\n",
    "                                                    )\n",
    "                                           )\n",
    "                                  )\n",
    "                         )"
   ]
  },
  {
   "cell_type": "code",
   "execution_count": 13,
   "id": "8af2e65b-71bc-4894-bd62-717ba4291948",
   "metadata": {},
   "outputs": [],
   "source": [
    "df0[\"q10_1_1\"] = df0[\"Q13a\"].astype(float).copy()\n",
    "df0[\"q10_2_1\"] = df0[\"Q13b\"].astype(float).copy()\n",
    "df0[\"q10_3_1\"] = df0[\"Q13c\"].astype(float).copy()\n",
    "\n",
    "df0[\"q10_4\"] = np.where(df0[\"Q13d\"] == \"9 out of 59\", 1,\n",
    "                          np.where(df0[\"Q13d\"] == \"9 out of 10\", 2,\n",
    "                                   np.where(df0[\"Q13d\"] == \"59 out of 1000\", 3,\n",
    "                                            np.where(df0[\"Q13d\"] == \"59 out of 100\", 4, 0\n",
    "                                                    )\n",
    "                                           )\n",
    "                                  )\n",
    "                         )"
   ]
  },
  {
   "cell_type": "code",
   "execution_count": null,
   "id": "eda1286f-a3c2-4335-b719-175bb4a62cac",
   "metadata": {},
   "outputs": [],
   "source": []
  },
  {
   "cell_type": "markdown",
   "id": "4f2833a6-c237-43ef-b923-d6e4bdbb403a",
   "metadata": {},
   "source": [
    "## Scoring"
   ]
  },
  {
   "cell_type": "code",
   "execution_count": 14,
   "id": "236fe4d6-aba5-4c28-a6a7-4f059b11fe99",
   "metadata": {},
   "outputs": [],
   "source": [
    "scoreColumns = [\"certainty1\", \"certainty2\", \"certainty3\", \"certainty4\", \"certainty5\",\n",
    "                \"uncertainty1\", \"uncertainty2\",\n",
    "                \"numeracy1\", \"numeracy2\", \"numeracy3\", \"numeracy4\", \"numeracy5\",\n",
    "                \"graph1\", \"graph2\", \"graph3\",\n",
    "                \"riskcomprehension1\", \"riskcomprehension2\", \"riskcomprehension3\", \"riskcomprehension4\", \"riskcomprehension5\",\n",
    "                \"bayesian1\"\n",
    "               ]\n",
    "df0[scoreColumns] = 0"
   ]
  },
  {
   "cell_type": "code",
   "execution_count": 15,
   "id": "f16f4aea-cb87-4caa-bc20-430a5c80cd64",
   "metadata": {},
   "outputs": [],
   "source": [
    "# Assigning scores\n",
    "\n",
    "def scoring1(surveyFacet):\n",
    "    surveyFacet.loc[ surveyFacet[\"q8_2_1\"] == 2, \"certainty1\"] = 1\n",
    "    surveyFacet.loc[ surveyFacet[\"q8_2_2\"] == 2, \"certainty2\"] = 1\n",
    "    surveyFacet.loc[ surveyFacet[\"q8_2_3\"] == 2, \"certainty3\"] = 1\n",
    "    surveyFacet.loc[ surveyFacet[\"q8_2_4\"] == 2, \"certainty4\"] = 1\n",
    "    surveyFacet.loc[ surveyFacet[\"q8_2_5\"] == 2, \"certainty5\"] = 1\n",
    "\n",
    "    surveyFacet.loc[ surveyFacet[\"q8_3\"] == 1, \"uncertainty1\"] = 1\n",
    "    surveyFacet.loc[ surveyFacet[\"q8_4\"] == 4, \"uncertainty2\"] = 1\n",
    "\n",
    "    surveyFacet.loc[ surveyFacet[\"q8_5berlin_1\"] == 2, \"riskcomprehension1\"] = 1\n",
    "    surveyFacet.loc[ surveyFacet[\"q8_5london_1\"] == 1, \"riskcomprehension2\"] = 1\n",
    "    surveyFacet.loc[ surveyFacet[\"q8_5paris_1\"] == 1, \"riskcomprehension3\"] = 1\n",
    "    \n",
    "    surveyFacet.loc[ surveyFacet[\"q8_6\"] == 1, \"riskcomprehension4\"] = 1\n",
    "    surveyFacet.loc[ surveyFacet[\"q8_7\"] == 4, \"riskcomprehension5\"] = 1\n",
    "\n",
    "    surveyFacet.loc[ surveyFacet[\"q9_1_1\"] == 25, \"graph1\"] = 1\n",
    "    surveyFacet.loc[ surveyFacet[\"q9_2_1\"] == 20, \"graph2\"] = 1\n",
    "    surveyFacet.loc[ surveyFacet[\"q9_3\"] == 3, \"graph3\"] = 1\n",
    "\n",
    "    surveyFacet.loc[ surveyFacet[\"q10_1_1\"] == 500, \"numeracy1\"] = 1\n",
    "    surveyFacet.loc[ surveyFacet[\"q10_2_1\"] == 10, \"numeracy2\"] = 1\n",
    "    surveyFacet.loc[ (surveyFacet[\"q10_3_1\"] == 0.1) | (surveyFacet[\"q10_3_1\"] == \".1\") | (surveyFacet[\"q10_3_1\"] == \",1\") , \"numeracy3\"] = 1\n",
    "    surveyFacet.loc[ surveyFacet[\"q10_4\"] == 1, \"bayesian1\"] = 1\n",
    "\n",
    "    # Assigning total scores\n",
    "    # surveyFacet[\"Certainty score_5\"] = surveyFacet[\"certainty1\"] + surveyFacet[\"certainty2\"] + surveyFacet[\"certainty3\"] + surveyFacet[\"certainty4\"] + surveyFacet[\"certainty5\"]\n",
    "    #surveyFacet[\"Uncertainty score_5\"] = surveyFacet[\"uncertainty1\"] + surveyFacet[\"uncertainty2\"]\n",
    "\n",
    "    #surveyFacet[\"Number Comprehension score_5\"] = surveyFacet[\"numeracy1\"] + surveyFacet[\"numeracy2\"] + surveyFacet[\"numeracy3\"] + surveyFacet[\"numeracy4\"] + surveyFacet[\"numeracy5\"]\n",
    "    #surveyFacet[\"Graph Comprehension score_5\"] = surveyFacet[\"graph1\"] + surveyFacet[\"graph2\"] + surveyFacet[\"graph3\"]\n",
    "\n",
    "    #surveyFacet[\"Calculation score_4\"] = surveyFacet[\"riskcalculation1\"] + surveyFacet[\"riskcalculation2\"] + surveyFacet[\"riskcalculation3\"] + surveyFacet[\"riskcalculation4\"]\n",
    "\n",
    "    #surveyFacet[\"Total Score_19\"] = surveyFacet[\"Certainty score_5\"] + surveyFacet[\"Uncertainty score_5\"] + surveyFacet[\"Number Comprehension score_5\"] + surveyFacet[\"Graph Comprehension score_5\"] + surveyFacet[\"Calculation score_4\"]\n",
    "\n",
    "    return surveyFacet"
   ]
  },
  {
   "cell_type": "code",
   "execution_count": 16,
   "id": "a74728ba-f67f-49bd-8d60-3c362635182c",
   "metadata": {},
   "outputs": [
    {
     "name": "stderr",
     "output_type": "stream",
     "text": [
      "100%|███████████████████████████████████████████████████████████████████████████████| 699/699 [00:02<00:00, 276.26it/s]\n"
     ]
    }
   ],
   "source": [
    "df10 = df0.groupby([\"ResponseId\"]).progress_apply(scoring1)\n",
    "df10 = df10.reset_index(drop = True).dropna().copy()"
   ]
  },
  {
   "cell_type": "code",
   "execution_count": 17,
   "id": "21d54760-759c-4ef2-9957-1e6c900f3623",
   "metadata": {},
   "outputs": [],
   "source": [
    "def scoring2(survey):\n",
    "    \n",
    "    survey[\"Certainty_5\"] = survey[\"certainty1\"] + survey[\"certainty2\"] + survey[\"certainty3\"] + survey[\"certainty4\"] + survey[\"certainty5\"]\n",
    "    \n",
    "    survey[\"Uncertainty_2\"] = survey[\"uncertainty1\"] + survey[\"uncertainty2\"]\n",
    "    \n",
    "    survey[\"RiskComprehension_5\"] = survey[\"riskcomprehension1\"] + survey[\"riskcomprehension2\"] + survey[\"riskcomprehension3\"] + survey[\"riskcomprehension4\"] + survey[\"riskcomprehension5\"]\n",
    "    \n",
    "    survey[\"GraphLiteracy_3\"] = survey[\"graph1\"] + survey[\"graph2\"] + survey[\"graph3\"]\n",
    "    \n",
    "    survey[\"Numeracy_3\"] = survey[\"numeracy1\"] + survey[\"numeracy2\"] + survey[\"numeracy3\"]\n",
    "    \n",
    "    survey[\"Bayesianreasoning_1\"] = survey[\"bayesian1\"]\n",
    "    \n",
    "    survey[\"TotalScore_19\"] = survey[\"Certainty_5\"] + survey[\"Uncertainty_2\"] + survey[\"RiskComprehension_5\"] + survey[\"GraphLiteracy_3\"] + survey[\"Numeracy_3\"] + survey[\"Bayesianreasoning_1\"]\n",
    "    \n",
    "    survey[\"Certainty_%\"] = survey[\"Certainty_5\"] / 5 * 100\n",
    "    survey[\"Uncertainty_%\"] = survey[\"Uncertainty_2\"] / 2 * 100\n",
    "    survey[\"RiskComprehension_%\"] = survey[\"RiskComprehension_5\"] / 5 * 100\n",
    "    survey[\"GraphLiteracy_%\"] = survey[\"GraphLiteracy_3\"] / 3 * 100\n",
    "    survey[\"Numeracy_%\"] = survey[\"Numeracy_3\"] / 3 * 100\n",
    "    survey[\"Bayesianreasoning_%\"] = survey[\"Bayesianreasoning_1\"] / 1 * 100\n",
    "    \n",
    "    survey[\"TotalScore_%\"] = survey[\"TotalScore_19\"] / 19 * 100\n",
    "    \n",
    "    \n",
    "    colReq = [\"ResponseId\", \"age\", \"age_rec\", \"isced\", \"income\", \"wealth\", \"Certainty_5\", \"Uncertainty_2\", \"RiskComprehension_5\", \"GraphLiteracy_3\",\n",
    "              \"Numeracy_3\", \"Bayesianreasoning_1\", \"Certainty_%\", \"Uncertainty_%\", \"RiskComprehension_%\", \"GraphLiteracy_%\", \"Numeracy_%\", \"Bayesianreasoning_%\",\n",
    "              \"TotalScore_19\", \"TotalScore_%\",]\n",
    "    \n",
    "    survey1 = survey[colReq].copy()\n",
    "    return survey1"
   ]
  },
  {
   "cell_type": "code",
   "execution_count": 18,
   "id": "29b45247-f759-49f1-93b8-dd599105bf5b",
   "metadata": {},
   "outputs": [],
   "source": [
    "df11 = scoring2(df10)"
   ]
  },
  {
   "cell_type": "code",
   "execution_count": 1,
   "id": "f490b90e-1c5f-4ad6-8b33-559dcfcf5f52",
   "metadata": {},
   "outputs": [
    {
     "ename": "NameError",
     "evalue": "name 'df02' is not defined",
     "output_type": "error",
     "traceback": [
      "\u001b[1;31m---------------------------------------------------------------------------\u001b[0m",
      "\u001b[1;31mNameError\u001b[0m                                 Traceback (most recent call last)",
      "Cell \u001b[1;32mIn[1], line 1\u001b[0m\n\u001b[1;32m----> 1\u001b[0m euro \u001b[38;5;241m=\u001b[39m df02\u001b[38;5;241m.\u001b[39mcopy()\n",
      "\u001b[1;31mNameError\u001b[0m: name 'df02' is not defined"
     ]
    }
   ],
   "source": [
    "euro = df02.copy()"
   ]
  },
  {
   "cell_type": "code",
   "execution_count": null,
   "id": "2f25a243-cae8-44d0-b6c3-7b9a2e11c1df",
   "metadata": {},
   "outputs": [],
   "source": [
    "# will be used later\n",
    "wealth_quartile = pd.qcut(euro.loc[~ (euro[\"wealth\"]==-1)][\"wealth\"],q = 4, labels = False, duplicates = \"raise\" )"
   ]
  },
  {
   "cell_type": "code",
   "execution_count": null,
   "id": "ec4f6fce-1d8e-4f19-af45-4f108cf72b43",
   "metadata": {},
   "outputs": [],
   "source": []
  },
  {
   "cell_type": "markdown",
   "id": "64375958-904a-465e-a080-9becd40934ad",
   "metadata": {},
   "source": [
    "---"
   ]
  },
  {
   "cell_type": "markdown",
   "id": "397a8de8-6adf-40b2-b675-e8dc7004de39",
   "metadata": {},
   "source": [
    "---"
   ]
  },
  {
   "cell_type": "code",
   "execution_count": null,
   "id": "e4eb6e1a-df79-40f4-8925-3afc27e5b72f",
   "metadata": {},
   "outputs": [],
   "source": [
    "#Global Vras:\n",
    "facet_cols = [\"Certainty_5\", \"Uncertainty_2\", \"RiskComprehension_5\", \"GraphLiteracy_3\",\n",
    "              \"Numeracy_3\", \"Bayesianreasoning_1\"]\n",
    "\n",
    "facet_percent_cols = [\"Certainty_%\", \"Uncertainty_%\", \"RiskComprehension_%\", \"GraphLiteracy_%\",\n",
    "                      \"Numeracy_%\", \"Bayesianreasoning_%\",]"
   ]
  },
  {
   "cell_type": "markdown",
   "id": "819d7f82-8933-439b-8fae-dc66883dcc36",
   "metadata": {},
   "source": [
    "# Study 2 - Europe"
   ]
  },
  {
   "cell_type": "markdown",
   "id": "475fc5c7-6d5a-44aa-bf65-3ec173713aee",
   "metadata": {},
   "source": [
    "## Table 1.1 - Per country: Mean Total Score + SD"
   ]
  },
  {
   "cell_type": "code",
   "execution_count": null,
   "id": "fb04947f-115c-49d4-b88b-d872c07ed27c",
   "metadata": {},
   "outputs": [],
   "source": [
    "fig, axes = plt.subplots(1, 1, figsize = [12, 6])\n",
    "\n",
    "mean_scores = euro.groupby(\"country_text\")[\"TotalScore_19\"].mean().sort_index()\n",
    "std_scores = euro.groupby(\"country_text\")[\"TotalScore_19\"].std().reindex(mean_scores.index)\n",
    "sem_scores = euro.groupby(\"country_text\")[\"TotalScore_19\"].sem().reindex(mean_scores.index)\n",
    "\n",
    "axes.bar(mean_scores.index, mean_scores.values, color=\"skyblue\", edgecolor='black')\n",
    "axes.errorbar(mean_scores.index, mean_scores.values, yerr = [np.zeros_like(sem_scores), sem_scores],\n",
    "                     fmt = \"none\", capsize = 2, alpha = 0.8, zorder = 0)\n",
    "\n",
    "axes.set_yticks(np.arange(0, 21))\n",
    "axes.tick_params(axis = \"x\", rotation = 45)\n",
    "\n",
    "for i, (mean, std, sem) in enumerate(zip(mean_scores.values, std_scores.values, sem_scores.values)):\n",
    "    axes.text(i, mean + 0.5, f\"± {sem:.3f}\", ha = \"right\", va = \"bottom\", fontsize=8, color=\"black\", rotation = 90)\n",
    "    axes.text(i, 2, f\"Mean = {mean:.1f}\", ha = \"center\", va = \"center\",\n",
    "              color='white', fontsize=10, fontweight='bold')\n",
    "    axes.text(i, 1, f\"SD = {std:.1f}\", ha = \"center\", va = \"center\",\n",
    "              color='black', fontsize=8, fontweight='bold')\n",
    "    \n",
    "\n",
    "axes.set_title(\"Mean Total score by country\\nwith 1 std. dev. (1 decimal)\", pad = 20)\n",
    "axes.set_ylabel(\"Mean Total score\")"
   ]
  },
  {
   "cell_type": "markdown",
   "id": "5e3abdcb-fd83-4cf4-bcce-f36a5e6bba6f",
   "metadata": {},
   "source": [
    "---"
   ]
  },
  {
   "cell_type": "markdown",
   "id": "66242c27-b3b1-4ddd-b547-2da138bd5434",
   "metadata": {},
   "source": [
    "## Table 1.2 - Per country: Mean Facet Scores + SD (Ver. 1)"
   ]
  },
  {
   "cell_type": "code",
   "execution_count": null,
   "id": "627394b8-b7ae-448c-af6d-e5665563db01",
   "metadata": {},
   "outputs": [],
   "source": [
    "fig, axes = plt.subplots(3, 2, figsize = [12, 12])\n",
    "axes = axes.flatten()\n",
    "\n",
    "for i, facet in enumerate(facet_cols):\n",
    "    mean_scores = euro.groupby(\"country_text\")[facet].mean().sort_index()\n",
    "    std_scores = euro.groupby(\"country_text\")[facet].std().reindex(mean_scores.index)\n",
    "    sem_scores = euro.groupby(\"country_text\")[facet].sem().reindex(mean_scores.index)\n",
    "    \n",
    "    axes[i].bar(mean_scores.index, mean_scores.values, color=\"skyblue\", edgecolor='black')\n",
    "    axes[i].errorbar(mean_scores.index, mean_scores.values, yerr = [np.zeros_like(sem_scores), sem_scores],\n",
    "                     fmt = \"none\", capsize = 2, alpha = 0.8, zorder = 0)\n",
    "\n",
    "    y_max = int(facet.split(\"_\")[1])\n",
    "    axes[i].set_yticks(np.arange(0, y_max + 1))\n",
    "    axes[i].tick_params(axis = \"x\", rotation = 45)\n",
    "    \n",
    "    for j, (mean, std, sem) in enumerate(zip(mean_scores.values, std_scores.values, sem_scores.values)):\n",
    "        axes[i].text(j, mean + 0.025 * y_max, f\"± {sem:.3f}\", ha = \"right\", va = \"bottom\", fontsize=8, color=\"black\", rotation = 90)\n",
    "        axes[i].text(j, 0.1 * y_max, f\"{mean:.1f}\", ha = \"center\", va = \"bottom\",\n",
    "                     color='white', fontsize=10, fontweight='bold')\n",
    "        axes[i].text(j, 0.025 * y_max, f\"{std:.1f}\", ha = \"center\", va = \"bottom\",\n",
    "                     color='black', fontsize=8, fontweight='bold')\n",
    "\n",
    "        \n",
    "    \n",
    "    axes[i].set_title(f\"Mean {facet} by country\\nwith ±1 std. dev. (1 decimal)\", pad = 20)\n",
    "    axes[i].set_ylabel(f\"Mean {facet}  score\")\n",
    "\n",
    "\n",
    "plt.tight_layout()\n",
    "plt.show()"
   ]
  },
  {
   "cell_type": "code",
   "execution_count": null,
   "id": "a66c8236-7bfe-4d87-a5e6-e67d94f3f577",
   "metadata": {},
   "outputs": [],
   "source": []
  },
  {
   "cell_type": "code",
   "execution_count": null,
   "id": "699a3fa9-7ab1-4814-a4ba-84166eabd16b",
   "metadata": {},
   "outputs": [],
   "source": []
  },
  {
   "cell_type": "code",
   "execution_count": null,
   "id": "bfa91dc0-51ed-4a81-bf68-088383436500",
   "metadata": {},
   "outputs": [],
   "source": []
  },
  {
   "cell_type": "code",
   "execution_count": null,
   "id": "a7b7dd7a-56bc-4742-9085-fd8d3ecffc8c",
   "metadata": {},
   "outputs": [],
   "source": []
  },
  {
   "cell_type": "code",
   "execution_count": null,
   "id": "a2f5bebe-7912-4b3e-aac1-b849dc03e9d6",
   "metadata": {},
   "outputs": [],
   "source": []
  },
  {
   "cell_type": "code",
   "execution_count": null,
   "id": "2ee909b3-3c59-4b83-bc6e-bc07c6cdbbd4",
   "metadata": {},
   "outputs": [],
   "source": []
  },
  {
   "cell_type": "code",
   "execution_count": null,
   "id": "26cbd05b-293b-4dcb-bd1a-17d34b83eb8b",
   "metadata": {},
   "outputs": [],
   "source": []
  },
  {
   "cell_type": "code",
   "execution_count": null,
   "id": "e06e6b7e-f230-4846-bf6c-9fce1580a7d3",
   "metadata": {},
   "outputs": [],
   "source": []
  },
  {
   "cell_type": "code",
   "execution_count": null,
   "id": "64813c3a-6a43-4241-88a3-5cd787d5959a",
   "metadata": {},
   "outputs": [],
   "source": []
  }
 ],
 "metadata": {
  "kernelspec": {
   "display_name": "Python 3 (ipykernel)",
   "language": "python",
   "name": "python3"
  },
  "language_info": {
   "codemirror_mode": {
    "name": "ipython",
    "version": 3
   },
   "file_extension": ".py",
   "mimetype": "text/x-python",
   "name": "python",
   "nbconvert_exporter": "python",
   "pygments_lexer": "ipython3",
   "version": "3.11.7"
  }
 },
 "nbformat": 4,
 "nbformat_minor": 5
}
