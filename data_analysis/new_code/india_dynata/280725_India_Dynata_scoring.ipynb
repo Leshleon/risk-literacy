{
 "cells": [
  {
   "cell_type": "code",
   "execution_count": 1,
   "id": "a7cae5aa-64c8-4388-9066-175d15fdea21",
   "metadata": {},
   "outputs": [],
   "source": [
    "import pandas as pd\n",
    "import numpy as np\n",
    "import scipy as sp\n",
    "\n",
    "import seaborn as sns\n",
    "import matplotlib.pyplot as plt\n",
    "import matplotlib.gridspec as gridspec\n",
    "import mpl_toolkits as mplot3d\n",
    "\n",
    "pd.set_option(\"display.max_columns\", None)\n",
    "pd.set_option('future.no_silent_downcasting', True)\n",
    "\n",
    "from tqdm import tqdm\n",
    "tqdm.pandas()"
   ]
  },
  {
   "cell_type": "code",
   "execution_count": 2,
   "id": "eefdfbff-e216-42d6-a178-41b00cb54c60",
   "metadata": {},
   "outputs": [],
   "source": [
    "import_folder_path = rf\"../../data_cleaned/india/dynata\""
   ]
  },
  {
   "cell_type": "markdown",
   "id": "ed4dd628-1933-46a2-b3fa-4c0b672b482a",
   "metadata": {},
   "source": [
    "# DATA WRANGLING"
   ]
  },
  {
   "cell_type": "code",
   "execution_count": 3,
   "id": "d0e0c16a-6cd4-4e05-a315-d2e2f01f32e7",
   "metadata": {},
   "outputs": [
    {
     "name": "stdout",
     "output_type": "stream",
     "text": [
      "Post dropping NA: 963\n",
      "Post removing students: 961\n",
      "Post removing straightliners: 846\n",
      "Post attention chaeck failures: 846\n",
      "Post removing <0.5 median time responses: 699\n"
     ]
    }
   ],
   "source": [
    "df00 = pd.read_csv(rf\"{import_folder_path}/Indian Risk Literacy DYNATA_280525.csv\")[26:]\n",
    "df00[[\"Q9b_11\", \"Q9b_5\", \"Q9b_6\", \"Q9b_12\"]] = df00[[\"Q9b_11\", \"Q9b_5\", \"Q9b_6\", \"Q9b_12\"]].astype(float)\n",
    "df00[\"Q9b_11\"] = df00[\"Q9b_5\"] + df00[\"Q9b_11\"]\n",
    "df00[\"Q9b_12\"] = df00[\"Q9b_6\"] + df00[\"Q9b_12\"]\n",
    "df00.drop([\"Q9b_5\", \"Q9b_6\"], axis = 1, inplace = True)\n",
    "# \n",
    "df00.rename({\"ResponseId\":\"responseid\"}, axis = 1, inplace = True)\n",
    "\n",
    "# drop na in responses\n",
    "df01 = df00.dropna(subset = df00.columns[19:77])\n",
    "print(\"Post dropping NA:\", len(df01[\"responseid\"]))\n",
    "\n",
    "# removing students\n",
    "df01 = df01.loc[ ~(df01[\"Q4a\"] == \"Student\")].copy()\n",
    "print(\"Post removing students:\", len(df01[\"responseid\"]))\n",
    "\n",
    "# removing straight liners\n",
    "matrix = [\"Q8_1\", \"Q8_2\", \"Q8_3\", \"Q8_4\", \"Q8_5\", \"Q8_6\", \"Q8_7\", \"Q8_8\"]\n",
    "conversion_dict = {\"1 (strongly disagree)\":1 , \"2\":2, \"3\":3, \"4\":4, \"5\":5, \"6 (strongly agree)\":6}\n",
    "for ques in matrix:\n",
    "    df01[ques] = df01[ques].astype(str).replace(conversion_dict)\n",
    "\n",
    "df01[ques] = pd.to_numeric(df01[ques], errors='coerce')\n",
    "\n",
    "df01[\"Q8_std\"] = df01[matrix].std(axis = 1)\n",
    "df01 = df01.loc[ df01[\"Q8_std\"] != 0].copy()\n",
    "print(\"Post removing straightliners:\", len(df01[\"responseid\"]))\n",
    "\n",
    "# attention check\n",
    "df01 = df01.loc[ df01[\"Attention Check\"] == \"Vase\"].copy()\n",
    "print(\"Post attention chaeck failures:\", len(df01[\"responseid\"]))\n",
    "\n",
    "# <0.5 median time of completion filtered\n",
    "df01[\"Duration (in seconds)\"] = df01[\"Duration (in seconds)\"].astype(\"Int64\")\n",
    "median = df01[\"Duration (in seconds)\"].astype(\"Int64\").median()\n",
    "df01 = df01.loc[ df01[\"Duration (in seconds)\"] >= median*0.5].copy()\n",
    "print(\"Post removing <0.5 median time responses:\", len(df01[\"responseid\"]))\n",
    "\n",
    "# # ONLY SALARIED \n",
    "# df01 = df01.loc[ df01[\"Q4a\"] == \"Salaried\"].copy()\n",
    "# print(\"Post removing non-salaried responses:\", len(df01[\"responseid\"]))\n",
    "\n",
    "df0 = df01.iloc[:, 19:77].copy().reset_index(drop = True)\n",
    "df0.insert(0, \"responseid\", range(0, len(df0)))"
   ]
  },
  {
   "cell_type": "code",
   "execution_count": 4,
   "id": "2a12b514-680e-4db7-8b53-490e24f1a721",
   "metadata": {},
   "outputs": [],
   "source": [
    "df0[\"age\"] = df0[\"Q2\"].astype(float).copy()\n",
    "df0[\"gender_text\"] = df0[\"Q1\"]\n",
    "\n",
    "# Age groups/rec = [2,3,4]\n",
    "# Age group 2 = 18 to 35 y/o\n",
    "# Age group 3 = 36 to 55 y/o\n",
    "# Age group 4 = 56 to 75 y/o (75 y/o, i.e, within the scope of the data we have, it can mean 60 and above also)\n",
    "\n",
    "df0[\"age_rec\"] = np.where( (df0[\"age\"] >= 18) & (df0[\"age\"] <= 35), 2,\n",
    "                          np.where( (df0[\"age\"] >= 36) & (df0[\"age\"] <= 55), 3,\n",
    "                                   np.where( (df0[\"age\"] >= 56), 4, 0\n",
    "                                           )\n",
    "                                  )\n",
    "                         )\n",
    "\n",
    "# Secondary upto 10 – ISCED 3\n",
    "# Senior Secondary upto 12 - ISCED 3 \n",
    "# Diploma and voca – ISCED 2\n",
    "# UG – ISCED 2\n",
    "# PG – ISCED 1\n",
    "# PhD and higher – ISCED 1\n",
    "\n",
    "df0[\"isced\"] = np.where(df0[\"Q3\"] == \"Post-Graduate Program\", 1,\n",
    "                        np.where(df0[\"Q3\"] == \"Undergraduate Program\", 2,\n",
    "                                 np.where(df0[\"Q3\"] == \"Ph.D. and higher\", 1,\n",
    "                                          np.where(df0[\"Q3\"] == \"Diploma and Vocational Training\", 2,\n",
    "                                                   np.where(df0[\"Q3\"] == \"Secondary School (11th to 12th Std.)\", 3,\n",
    "                                                            np.where( df0[\"Q3\"] == \"Primary School (up to 10th Std.)\", 3,\n",
    "                                                                     np.where( df0[\"Q3\"] == \"M.Phil.\", 1, 0\n",
    "                                                                             )\n",
    "                                                                    )\n",
    "                                                           )\n",
    "                                                  )\n",
    "                                         )\n",
    "                                )\n",
    "                       )\n",
    "\n",
    "df0[\"income\"] = np.where(df0[\"Q15a\"] == \"< INR 500,000\", 1,\n",
    "                         np.where(df0[\"Q15a\"] == \"INR 500,001 – INR 15,00,000\", 2,\n",
    "                                  np.where(df0[\"Q15a\"] == \"INR 1500,001 – INR 30,00,000\", 3,\n",
    "                                           np.where(df0[\"Q15a\"] == \"INR 30,00,001 – INR 50,00,000\", 4,\n",
    "                                                    np.where(df0[\"Q15a\"] == \"INR 50,00,001 – INR 75,00,000\", 5,\n",
    "                                                             np.where( df0[\"Q15a\"] == \"> INR 75,00,000\", 6, -1\n",
    "                                                                     )\n",
    "                                                            )\n",
    "                                                   )\n",
    "                                           )\n",
    "                                  )\n",
    "                         )\n",
    "\n",
    "df0[\"wealth\"] = df0[\"Q14b\"].astype(float).copy()"
   ]
  },
  {
   "cell_type": "code",
   "execution_count": 5,
   "id": "caf0921e",
   "metadata": {},
   "outputs": [
    {
     "name": "stdout",
     "output_type": "stream",
     "text": [
      "Total Observations: 699\n",
      "\n",
      "Gender:\n",
      "Male      361\n",
      "Female    338\n",
      "\n",
      "Occupation:\n",
      "Salaried                       490\n",
      "Entrepreneur/Business Owner    129\n",
      "Currently not employed          68\n",
      "Retired                         12\n",
      "\n",
      "Education:\n",
      "Post-Graduate Program                   225\n",
      "Undergraduate Program                   206\n",
      "Secondary School (11th to 12th Std.)    177\n",
      "Diploma and Vocational Training          35\n",
      "Primary School (up to 10th Std.)         29\n",
      "Ph.D. and higher                         16\n",
      "M.Phil.                                  11\n",
      "\n",
      "ISCED:\n",
      "1    252\n",
      "2    241\n",
      "3    206\n",
      "\n",
      "Income:\n",
      "< INR 500,000                    194\n",
      "INR 500,001 – INR 15,00,000      221\n",
      "INR 1500,001 – INR 30,00,000     114\n",
      "INR 30,00,001 – INR 50,00,000     76\n",
      "INR 50,00,001 – INR 75,00,000     52\n",
      "> INR 75,00,000                   42\n"
     ]
    }
   ],
   "source": [
    "def remove_indexname(series): # removes index name\n",
    "    series.index.name = None\n",
    "    series.name = None\n",
    "    return series.to_string()\n",
    "\n",
    "print(\"Total Observations:\", df0[\"Q1\"].count())\n",
    "\n",
    "print(f'\\nGender:\\n{remove_indexname(df0[\"Q1\"].value_counts())}')\n",
    "print(f'\\nOccupation:\\n{remove_indexname(df0[\"Q4a\"].value_counts())}')\n",
    "print(f'\\nEducation:\\n{remove_indexname(df0[\"Q3\"].value_counts())}')\n",
    "print(f'\\nISCED:\\n{remove_indexname(df0[\"isced\"].value_counts())}')\n",
    "\n",
    "vc_income = df0[\"Q15a\"].value_counts()\n",
    "income = vc_income.iloc[[1, 0, 2, 3, 4, 5]]\n",
    "print(f'\\nIncome:\\n{remove_indexname(income)}')"
   ]
  },
  {
   "cell_type": "markdown",
   "id": "dcf69576-6a42-46ef-aba0-442b48155fc9",
   "metadata": {},
   "source": [
    "## Questions"
   ]
  },
  {
   "cell_type": "code",
   "execution_count": 6,
   "id": "19bb2a29-0444-46e6-8a09-b7f6bff3b36a",
   "metadata": {},
   "outputs": [
    {
     "data": {
      "text/plain": [
       "Index(['responseid', 'Q1', 'Q2', 'Q3', 'Q4a', 'Q4.5_4', 'Q4.5_5', 'Q4.5_6',\n",
       "       'Q5_1', 'Q6 - changed', 'Q8_1', 'Q8_2', 'Q8_3', 'Q8_4', 'Q8_5', 'Q8_6',\n",
       "       'Q8_7', 'Q8_8', 'Q9b_1', 'Q9b_4', 'Q9b_10', 'Q9b_11', 'Q9b_12', 'Q9b_7',\n",
       "       'Q9b_8', 'Q9b_13', 'Q9b_14', 'Q9b_9', 'Q14b', 'Q11a_1', 'Q11a_2',\n",
       "       'Q11a_3', 'Q11b_1', 'Q11b_2', 'Q11b_3', 'Q11b_4', 'Q11b_5', 'Q11c',\n",
       "       'Q11d', 'Q11h', 'Attention Check', 'Q11i', 'Q13a', 'Q13b', 'Q13c',\n",
       "       'Q13d', 'Q12a', 'Q12b', 'Q12c', 'Q14a', 'Q14b.1', 'Q14c', 'Q54', 'Q57',\n",
       "       'Q58', 'Q15a', 'psid', 'entrySigCheck', 'verification', 'age',\n",
       "       'gender_text', 'age_rec', 'isced', 'income', 'wealth'],\n",
       "      dtype='object')"
      ]
     },
     "execution_count": 6,
     "metadata": {},
     "output_type": "execute_result"
    }
   ],
   "source": [
    "df0.columns"
   ]
  },
  {
   "cell_type": "code",
   "execution_count": 7,
   "id": "2e6ee808-f022-4b95-a044-8e43e6c1e4a4",
   "metadata": {},
   "outputs": [],
   "source": [
    "df0[\"q8_2_1\"] = np.where(df0[\"Q11b_1\"] == \"No\", 1, 2)\n",
    "df0[\"q8_2_2\"] = np.where(df0[\"Q11b_2\"] == \"No\", 1, 2)\n",
    "df0[\"q8_2_3\"] = np.where(df0[\"Q11b_3\"] == \"No\", 1, 2)\n",
    "df0[\"q8_2_4\"] = np.where(df0[\"Q11b_4\"] == \"No\", 1, 2)\n",
    "df0[\"q8_2_5\"] = np.where(df0[\"Q11b_5\"] == \"No\", 1, 2)\n",
    "\n",
    "df0[\"q8_3\"] = np.where(df0[\"Q11c\"] == \"The lower the quality of the study, the more likely that future studies will change the risk estimate.\", 1,\n",
    "                          np.where(df0[\"Q11c\"] == \"The higher the quality of the study, the more likely that future studies will change the risk estimate.\", 2,\n",
    "                                  np.where(df0[\"Q11c\"] == \"Irrespective of the quality of the study, future studies will not change the risk estimate.\", 3,\n",
    "                                          np.where(df0[\"Q11c\"] == \"Irrespective of the quality of the study, future studies will change the risk estimate substantially anyway.\", 4,0\n",
    "                                                  )\n",
    "                                          )\n",
    "                                  )\n",
    "                         )\n",
    "\n",
    "\n",
    "df0[\"q8_4\"] = np.where(df0[\"Q11d\"] == \"The growth rate will be 0.4% on average each year\", 1,\n",
    "                          np.where(df0[\"Q11d\"] == \"The growth rate over five years will be exactly 2%\", 2,\n",
    "                                  np.where(df0[\"Q11d\"] == \"The growth rate over five years will be between 1% and 3%\", 3,\n",
    "                                          np.where(df0[\"Q11d\"] == \"It is not possible to predict the growth rate with certainty\", 4,0\n",
    "                                                  )\n",
    "                                          )\n",
    "                                  )\n",
    "                         )"
   ]
  },
  {
   "cell_type": "code",
   "execution_count": 8,
   "id": "fb4465ba-21f0-43f1-bd7d-80f9c1f6f45b",
   "metadata": {},
   "outputs": [],
   "source": [
    "df0[\"q8_5berlin_1\"] = np.where(df0[\"Q11a_1\"].astype(int) == 1, 1, 2)\n",
    "df0[\"q8_5london_1\"] = np.where(df0[\"Q11a_1\"].astype(int) == 1, 1, 2)\n",
    "df0[\"q8_5paris_1\"] = np.where(df0[\"Q11a_1\"].astype(int) == 1, 1, 2)\n",
    "\n",
    "df0[\"q8_6\"] = np.where(df0[\"Q11i\"] == \"The medication increases recovery by 100%\", 1,\n",
    "                          np.where(df0[\"Q11i\"] == \"The medication increases recovery by 50%\", 2,\n",
    "                                   np.where(df0[\"Q11i\"] == \"The medication increases recovery by 2%\", 3,\n",
    "                                            np.where(df0[\"Q11i\"] == \"None of the above is implied\", 4, 0\n",
    "                                                    )\n",
    "                                           )\n",
    "                                  )\n",
    "                         )\n",
    "\n",
    "df0[\"q8_7\"] = np.where(df0[\"Q11h\"] == \"5 in 100 people prior to the intervention to 6 out of 100 people after the intervention\", 1,\n",
    "                          np.where(df0[\"Q11h\"] == \"100 in 10,000 people prior to the intervention to 120 out of 10,000 people after the intervention\", 2,\n",
    "                                   np.where(df0[\"Q11h\"] == \"70 in 100 people prior to the intervention to 90 out of 100 people after the intervention\", 3,\n",
    "                                            np.where(df0[\"Q11h\"] == \"It is not possible to determine which of the answers is correct given the information provided\", 4, 0\n",
    "                                                    )\n",
    "                                           )\n",
    "                                  )\n",
    "                         )\n",
    "\n",
    "\n",
    "df0[\"q9_1_1\"] = df0[\"Q14a\"].astype(float).copy()\n",
    "df0[\"q9_2_1\"] = df0[\"Q14b.1\"].astype(float).copy()\n",
    "\n",
    "df0[\"q9_3\"] = np.where(df0[\"Q14c\"] == \"Crosicol\", 1,\n",
    "                          np.where(df0[\"Q14c\"] == \"Hertinol\", 2,\n",
    "                                   np.where(df0[\"Q14c\"] == \"They are equal\", 3,\n",
    "                                            np.where(df0[\"Q14c\"] == \"Can’t say\", 4, 0\n",
    "                                                    )\n",
    "                                           )\n",
    "                                  )\n",
    "                         )"
   ]
  },
  {
   "cell_type": "code",
   "execution_count": 9,
   "id": "1b069174-b1c2-45ae-8576-91af25a7edef",
   "metadata": {},
   "outputs": [],
   "source": [
    "df0[\"q10_1_1\"] = df0[\"Q13a\"].astype(float).copy()\n",
    "df0[\"q10_2_1\"] = df0[\"Q13b\"].astype(float).copy()\n",
    "df0[\"q10_3_1\"] = df0[\"Q13c\"].astype(float).copy()\n",
    "\n",
    "df0[\"q10_4\"] = np.where(df0[\"Q13d\"] == \"9 out of 59\", 1,\n",
    "                          np.where(df0[\"Q13d\"] == \"9 out of 10\", 2,\n",
    "                                   np.where(df0[\"Q13d\"] == \"59 out of 1000\", 3,\n",
    "                                            np.where(df0[\"Q13d\"] == \"59 out of 100\", 4, 0\n",
    "                                                    )\n",
    "                                           )\n",
    "                                  )\n",
    "                         )"
   ]
  },
  {
   "cell_type": "code",
   "execution_count": 10,
   "id": "5633f00b-418d-4098-8bcf-28197dce9f05",
   "metadata": {},
   "outputs": [],
   "source": [
    "# Dynata Only\n",
    "\n",
    "further_analysis_cols = [\n",
    "    \"Q5_1\", \"Q6 - changed\",\n",
    "    \"Q8_1\", \"Q8_2\", \"Q8_3\", \"Q8_4\", \"Q8_5\", \"Q8_6\", \"Q8_7\", \"Q8_8\",\n",
    "    \"Q9b_1\", \"Q9b_4\", \"Q9b_10\", \"Q9b_11\", \"Q9b_12\",\n",
    "    \"Q9b_7\", \"Q9b_8\", \"Q9b_13\", \"Q9b_14\",\n",
    "    \"Q12a\", \"Q12b\", \"Q12c\"\n",
    "    ] # not used\n",
    "\n",
    "\n",
    "df0[\"Q5_1\"] = df0[\"Q5_1\"].astype(str)\n",
    "df0[\"Q5_score\"] = np.where(df0[\"Q5_1\"] == \"0 (unwilling to take risk)\", 0,\n",
    "                           np.where(df0[\"Q5_1\"] == \"1\", 1,\n",
    "                                    np.where(df0[\"Q5_1\"] == \"2\", 2,\n",
    "                                             np.where(df0[\"Q5_1\"] == \"3\", 3,\n",
    "                                                  np.where(df0[\"Q5_1\"] == \"4\", 4,\n",
    "                                                           np.where(df0[\"Q5_1\"] == \"5\", 5,\n",
    "                                                                    np.where(df0[\"Q5_1\"] == \"6\", 6,\n",
    "                                                                             np.where(df0[\"Q5_1\"] == \"7 (willing to take risk)\", 7, -1\n",
    "                                                                                      )\n",
    "                                                                             )\n",
    "                                                                    )\n",
    "                                                           )\n",
    "                                                      )\n",
    "                                             )\n",
    "                                    )\n",
    "                           )\n",
    "\n",
    "df0[\"Q6 - changed\"] = df0[\"Q6 - changed\"].astype(str)\n",
    "df0[\"Q6_score\"] = np.where(df0[\"Q6 - changed\"] == \"Definitely no experience\", 0,\n",
    "                           np.where(df0[\"Q6 - changed\"] == \"Rather little experience\", 1,\n",
    "                                        np.where(df0[\"Q6 - changed\"] == \"Some experience\", 2,\n",
    "                                                 np.where(df0[\"Q6 - changed\"] == \"Rather much experience\", 3,\n",
    "                                                          np.where(df0[\"Q6 - changed\"] == \"Definitely very much experience\", 4, -1\n",
    "                                                                   )\n",
    "                                                          )\n",
    "                                                 )\n",
    "                                        )\n",
    "                           )\n",
    "\n",
    "# financial planning 2\n",
    "cols = [\"Q8_1\", \"Q8_2\", \"Q8_3\", \"Q8_4\", \"Q8_5\", \"Q8_6\", \"Q8_7\", \"Q8_8\"]\n",
    "df0[cols] = df0[cols].astype(int)\n",
    "df0[\"Q8_total\"] = df0[cols].sum(axis = 1)\n",
    "\n",
    "# financial planning 1\n",
    "cols = [\"Q8_1\", \"Q8_2\", \"Q8_3\", \"Q8_4\", \"Q8_5\", \"Q8_6\"]\n",
    "df0[cols] = df0[cols].astype(int)\n",
    "df0[\"Q8a_total\"] = df0[cols].sum(axis = 1)\n",
    "\n",
    "# safe assets\n",
    "cols = [\"Q9b_1\", \"Q9b_4\", \"Q9b_10\", \"Q9b_11\", \"Q9b_12\"]\n",
    "df0[cols] = df0[cols].astype(float)\n",
    "df0[\"Q9_safe_total\"] = df0[cols].sum(axis = 1)\n",
    "\n",
    "# risky assets\n",
    "cols = [\"Q9b_7\", \"Q9b_8\", \"Q9b_13\", \"Q9b_14\", \"Q9b_9\"]\n",
    "df0[cols] = df0[cols].astype(float)\n",
    "df0[\"Q9_risky_total\"] = df0[cols].sum(axis = 1)\n",
    "\n",
    "# Financial Literacy\n",
    "cols = [\"Q12a\", \"Q12b\", \"Q12c\"]\n",
    "df0[cols] = df0[cols].astype(\"string\")\n",
    "\n",
    "df0[\"Q12a_score\"] = np.where(df0[\"Q12a\"] == \"More than INR 102\", 1, 0)\n",
    "df0[\"Q12b_score\"] = np.where(df0[\"Q12b\"] == \"Less than today with the money in this account\", 1, 0)\n",
    "df0[\"Q12c_score\"] = np.where(df0[\"Q12c\"] == \"False\", 1, 0)\n",
    "\n",
    "cols = [\"Q12a_score\", \"Q12b_score\", \"Q12c_score\"]\n",
    "df0[\"Q12_total\"] = df0[cols].sum(axis = 1)\n",
    "\n",
    "# CRT\n",
    "cols = [\"Q54\", \"Q57\", \"Q58\"]\n",
    "df0[cols] = df0[cols].astype(float)\n",
    "\n",
    "df0[\"Q54_score\"] = np.where((df0[\"Q54\"] == 5) | (df0[\"Q54\"] == 0.05), 1, 0)\n",
    "df0[\"Q57_score\"] = np.where(df0[\"Q57\"] == 5, 1, 0)\n",
    "df0[\"Q58_score\"] = np.where(df0[\"Q58\"] == 47, 1, 0)\n",
    "\n",
    "cols = [\"Q54_score\", \"Q57_score\", \"Q58_score\"]\n",
    "df0[\"crt_total\"] = df0[cols].sum(axis = 1)\n",
    "\n",
    "# Financial Planning\n",
    "cols = [\"Q8_1\", \"Q8_2\", \"Q8_3\", \"Q8_4\", \"Q8_5\", \"Q8_6\", \"Q8_7\", \"Q8_8\"]\n",
    "for i, col in enumerate(cols):\n",
    "    if i == 6:\n",
    "        df0.rename({col:f\"financialplanning_emergency\"}, axis = 1, inplace = True)\n",
    "    elif i == 7:\n",
    "        df0.rename({col:f\"financialplanning_retirement\"}, axis = 1, inplace = True)\n",
    "\n",
    "    else:\n",
    "        df0.rename({col:f\"financialplanning_{i+1}\"}, axis = 1, inplace = True)\n",
    "\n",
    "# asset classes\n",
    "asset_classes_dict = {\"Q9b_1\":\"savings_bank\", \"Q9b_4\":\"fixed_deposits\",\n",
    "                    \"Q9b_10\":\"recurring_deposits\", \"Q9b_11\":\"gov_bonds\",\n",
    "                    \"Q9b_12\":\"corp_bonds\", \"Q9b_7\":\"mutual_funds\",\n",
    "                    \"Q9b_8\":\"stocks\", \"Q9b_13\":\"real_estate\",\n",
    "                    \"Q9b_14\":\"commodities\", \"Q9b_9\":\"other_invest\"}\n",
    "\n",
    "df0.rename(asset_classes_dict, axis = 1, inplace = True)\n",
    "\n",
    "\n",
    "cols = [\"savings_bank\", \"gov_bonds\", \"mutual_funds\", \"stocks\"]\n",
    "for col in cols:\n",
    "    df0[f\"{col}_dummy\"] = np.where(df0[col] > 0, 1, 0)\n",
    "    if col == \"savings_bank\":\n",
    "        savings_col = [\"savings_bank\", \"fixed_deposits\", \"recurring_deposits\", \"gov_bonds\",\n",
    "                       \"corp_bonds\", \"mutual_funds\", \"stocks\"]\n",
    "        df0[f\"{col}_dummy\"] = np.where(df0[savings_col].sum(axis = 1) > 0, 1, 0)\n",
    "\n",
    "df0[\"investment_behaviour\"] = df0[[col + \"_dummy\" for col in cols]].sum(axis = 1)\n",
    "df0[\"investments\"] = df0[[\"gov_bonds\", \"corp_bonds\", \"mutual_funds\",\n",
    "                          \"stocks\", \"real_estate\", \"commodities\", \"other_invest\"]].sum(axis = 1) \n",
    "\n",
    "df0[\"risky_investments\"] = df0[[\"mutual_funds\", \"stocks\", \"real_estate\", \"commodities\", \"other_invest\"]].sum(axis = 1) "
   ]
  },
  {
   "cell_type": "markdown",
   "id": "68bcd9c3-4fef-4166-aeb5-0a97d4b3a825",
   "metadata": {},
   "source": [
    "## SCORING"
   ]
  },
  {
   "cell_type": "code",
   "execution_count": 11,
   "id": "344f89e4-628a-4a11-bcba-88313658e75a",
   "metadata": {},
   "outputs": [],
   "source": [
    "focal_col = [\"q8_2_1\", \"q8_2_2\", \"q8_2_3\", \"q8_2_4\", \"q8_2_5\",\n",
    "             \"q8_3\", \"q8_4\",\n",
    "             \"q8_5berlin_1\", \"q8_5london_1\", \"q8_5paris_1\", \"q8_6\", \"q8_7\",\n",
    "             \"q9_1_1\", \"q9_2_1\", \"q9_3\",\n",
    "             \"q10_1_1\", \"q10_2_1\", \"q10_3_1\", \"q10_4\"]\n",
    "\n",
    "for col in focal_col:\n",
    "    df0[col] = df0[col].astype(float)\n",
    "\n",
    "scoreColumns = [\"certainty1\", \"certainty2\", \"certainty3\", \"certainty4\", \"certainty5\",\n",
    "\"uncertainty1\", \"uncertainty2\",\n",
    "\"numeracy1\", \"numeracy2\", \"numeracy3\", # \"numeracy4\", \"numeracy5\",\n",
    "\"graph1\", \"graph2\", \"graph3\",\n",
    "\"riskcomprehension1\", \"riskcomprehension2\", \"riskcomprehension3\", \"riskcomprehension4\", \"riskcomprehension5\",\n",
    "\"bayesian1\"\n",
    "]\n",
    "\n",
    "# Dynata Only\n",
    "req_cols = [\n",
    "    \"riskappetite\", \"investmentxp\", \"financialplanning1\", \"financialplanning2\",\n",
    "    \"riskyassets_%\", \"safeassets_%\",\n",
    "    \"financialliteracy\", \"crtscore\"]\n",
    "\n",
    "df0 = df0.copy()\n",
    "df0[scoreColumns + req_cols] = 0.0\n",
    "df0 = df0.copy()"
   ]
  },
  {
   "cell_type": "code",
   "execution_count": 12,
   "id": "7b45bd87-a50e-46c4-ad60-add2f59d164e",
   "metadata": {},
   "outputs": [],
   "source": [
    "# Assigning scores\n",
    "\n",
    "def scoring1(surveyFacet):\n",
    "    surveyFacet.loc[ surveyFacet[\"q8_2_1\"] == 2, \"certainty1\"] = 1\n",
    "    surveyFacet.loc[ surveyFacet[\"q8_2_2\"] == 2, \"certainty2\"] = 1\n",
    "    surveyFacet.loc[ surveyFacet[\"q8_2_3\"] == 2, \"certainty3\"] = 1\n",
    "    surveyFacet.loc[ surveyFacet[\"q8_2_4\"] == 2, \"certainty4\"] = 1\n",
    "    surveyFacet.loc[ surveyFacet[\"q8_2_5\"] == 2, \"certainty5\"] = 1\n",
    "\n",
    "    surveyFacet.loc[ surveyFacet[\"q8_3\"] == 1, \"uncertainty1\"] = 1\n",
    "    surveyFacet.loc[ surveyFacet[\"q8_4\"] == 4, \"uncertainty2\"] = 1\n",
    "\n",
    "    surveyFacet.loc[ surveyFacet[\"q8_5berlin_1\"] == 2, \"riskcomprehension1\"] = 1\n",
    "    surveyFacet.loc[ surveyFacet[\"q8_5london_1\"] == 1, \"riskcomprehension2\"] = 1\n",
    "    surveyFacet.loc[ surveyFacet[\"q8_5paris_1\"] == 1, \"riskcomprehension3\"] = 1\n",
    "    \n",
    "    surveyFacet.loc[ surveyFacet[\"q8_6\"] == 1, \"riskcomprehension4\"] = 1\n",
    "    surveyFacet.loc[ surveyFacet[\"q8_7\"] == 4, \"riskcomprehension5\"] = 1\n",
    "\n",
    "    surveyFacet.loc[ surveyFacet[\"q9_1_1\"] == 25, \"graph1\"] = 1\n",
    "    surveyFacet.loc[ surveyFacet[\"q9_2_1\"] == 20, \"graph2\"] = 1\n",
    "    surveyFacet.loc[ surveyFacet[\"q9_3\"] == 3, \"graph3\"] = 1\n",
    "\n",
    "    surveyFacet.loc[ surveyFacet[\"q10_1_1\"] == 500, \"numeracy1\"] = 1\n",
    "    surveyFacet.loc[ surveyFacet[\"q10_2_1\"] == 10, \"numeracy2\"] = 1\n",
    "    surveyFacet.loc[ (surveyFacet[\"q10_3_1\"] == 0.1) | (surveyFacet[\"q10_3_1\"] == \".1\") | (surveyFacet[\"q10_3_1\"] == \",1\") , \"numeracy3\"] = 1\n",
    "    surveyFacet.loc[ surveyFacet[\"q10_4\"] == 1, \"bayesian1\"] = 1\n",
    "\n",
    "    # Dynata Only\n",
    "    surveyFacet.loc[:, \"riskappetite\"] = surveyFacet[\"Q5_score\"]\n",
    "    surveyFacet.loc[:, \"investmentxp\"] = surveyFacet[\"Q6_score\"]\n",
    "    \n",
    "    surveyFacet.loc[:, \"financialplanning2\"] = surveyFacet[\"Q8_total\"]\n",
    "    surveyFacet.loc[:, \"financialplanning1\"] = surveyFacet[\"Q8a_total\"]\n",
    "\n",
    "    surveyFacet.loc[:, \"riskyassets_%\"] = surveyFacet[\"Q9_risky_total\"]\n",
    "    surveyFacet.loc[:, \"safeassets_%\"] = surveyFacet[\"Q9_safe_total\"]\n",
    "    \n",
    "    surveyFacet.loc[:, \"financialliteracy\"] = surveyFacet[\"Q12_total\"]\n",
    "\n",
    "    surveyFacet.loc[:, \"crtscore\"] = surveyFacet[\"crt_total\"]\n",
    "\n",
    "    \n",
    "\n",
    "    \n",
    "    # Assigning total scores\n",
    "    # surveyFacet[\"Certainty score_5\"] = surveyFacet[\"certainty1\"] + surveyFacet[\"certainty2\"] + surveyFacet[\"certainty3\"] + surveyFacet[\"certainty4\"] + surveyFacet[\"certainty5\"]\n",
    "    #surveyFacet[\"Uncertainty score_5\"] = surveyFacet[\"uncertainty1\"] + surveyFacet[\"uncertainty2\"]\n",
    "\n",
    "    #surveyFacet[\"Number Comprehension score_5\"] = surveyFacet[\"numeracy1\"] + surveyFacet[\"numeracy2\"] + surveyFacet[\"numeracy3\"] + surveyFacet[\"numeracy4\"] + surveyFacet[\"numeracy5\"]\n",
    "    #surveyFacet[\"Graph Comprehension score_5\"] = surveyFacet[\"graph1\"] + surveyFacet[\"graph2\"] + surveyFacet[\"graph3\"]\n",
    "\n",
    "    #surveyFacet[\"Calculation score_4\"] = surveyFacet[\"riskcalculation1\"] + surveyFacet[\"riskcalculation2\"] + surveyFacet[\"riskcalculation3\"] + surveyFacet[\"riskcalculation4\"]\n",
    "\n",
    "    #surveyFacet[\"Total Score_19\"] = surveyFacet[\"Certainty score_5\"] + surveyFacet[\"Uncertainty score_5\"] + surveyFacet[\"Number Comprehension score_5\"] + surveyFacet[\"Graph Comprehension score_5\"] + surveyFacet[\"Calculation score_4\"]\n",
    "\n",
    "    return surveyFacet"
   ]
  },
  {
   "cell_type": "code",
   "execution_count": 13,
   "id": "297f2395-bc01-4aae-87ef-a3b5d74256aa",
   "metadata": {},
   "outputs": [
    {
     "name": "stderr",
     "output_type": "stream",
     "text": [
      "100%|██████████| 699/699 [00:04<00:00, 148.52it/s]/home/leshleon/projects/Risk Literacy/.venv/lib/python3.12/site-packages/tqdm/std.py:917: FutureWarning: DataFrameGroupBy.apply operated on the grouping columns. This behavior is deprecated, and in a future version of pandas the grouping columns will be excluded from the operation. Either pass `include_groups=False` to exclude the groupings or explicitly select the grouping columns after groupby to silence this warning.\n",
      "  return getattr(df, df_function)(wrapper, **kwargs)\n",
      "100%|██████████| 699/699 [00:04<00:00, 144.34it/s]\n"
     ]
    }
   ],
   "source": [
    "df1 = df0.groupby([\"responseid\"]).progress_apply(scoring1)\n",
    "df1 = df1.reset_index(drop = True).copy()"
   ]
  },
  {
   "cell_type": "code",
   "execution_count": 14,
   "id": "f38535b6-27ba-4b66-9498-338cce380c3a",
   "metadata": {},
   "outputs": [],
   "source": [
    "def scoring2(survey):\n",
    "    \n",
    "    survey[\"Certainty_5\"] = survey[\"certainty1\"] + survey[\"certainty2\"] + survey[\"certainty3\"] + survey[\"certainty4\"] + survey[\"certainty5\"]\n",
    "    \n",
    "    survey[\"Uncertainty_2\"] = survey[\"uncertainty1\"] + survey[\"uncertainty2\"]\n",
    "    \n",
    "    survey[\"RiskComprehension_5\"] = survey[\"riskcomprehension1\"] + survey[\"riskcomprehension2\"] + survey[\"riskcomprehension3\"] + survey[\"riskcomprehension4\"] + survey[\"riskcomprehension5\"]\n",
    "    \n",
    "    survey[\"GraphLiteracy_3\"] = survey[\"graph1\"] + survey[\"graph2\"] + survey[\"graph3\"]\n",
    "    \n",
    "    survey[\"Numeracy_3\"] = survey[\"numeracy1\"] + survey[\"numeracy2\"] + survey[\"numeracy3\"]\n",
    "    \n",
    "    survey[\"Bayesianreasoning_1\"] = survey[\"bayesian1\"]\n",
    "    \n",
    "    survey[\"TotalScore_19\"] = survey[\"Certainty_5\"] + survey[\"Uncertainty_2\"] + survey[\"RiskComprehension_5\"] + survey[\"GraphLiteracy_3\"] + survey[\"Numeracy_3\"] + survey[\"Bayesianreasoning_1\"]\n",
    "    \n",
    "    survey[\"Certainty_%\"] = survey[\"Certainty_5\"] / 5 * 100\n",
    "    survey[\"Uncertainty_%\"] = survey[\"Uncertainty_2\"] / 2 * 100\n",
    "    survey[\"RiskComprehension_%\"] = survey[\"RiskComprehension_5\"] / 5 * 100\n",
    "    survey[\"GraphLiteracy_%\"] = survey[\"GraphLiteracy_3\"] / 3 * 100\n",
    "    survey[\"Numeracy_%\"] = survey[\"Numeracy_3\"] / 3 * 100\n",
    "    survey[\"Bayesianreasoning_%\"] = survey[\"Bayesianreasoning_1\"] / 1 * 100\n",
    "    \n",
    "    survey[\"TotalScore_%\"] = survey[\"TotalScore_19\"] / 19 * 100\n",
    "\n",
    "    #Dynata Only\n",
    "    survey[\"RiskAppetite_7\"] = survey[\"riskappetite\"]\n",
    "    survey[\"InvestmentXP_4\"] = survey[\"investmentxp\"]\n",
    "    \n",
    "    survey[\"FinancialPlanning1_6\"] = survey[\"financialplanning1\"] / 6\n",
    "    survey[\"FinancialPlanning2_6\"] = survey[\"financialplanning2\"] / 8\n",
    "\n",
    "    survey[\"RiskAssets_%\"] = survey[\"riskyassets_%\"]\n",
    "    survey[\"RiskAlignment\"] = survey[\"RiskAppetite_7\"] * 100 / 7\n",
    "    survey[\"RiskAlignment_residual\"] = survey[\"RiskAssets_%\"] - survey[\"RiskAlignment\"]\n",
    "    survey[\"RiskAlignment_felix\"] = survey[\"RiskAssets_%\"] * 7 / 100\n",
    "\n",
    "    survey[\"SafeAssets_%\"] = survey[\"safeassets_%\"]\n",
    "    \n",
    "    survey[\"FinancialLiteracy_3\"] = survey[\"financialliteracy\"]\n",
    "\n",
    "    survey[\"CRTScore_3\"] = survey[\"crtscore\"]\n",
    "\n",
    "    survey[\"RiskAppetite1_%\"] = survey[\"RiskAppetite_7\"] / 7 * 100\n",
    "    survey[\"RiskAppetite2_%\"] = survey[\"InvestmentXP_4\"] / 4 * 100\n",
    "\n",
    "    survey[\"FinancialPlanning1_%\"] = survey[\"FinancialPlanning1_6\"] / 6 * 100\n",
    "    survey[\"FinancialPlanning2_%\"] = survey[\"FinancialPlanning2_6\"] / 6 * 100\n",
    "\n",
    "    survey[\"FinancialLiteracy_%\"] = survey[\"FinancialLiteracy_3\"] / 3 * 100\n",
    "    survey[\"CRTScore_%\"] = survey[\"CRTScore_3\"] / 3 * 100\n",
    "\n",
    "    survey[\"country_text\"] = \"India\"\n",
    "    survey[\"country\"] = 0\n",
    "    \n",
    "     \n",
    "    colReq1 = [\n",
    "        \"responseid\", \"country_text\", \"country\", \"age\", \"gender_text\", \"age_rec\", \"isced\", \"income\", \"wealth\", \"Certainty_5\", \"Uncertainty_2\", \"RiskComprehension_5\", \"GraphLiteracy_3\",\n",
    "        \"Numeracy_3\", \"Bayesianreasoning_1\", \"Certainty_%\", \"Uncertainty_%\", \"RiskComprehension_%\", \"GraphLiteracy_%\", \"Numeracy_%\", \"Bayesianreasoning_%\",\n",
    "        \"TotalScore_19\", \"TotalScore_%\",\n",
    "        #Dynata only\n",
    "        \"RiskAssets_%\", \"SafeAssets_%\", \"RiskAlignment\", \"RiskAlignment_residual\", \"RiskAlignment_felix\",\n",
    "        \"RiskAppetite1_%\", \"RiskAppetite_7\", \"RiskAppetite2_%\", \"InvestmentXP_4\",\n",
    "        \"FinancialPlanning1_6\", \"FinancialPlanning2_6\", \"FinancialPlanning1_%\", \"FinancialPlanning2_%\",\n",
    "        \"FinancialLiteracy_%\", \"FinancialLiteracy_3\",\n",
    "        \"CRTScore_3\", \"CRTScore_%\"\n",
    "    ]\n",
    "\n",
    "    colReq2 = [\n",
    "    \"financialplanning_1\", \"financialplanning_2\", \"financialplanning_3\", \"financialplanning_4\",\n",
    "    \"financialplanning_5\", \"financialplanning_6\", \"financialplanning_emergency\", \"financialplanning_retirement\", \n",
    "\n",
    "    \"savings_bank\", \"fixed_deposits\", \"recurring_deposits\", \"gov_bonds\", \"corp_bonds\",\n",
    "    \"mutual_funds\", \"stocks\", \"real_estate\", \"commodities\", \"other_invest\",\n",
    "\n",
    "    \"savings_bank_dummy\", \"gov_bonds_dummy\", \"mutual_funds_dummy\", \"stocks_dummy\",\n",
    "    \"investment_behaviour\", \"risky_investments\", \"investments\"\n",
    "    ]\n",
    "    \n",
    "    survey1 = survey[colReq1 + scoreColumns + colReq2].copy()\n",
    "    return survey1"
   ]
  },
  {
   "cell_type": "code",
   "execution_count": 15,
   "id": "59fd3543-064b-4d39-bfe8-46b99753917e",
   "metadata": {},
   "outputs": [],
   "source": [
    "df2 = scoring2(df1)"
   ]
  },
  {
   "cell_type": "code",
   "execution_count": 16,
   "id": "f95c9b0d-385d-40e9-8e18-17b328a81f1d",
   "metadata": {},
   "outputs": [],
   "source": [
    "main = df2.copy()"
   ]
  },
  {
   "cell_type": "code",
   "execution_count": 17,
   "id": "846f6aca",
   "metadata": {},
   "outputs": [],
   "source": [
    "main.to_pickle(\"India_Dynata_dataset_scoredOnly.pkl\")"
   ]
  },
  {
   "cell_type": "code",
   "execution_count": 18,
   "id": "17b508eb",
   "metadata": {},
   "outputs": [
    {
     "ename": "NameError",
     "evalue": "name 'aa' is not defined",
     "output_type": "error",
     "traceback": [
      "\u001b[31m---------------------------------------------------------------------------\u001b[39m",
      "\u001b[31mNameError\u001b[39m                                 Traceback (most recent call last)",
      "\u001b[36mCell\u001b[39m\u001b[36m \u001b[39m\u001b[32mIn[18]\u001b[39m\u001b[32m, line 1\u001b[39m\n\u001b[32m----> \u001b[39m\u001b[32m1\u001b[39m \u001b[43maa\u001b[49m\n",
      "\u001b[31mNameError\u001b[39m: name 'aa' is not defined"
     ]
    }
   ],
   "source": [
    "aa"
   ]
  },
  {
   "cell_type": "code",
   "execution_count": null,
   "id": "4dac067e",
   "metadata": {},
   "outputs": [],
   "source": [
    "# wealth_quartile = pd.qcut(main.loc[~ (main[\"wealth\"]==-1)][\"wealth\"],q = 4, labels = False, duplicates = \"raise\" ) + 1\n",
    "# main[\"wealth_quartile\"] = wealth_quartile\n",
    "\n",
    "# main[\"risklit_quartile_income\"] = pd.qcut(main.loc[~ (main[\"income\"]==-1)][\"TotalScore_%\"],q = 4, labels = False, duplicates = \"raise\" ) + 1\n",
    "# main[\"risklit_quartile_wealth\"] = pd.qcut(main.loc[~ (main[\"wealth\"]==-1)][\"TotalScore_%\"],q = 4, labels = False, duplicates = \"raise\" ) + 1"
   ]
  },
  {
   "cell_type": "markdown",
   "id": "fd767509-8b6e-4c10-916a-8eea8a053279",
   "metadata": {},
   "source": [
    "--------------------------------------------------------------------------------------------------------------------"
   ]
  },
  {
   "cell_type": "markdown",
   "id": "096d2dd7-0691-497a-a5e4-63061478a1d1",
   "metadata": {},
   "source": [
    "--------------------------------------------------------------------------------------------------------------------"
   ]
  },
  {
   "cell_type": "code",
   "execution_count": null,
   "id": "a41f3a83-7d0e-417c-98eb-841f470c5237",
   "metadata": {},
   "outputs": [],
   "source": [
    "#Global Vras:\n",
    "facet_cols = [\"Certainty_5\", \"Uncertainty_2\", \"RiskComprehension_5\", \"GraphLiteracy_3\",\n",
    "              \"Numeracy_3\", \"Bayesianreasoning_1\"]\n",
    "\n",
    "facet_percent_cols = [\"Certainty_%\", \"Uncertainty_%\", \"RiskComprehension_%\", \"GraphLiteracy_%\",\n",
    "                      \"Numeracy_%\", \"Bayesianreasoning_%\",]"
   ]
  },
  {
   "cell_type": "markdown",
   "id": "65d574ca-3962-4616-9d66-9b3443cc3ec6",
   "metadata": {},
   "source": [
    "# Study 2 - India Dynata"
   ]
  },
  {
   "cell_type": "markdown",
   "id": "6fda67e9-2e27-4306-a81f-48169ebe3c57",
   "metadata": {},
   "source": [
    "### V1: Without any control variables"
   ]
  },
  {
   "cell_type": "code",
   "execution_count": null,
   "id": "2a590110-4940-4363-850a-ea9319d5a305",
   "metadata": {},
   "outputs": [],
   "source": [
    "import statsmodels.api as sm\n",
    "from statsmodels.miscmodels.ordinal_model import OrderedModel\n",
    "\n",
    "data = income_filtered.copy()\n",
    "\n",
    "data[\"income\"] = pd.Categorical(data[\"income\"], ordered=True)\n",
    "\n",
    "model = OrderedModel(data[\"income\"], data[\"risklit_quartile\"],\n",
    "                     distr='logit')\n",
    "\n",
    "res = model.fit(method='bfgs')\n",
    "print(res.summary())\n"
   ]
  },
  {
   "cell_type": "markdown",
   "id": "dc3c0433-7622-48b2-bf17-c4878dbb7cb1",
   "metadata": {},
   "source": [
    "### V2: With control of education"
   ]
  },
  {
   "cell_type": "code",
   "execution_count": null,
   "id": "8b4d576c-3373-4ae1-87da-d00eec62f0d8",
   "metadata": {},
   "outputs": [],
   "source": [
    "import statsmodels.api as sm\n",
    "from statsmodels.miscmodels.ordinal_model import OrderedModel\n",
    "\n",
    "data = income_filtered.copy()\n",
    "\n",
    "data[\"income\"] = pd.Categorical(data[\"income\"], ordered=True)\n",
    "\n",
    "model = OrderedModel(data[\"income\"], data[[\"risklit_quartile\", \"isced\"]],\n",
    "                     distr='logit')\n",
    "\n",
    "res = model.fit(method='bfgs')\n",
    "print(res.summary())"
   ]
  },
  {
   "cell_type": "markdown",
   "id": "ab0a50e4-9b7f-4735-8422-0939206647d7",
   "metadata": {},
   "source": [
    "### V3: With control of education and age"
   ]
  },
  {
   "cell_type": "code",
   "execution_count": null,
   "id": "1d3953c4-f257-424f-925d-df10206f88f7",
   "metadata": {},
   "outputs": [],
   "source": [
    "import statsmodels.api as sm\n",
    "from statsmodels.miscmodels.ordinal_model import OrderedModel\n",
    "\n",
    "data = income_filtered.copy()\n",
    "\n",
    "data[\"income\"] = pd.Categorical(data[\"income\"], ordered=True)\n",
    "\n",
    "model = OrderedModel(data[\"income\"], data[[\"risklit_quartile\", \"isced\", \"age_rec\"]],\n",
    "                     distr='logit')\n",
    "\n",
    "# Age group 2 = 18 to 35 y/o\n",
    "# Age group 3 = 36 to 55 y/o\n",
    "# Age group 4 = 56 to 75 y/o \n",
    "\n",
    "res = model.fit(method='bfgs')\n",
    "print(res.summary())"
   ]
  },
  {
   "cell_type": "markdown",
   "id": "3e8bfce2-4f62-4e4e-8a21-5c8ad9cf39fd",
   "metadata": {},
   "source": [
    "### V4: With control of education and age and financial literacy"
   ]
  },
  {
   "cell_type": "code",
   "execution_count": null,
   "id": "5c27489e-d53c-4f5a-a4a0-618645a09348",
   "metadata": {},
   "outputs": [],
   "source": [
    "import statsmodels.api as sm\n",
    "from statsmodels.miscmodels.ordinal_model import OrderedModel\n",
    "\n",
    "data = income_filtered.copy()\n",
    "\n",
    "data[\"income\"] = pd.Categorical(data[\"income\"], ordered=True)\n",
    "\n",
    "model = OrderedModel(data[\"income\"], data[[\"risklit_quartile\", \"isced\", \"age_rec\", \"FinancialLiteracy_%\"]],\n",
    "                     distr='logit')\n",
    "\n",
    "# Age group 2 = 18 to 35 y/o\n",
    "# Age group 3 = 36 to 55 y/o\n",
    "# Age group 4 = 56 to 75 y/o \n",
    "\n",
    "res = model.fit(method='bfgs')\n",
    "print(res.summary())"
   ]
  },
  {
   "cell_type": "markdown",
   "id": "c60fb042",
   "metadata": {},
   "source": [
    "### V5: With control of education, age , financial literacy, CRT"
   ]
  },
  {
   "cell_type": "code",
   "execution_count": null,
   "id": "05142469",
   "metadata": {},
   "outputs": [],
   "source": [
    "import statsmodels.api as sm\n",
    "from statsmodels.miscmodels.ordinal_model import OrderedModel\n",
    "\n",
    "data = income_filtered.copy()\n",
    "\n",
    "data[\"income\"] = pd.Categorical(data[\"income\"], ordered=True)\n",
    "\n",
    "model = OrderedModel(data[\"income\"], data[[\"risklit_quartile\", \"isced\", \"age_rec\", \"FinancialLiteracy_%\", \"CRTScore_%\"]],\n",
    "                     distr='logit')\n",
    "\n",
    "# Age group 2 = 18 to 35 y/o\n",
    "# Age group 3 = 36 to 55 y/o\n",
    "# Age group 4 = 56 to 75 y/o \n",
    "\n",
    "res = model.fit(method='bfgs')\n",
    "print(res.summary())"
   ]
  },
  {
   "cell_type": "markdown",
   "id": "3b0bdd98-ecc9-49a0-bdee-805da56525b9",
   "metadata": {},
   "source": [
    "---"
   ]
  },
  {
   "cell_type": "markdown",
   "id": "368aefa3-b718-4e76-8893-2c5043b9c94c",
   "metadata": {},
   "source": [
    "## Ordinal Logistic Regression: Income Class by Risk literacy FOR 36-55 years old"
   ]
  },
  {
   "cell_type": "markdown",
   "id": "7c4d69f7-5b9e-4edc-8ecd-6ee1af73110a",
   "metadata": {},
   "source": [
    "### V1: without control of education"
   ]
  },
  {
   "cell_type": "code",
   "execution_count": null,
   "id": "ab067e6b-afb8-433e-894e-cbae2c5a4ba1",
   "metadata": {},
   "outputs": [],
   "source": [
    "data = income_filtered.loc[income_filtered[\"age_rec\"] == 3].copy()\n",
    "\n",
    "data[\"income\"] = pd.Categorical(data[\"income\"], ordered=True)\n",
    "\n",
    "model = OrderedModel(data[\"income\"], data[\"risklit_quartile\"],\n",
    "                     distr='logit')\n",
    "\n",
    "res = model.fit(method='bfgs')\n",
    "print(res.summary())"
   ]
  },
  {
   "cell_type": "markdown",
   "id": "b1451413-77d4-4e29-bb92-107898b8505a",
   "metadata": {},
   "source": [
    "### V2: with control of education"
   ]
  },
  {
   "cell_type": "code",
   "execution_count": null,
   "id": "f1c7331c-eb7e-41c4-a135-c08e39e21e81",
   "metadata": {},
   "outputs": [],
   "source": [
    "data = income_filtered.loc[income_filtered[\"age_rec\"] == 3].copy()\n",
    "\n",
    "data[\"income\"] = pd.Categorical(data[\"income\"], ordered=True)\n",
    "\n",
    "model = OrderedModel(data[\"income\"], data[[\"risklit_quartile\", \"isced\"]],\n",
    "                     distr='logit')\n",
    "\n",
    "res = model.fit(method='bfgs')\n",
    "print(res.summary())"
   ]
  },
  {
   "cell_type": "markdown",
   "id": "9b418887-67ab-414e-9591-d9693be65cd3",
   "metadata": {},
   "source": [
    "### V3: with control of education and financial literacy"
   ]
  },
  {
   "cell_type": "code",
   "execution_count": null,
   "id": "7cdbb1c2-5d72-42b9-8520-458348d20b5a",
   "metadata": {},
   "outputs": [],
   "source": [
    "data = income_filtered.loc[income_filtered[\"age_rec\"] == 3].copy()\n",
    "\n",
    "data[\"income\"] = pd.Categorical(data[\"income\"], ordered=True)\n",
    "\n",
    "model = OrderedModel(data[\"income\"], data[[\"risklit_quartile\", \"isced\", \"FinancialLiteracy_%\"]],\n",
    "                     distr='logit')\n",
    "\n",
    "res = model.fit(method='bfgs')\n",
    "print(res.summary())"
   ]
  },
  {
   "cell_type": "markdown",
   "id": "8272859e",
   "metadata": {},
   "source": [
    "### V4: with control of education, financial literacy, CRT"
   ]
  },
  {
   "cell_type": "code",
   "execution_count": null,
   "id": "1b2322cf",
   "metadata": {},
   "outputs": [],
   "source": [
    "data = income_filtered.loc[income_filtered[\"age_rec\"] == 3].copy()\n",
    "\n",
    "data[\"income\"] = pd.Categorical(data[\"income\"], ordered=True)\n",
    "\n",
    "model = OrderedModel(data[\"income\"], data[[\"risklit_quartile\", \"isced\", \"FinancialLiteracy_%\", \"CRTScore_%\"]],\n",
    "                     distr='logit')\n",
    "\n",
    "res = model.fit(method='bfgs')\n",
    "print(res.summary())"
   ]
  },
  {
   "cell_type": "markdown",
   "id": "f3aa83f8-7a42-40b6-adf7-8532475eba13",
   "metadata": {},
   "source": [
    "---"
   ]
  },
  {
   "cell_type": "markdown",
   "id": "375b2f88-ee44-42fd-b36d-d8da06124967",
   "metadata": {},
   "source": [
    "---"
   ]
  },
  {
   "cell_type": "markdown",
   "id": "79ce1167-8a6b-4909-8924-6b5105c1c9aa",
   "metadata": {},
   "source": [
    "## Ordinal Logistic Regression: Income Terciles by Risk literacy"
   ]
  },
  {
   "cell_type": "markdown",
   "id": "0388bd00-6d14-4251-94ed-d40b33bc59d2",
   "metadata": {},
   "source": [
    "### V1: Without any control variables"
   ]
  },
  {
   "cell_type": "code",
   "execution_count": null,
   "id": "45e7f1bf-c647-4653-8d4c-292aba86ffce",
   "metadata": {},
   "outputs": [],
   "source": [
    "import statsmodels.api as sm\n",
    "from statsmodels.miscmodels.ordinal_model import OrderedModel\n",
    "\n",
    "data = income_filtered.copy()\n",
    "\n",
    "data[\"income_tercile\"] = pd.Categorical(data[\"income_tercile\"], ordered=True)\n",
    "\n",
    "model = OrderedModel(data[\"income_tercile\"], data[\"risklit_quartile\"],\n",
    "                     distr='logit')\n",
    "\n",
    "res = model.fit(method='bfgs')\n",
    "print(res.summary())\n"
   ]
  },
  {
   "cell_type": "markdown",
   "id": "cd9fca75-741d-4934-b93a-1754f9baea5b",
   "metadata": {},
   "source": [
    "### V2: With control of education"
   ]
  },
  {
   "cell_type": "code",
   "execution_count": null,
   "id": "21606c36-9393-41d8-9114-064e59933924",
   "metadata": {},
   "outputs": [],
   "source": [
    "import statsmodels.api as sm\n",
    "from statsmodels.miscmodels.ordinal_model import OrderedModel\n",
    "\n",
    "data = income_filtered.copy()\n",
    "\n",
    "data[\"income_tercile\"] = pd.Categorical(data[\"income_tercile\"], ordered=True)\n",
    "\n",
    "model = OrderedModel(data[\"income_tercile\"], data[[\"risklit_quartile\", \"isced\"]],\n",
    "                     distr='logit')\n",
    "\n",
    "res = model.fit(method='bfgs')\n",
    "print(res.summary())"
   ]
  },
  {
   "cell_type": "markdown",
   "id": "98426534-c486-4360-91cd-40239adc5240",
   "metadata": {},
   "source": [
    "### V3: With control of education and age"
   ]
  },
  {
   "cell_type": "code",
   "execution_count": null,
   "id": "dd7eb46f-e61b-4c36-8edf-5200988784b8",
   "metadata": {},
   "outputs": [],
   "source": [
    "import statsmodels.api as sm\n",
    "from statsmodels.miscmodels.ordinal_model import OrderedModel\n",
    "\n",
    "data = income_filtered.copy()\n",
    "\n",
    "data[\"income_tercile\"] = pd.Categorical(data[\"income_tercile\"], ordered=True)\n",
    "\n",
    "model = OrderedModel(data[\"income_tercile\"], data[[\"risklit_quartile\", \"isced\", \"age_rec\"]],\n",
    "                     distr='logit')\n",
    "\n",
    "# Age group 2 = 18 to 35 y/o\n",
    "# Age group 3 = 36 to 55 y/o\n",
    "# Age group 4 = 56 to 75 y/o \n",
    "\n",
    "res = model.fit(method='bfgs')\n",
    "print(res.summary())"
   ]
  },
  {
   "cell_type": "markdown",
   "id": "b831c897-9f9d-41c4-b4f7-00004ae80a1b",
   "metadata": {},
   "source": [
    "### V4: With control of education and age and financial literacy"
   ]
  },
  {
   "cell_type": "code",
   "execution_count": null,
   "id": "d638f72a-6165-45ef-887c-f05c2d553f77",
   "metadata": {},
   "outputs": [],
   "source": [
    "import statsmodels.api as sm\n",
    "from statsmodels.miscmodels.ordinal_model import OrderedModel\n",
    "\n",
    "data = income_filtered.copy()\n",
    "\n",
    "data[\"income_tercile\"] = pd.Categorical(data[\"income_tercile\"], ordered=True)\n",
    "\n",
    "model = OrderedModel(data[\"income_tercile\"], data[[\"risklit_quartile\", \"isced\", \"age_rec\", \"FinancialLiteracy_%\"]],\n",
    "                     distr='logit')\n",
    "\n",
    "# Age group 2 = 18 to 35 y/o\n",
    "# Age group 3 = 36 to 55 y/o\n",
    "# Age group 4 = 56 to 75 y/o \n",
    "\n",
    "res = model.fit(method='bfgs')\n",
    "print(res.summary())"
   ]
  },
  {
   "cell_type": "markdown",
   "id": "6f1db43f",
   "metadata": {},
   "source": [
    "### V5: With control of education, age, financial literacy, CRT"
   ]
  },
  {
   "cell_type": "code",
   "execution_count": null,
   "id": "6ab7e77f",
   "metadata": {},
   "outputs": [],
   "source": [
    "import statsmodels.api as sm\n",
    "from statsmodels.miscmodels.ordinal_model import OrderedModel\n",
    "\n",
    "data = income_filtered.copy()\n",
    "\n",
    "data[\"income_tercile\"] = pd.Categorical(data[\"income_tercile\"], ordered=True)\n",
    "\n",
    "model = OrderedModel(data[\"income_tercile\"], data[[\"risklit_quartile\", \"isced\", \"age_rec\", \"FinancialLiteracy_%\", \"CRTScore_%\"]],\n",
    "                     distr='logit')\n",
    "\n",
    "# Age group 2 = 18 to 35 y/o\n",
    "# Age group 3 = 36 to 55 y/o\n",
    "# Age group 4 = 56 to 75 y/o \n",
    "\n",
    "res = model.fit(method='bfgs')\n",
    "print(res.summary())"
   ]
  },
  {
   "cell_type": "markdown",
   "id": "6a2cee07-6a48-4c3f-9772-3183fb1d2396",
   "metadata": {},
   "source": [
    "---"
   ]
  },
  {
   "cell_type": "markdown",
   "id": "2157ea54-f257-4012-b14c-00916cc7f5b9",
   "metadata": {},
   "source": [
    "## Ordinal Logistic Regression: Income Tercile by Risk literacy FOR 36-55 years old"
   ]
  },
  {
   "cell_type": "markdown",
   "id": "4d7bdac0-7d9a-445a-9e58-5debc95dd2e4",
   "metadata": {},
   "source": [
    "### V1: without control of education"
   ]
  },
  {
   "cell_type": "code",
   "execution_count": null,
   "id": "d9bac02d-de9c-4aab-9281-bddae3fc78e8",
   "metadata": {},
   "outputs": [],
   "source": [
    "data = income_filtered.loc[income_filtered[\"age_rec\"] == 3].copy()\n",
    "\n",
    "data[\"income_tercile\"] = pd.Categorical(data[\"income_tercile\"], ordered=True)\n",
    "\n",
    "model = OrderedModel(data[\"income_tercile\"], data[\"risklit_quartile\"],\n",
    "                     distr='logit')\n",
    "\n",
    "res = model.fit(method='bfgs')\n",
    "print(res.summary())"
   ]
  },
  {
   "cell_type": "markdown",
   "id": "e1446e28-a2a8-453c-acb3-4b580553df85",
   "metadata": {},
   "source": [
    "### V2: with control of education"
   ]
  },
  {
   "cell_type": "code",
   "execution_count": null,
   "id": "b92d0c78-1f6e-4a86-93c4-dbfcd86200e6",
   "metadata": {},
   "outputs": [],
   "source": [
    "data = income_filtered.loc[income_filtered[\"age_rec\"] == 3].copy()\n",
    "\n",
    "data[\"income_tercile\"] = pd.Categorical(data[\"income_tercile\"], ordered=True)\n",
    "\n",
    "model = OrderedModel(data[\"income_tercile\"], data[[\"risklit_quartile\", \"isced\"]],\n",
    "                     distr='logit')\n",
    "\n",
    "res = model.fit(method='bfgs')\n",
    "print(res.summary())"
   ]
  },
  {
   "cell_type": "markdown",
   "id": "0ab989b4-e117-4f48-8329-a30ccac41269",
   "metadata": {},
   "source": [
    "### V3: with control of education and financial literacy"
   ]
  },
  {
   "cell_type": "code",
   "execution_count": null,
   "id": "1eb29765-ed7e-45af-821d-c06d56ccbca4",
   "metadata": {},
   "outputs": [],
   "source": [
    "data = income_filtered.loc[income_filtered[\"age_rec\"] == 3].copy()\n",
    "\n",
    "data[\"income_tercile\"] = pd.Categorical(data[\"income_tercile\"], ordered=True)\n",
    "\n",
    "model = OrderedModel(data[\"income_tercile\"], data[[\"risklit_quartile\", \"isced\", \"FinancialLiteracy_%\"]],\n",
    "                     distr='logit')\n",
    "\n",
    "res = model.fit(method='bfgs')\n",
    "print(res.summary())"
   ]
  },
  {
   "cell_type": "markdown",
   "id": "98bc0527",
   "metadata": {},
   "source": [
    "### V4: with control of education,  financial literacy, CRT"
   ]
  },
  {
   "cell_type": "code",
   "execution_count": null,
   "id": "f7ca6560",
   "metadata": {},
   "outputs": [],
   "source": [
    "data = income_filtered.loc[income_filtered[\"age_rec\"] == 3].copy()\n",
    "\n",
    "data[\"income_tercile\"] = pd.Categorical(data[\"income_tercile\"], ordered=True)\n",
    "\n",
    "model = OrderedModel(data[\"income_tercile\"], data[[\"risklit_quartile\", \"isced\", \"FinancialLiteracy_%\", \"CRTScore_%\"]],\n",
    "                     distr='logit')\n",
    "\n",
    "res = model.fit(method='bfgs')\n",
    "print(res.summary())"
   ]
  },
  {
   "cell_type": "markdown",
   "id": "2f412311-c278-43a2-bb2d-e4fee4e77fc5",
   "metadata": {},
   "source": [
    "---"
   ]
  },
  {
   "cell_type": "markdown",
   "id": "7497d7b2-4871-40b7-8b11-ac352ec5ddcb",
   "metadata": {},
   "source": [
    "---"
   ]
  },
  {
   "cell_type": "markdown",
   "id": "cb1b0473-4fec-41e8-94a3-00dbd3e648ad",
   "metadata": {},
   "source": [
    "## Ordinal Logistic Regression: Income Quartiles by Risk literacy"
   ]
  },
  {
   "cell_type": "markdown",
   "id": "35832e63-0a5d-4f90-aa9b-d2faa698b9c4",
   "metadata": {},
   "source": [
    "### V1: Without any control variables"
   ]
  },
  {
   "cell_type": "code",
   "execution_count": null,
   "id": "795040cd-3550-4daf-9a85-d7b523057414",
   "metadata": {},
   "outputs": [],
   "source": [
    "import statsmodels.api as sm\n",
    "from statsmodels.miscmodels.ordinal_model import OrderedModel\n",
    "\n",
    "data = income_filtered.copy()\n",
    "\n",
    "data[\"income_quartile\"] = pd.Categorical(data[\"income_quartile\"], ordered=True)\n",
    "\n",
    "model = OrderedModel(data[\"income_quartile\"], data[\"risklit_quartile\"],\n",
    "                     distr='logit')\n",
    "\n",
    "res = model.fit(method='bfgs')\n",
    "print(res.summary())\n"
   ]
  },
  {
   "cell_type": "markdown",
   "id": "5291506b-87c7-42b7-a70b-0f87cbf17587",
   "metadata": {},
   "source": [
    "### V2: With control of education"
   ]
  },
  {
   "cell_type": "code",
   "execution_count": null,
   "id": "797a3d7a-b75c-4048-91ce-3124a76bd9fd",
   "metadata": {},
   "outputs": [],
   "source": [
    "import statsmodels.api as sm\n",
    "from statsmodels.miscmodels.ordinal_model import OrderedModel\n",
    "\n",
    "data = income_filtered.copy()\n",
    "\n",
    "data[\"income_quartile\"] = pd.Categorical(data[\"income_quartile\"], ordered=True)\n",
    "\n",
    "model = OrderedModel(data[\"income_quartile\"], data[[\"risklit_quartile\", \"isced\"]],\n",
    "                     distr='logit')\n",
    "\n",
    "res = model.fit(method='bfgs')\n",
    "print(res.summary())"
   ]
  },
  {
   "cell_type": "markdown",
   "id": "9f269673-61d6-4d29-aee5-6e4f4118c59a",
   "metadata": {},
   "source": [
    "### V3: With control of education and age"
   ]
  },
  {
   "cell_type": "code",
   "execution_count": null,
   "id": "617da84a-97e5-4d2b-a881-46b6d1c8eedd",
   "metadata": {},
   "outputs": [],
   "source": [
    "import statsmodels.api as sm\n",
    "from statsmodels.miscmodels.ordinal_model import OrderedModel\n",
    "\n",
    "data = income_filtered.copy()\n",
    "\n",
    "data[\"income_quartile\"] = pd.Categorical(data[\"income_quartile\"], ordered=True)\n",
    "\n",
    "model = OrderedModel(data[\"income_quartile\"], data[[\"risklit_quartile\", \"isced\", \"age_rec\"]],\n",
    "                     distr='logit')\n",
    "\n",
    "# Age group 2 = 18 to 35 y/o\n",
    "# Age group 3 = 36 to 55 y/o\n",
    "# Age group 4 = 56 to 75 y/o \n",
    "\n",
    "res = model.fit(method='bfgs')\n",
    "print(res.summary())"
   ]
  },
  {
   "cell_type": "markdown",
   "id": "bb53fdb9-c0de-48ff-aeca-81106488ba34",
   "metadata": {},
   "source": [
    "### V4: With control of education and age and financial literacy"
   ]
  },
  {
   "cell_type": "code",
   "execution_count": null,
   "id": "14f37f2d-c9b7-4b1c-8474-2ab934c65bba",
   "metadata": {},
   "outputs": [],
   "source": [
    "import statsmodels.api as sm\n",
    "from statsmodels.miscmodels.ordinal_model import OrderedModel\n",
    "\n",
    "data = income_filtered.copy()\n",
    "\n",
    "data[\"income_quartile\"] = pd.Categorical(data[\"income_quartile\"], ordered=True)\n",
    "\n",
    "model = OrderedModel(data[\"income_quartile\"], data[[\"risklit_quartile\", \"isced\", \"age_rec\", \"FinancialLiteracy_%\"]],\n",
    "                     distr='logit')\n",
    "\n",
    "# Age group 2 = 18 to 35 y/o\n",
    "# Age group 3 = 36 to 55 y/o\n",
    "# Age group 4 = 56 to 75 y/o \n",
    "\n",
    "res = model.fit(method='bfgs')\n",
    "print(res.summary())"
   ]
  },
  {
   "cell_type": "markdown",
   "id": "fd76ae79",
   "metadata": {},
   "source": [
    "### V5: With control of education, age, financial literacy, CRT"
   ]
  },
  {
   "cell_type": "code",
   "execution_count": null,
   "id": "55b50053",
   "metadata": {},
   "outputs": [],
   "source": [
    "import statsmodels.api as sm\n",
    "from statsmodels.miscmodels.ordinal_model import OrderedModel\n",
    "\n",
    "data = income_filtered.copy()\n",
    "\n",
    "data[\"income_quartile\"] = pd.Categorical(data[\"income_quartile\"], ordered=True)\n",
    "\n",
    "model = OrderedModel(data[\"income_quartile\"], data[[\"risklit_quartile\", \"isced\", \"age_rec\", \"FinancialLiteracy_%\", \"CRTScore_%\"]],\n",
    "                     distr='logit')\n",
    "\n",
    "# Age group 2 = 18 to 35 y/o\n",
    "# Age group 3 = 36 to 55 y/o\n",
    "# Age group 4 = 56 to 75 y/o \n",
    "\n",
    "res = model.fit(method='bfgs')\n",
    "print(res.summary())"
   ]
  },
  {
   "cell_type": "markdown",
   "id": "51de2b4b-c5d9-429b-b4b0-60c1ec4cd4c0",
   "metadata": {},
   "source": [
    "---"
   ]
  },
  {
   "cell_type": "markdown",
   "id": "a678caa1-e010-4a0a-be99-3760055bb23e",
   "metadata": {},
   "source": [
    "## Ordinal Logistic Regression: Income Quartile by Risk literacy FOR 36-55 years old"
   ]
  },
  {
   "cell_type": "markdown",
   "id": "df04481e-230f-4b15-9595-7f3678c5423e",
   "metadata": {},
   "source": [
    "### V1: without control of education"
   ]
  },
  {
   "cell_type": "code",
   "execution_count": null,
   "id": "10adc3a9-43c1-4637-8052-d89f10202a06",
   "metadata": {},
   "outputs": [],
   "source": [
    "data = income_filtered.loc[income_filtered[\"age_rec\"] == 3].copy()\n",
    "\n",
    "data[\"income_quartile\"] = pd.Categorical(data[\"income_quartile\"], ordered=True)\n",
    "\n",
    "model = OrderedModel(data[\"income_quartile\"], data[\"risklit_quartile\"],\n",
    "                     distr='logit')\n",
    "\n",
    "res = model.fit(method='bfgs')\n",
    "print(res.summary())"
   ]
  },
  {
   "cell_type": "markdown",
   "id": "fac8c9bd-02ff-4cd8-8fbd-5ac73d9ec4b9",
   "metadata": {},
   "source": [
    "### V2: with control of education"
   ]
  },
  {
   "cell_type": "code",
   "execution_count": null,
   "id": "15a759f1-a9ea-4b29-bcd3-9e07844e29d1",
   "metadata": {},
   "outputs": [],
   "source": [
    "data = income_filtered.loc[income_filtered[\"age_rec\"] == 3].copy()\n",
    "\n",
    "data[\"income_quartile\"] = pd.Categorical(data[\"income_quartile\"], ordered=True)\n",
    "\n",
    "model = OrderedModel(data[\"income_quartile\"], data[[\"risklit_quartile\", \"isced\"]],\n",
    "                     distr='logit')\n",
    "\n",
    "res = model.fit(method='bfgs')\n",
    "print(res.summary())"
   ]
  },
  {
   "cell_type": "markdown",
   "id": "11e26470-87b5-4cbf-a67b-0b778069a2dc",
   "metadata": {},
   "source": [
    "### V3: with control of education and financial literacy"
   ]
  },
  {
   "cell_type": "code",
   "execution_count": null,
   "id": "ffe18068-a1d2-4c37-a0fe-ebf3a190d017",
   "metadata": {},
   "outputs": [],
   "source": [
    "data = income_filtered.loc[income_filtered[\"age_rec\"] == 3].copy()\n",
    "\n",
    "data[\"income_quartile\"] = pd.Categorical(data[\"income_quartile\"], ordered=True)\n",
    "\n",
    "model = OrderedModel(data[\"income_quartile\"], data[[\"risklit_quartile\", \"isced\", \"FinancialLiteracy_%\"]],\n",
    "                     distr='logit')\n",
    "\n",
    "res = model.fit(method='bfgs')\n",
    "print(res.summary())"
   ]
  },
  {
   "cell_type": "markdown",
   "id": "515982a1",
   "metadata": {},
   "source": [
    "### V4: with control of education, financial literacy, CRT"
   ]
  },
  {
   "cell_type": "code",
   "execution_count": null,
   "id": "0ff22c88",
   "metadata": {},
   "outputs": [],
   "source": [
    "data = income_filtered.loc[income_filtered[\"age_rec\"] == 3].copy()\n",
    "\n",
    "data[\"income_quartile\"] = pd.Categorical(data[\"income_quartile\"], ordered=True)\n",
    "\n",
    "model = OrderedModel(data[\"income_quartile\"], data[[\"risklit_quartile\", \"isced\", \"FinancialLiteracy_%\", \"CRTScore_%\"]],\n",
    "                     distr='logit')\n",
    "\n",
    "res = model.fit(method='bfgs')\n",
    "print(res.summary())"
   ]
  },
  {
   "cell_type": "markdown",
   "id": "2de58cfa-06cc-43e7-9751-8db749609776",
   "metadata": {},
   "source": [
    "---"
   ]
  },
  {
   "cell_type": "markdown",
   "id": "d2d9e260-f6c3-4c2b-bf68-49b6af6cdf1d",
   "metadata": {},
   "source": [
    "---"
   ]
  },
  {
   "cell_type": "markdown",
   "id": "f794b93a-a44c-4083-8167-7efe9c710965",
   "metadata": {},
   "source": [
    "## Ordinal Logistic Regression: Wealth Quartiles by Risk literacy"
   ]
  },
  {
   "cell_type": "markdown",
   "id": "5deb6176-46df-4e6d-addb-c90e0daeb007",
   "metadata": {},
   "source": [
    "### V1: Without any control variables"
   ]
  },
  {
   "cell_type": "code",
   "execution_count": null,
   "id": "0b29562f",
   "metadata": {},
   "outputs": [],
   "source": [
    "main"
   ]
  },
  {
   "cell_type": "code",
   "execution_count": null,
   "id": "9f169725-1313-48e7-8513-7ad11c4831ad",
   "metadata": {},
   "outputs": [],
   "source": [
    "import statsmodels.api as sm\n",
    "from statsmodels.miscmodels.ordinal_model import OrderedModel\n",
    "\n",
    "# data = wealth_filtered.copy()\n",
    "data = main.loc[ main[\"wealth\"] > 100000].copy().reset_index()\n",
    "\n",
    "wealth_quartile = pd.qcut(data[\"wealth\"],q = 4, labels = False, duplicates = \"raise\") + 1\n",
    "data[\"wealth_quartile\"] = wealth_quartile\n",
    "\n",
    "data[\"wealth_quartile\"] = pd.Categorical(data[\"wealth_quartile\"], ordered=True)\n",
    "\n",
    "risklit_quartile = pd.qcut(data[\"TotalScore_19\"],q = 4, labels = False ) + 1\n",
    "data[\"risklit_quartile\"] = risklit_quartile.copy()\n",
    "\n",
    "model = OrderedModel(data[\"wealth_quartile\"], data[\"risklit_quartile\"],\n",
    "                     distr='logit')\n",
    "\n",
    "res = model.fit(method='bfgs')\n",
    "print(res.summary())\n"
   ]
  },
  {
   "cell_type": "markdown",
   "id": "149acffb-9eb9-49b1-9b26-92839d177475",
   "metadata": {},
   "source": [
    "### V2: With control of education"
   ]
  },
  {
   "cell_type": "code",
   "execution_count": null,
   "id": "282b1fd1-e60c-4a59-bf48-1b39eff78703",
   "metadata": {},
   "outputs": [],
   "source": [
    "import statsmodels.api as sm\n",
    "from statsmodels.miscmodels.ordinal_model import OrderedModel\n",
    "\n",
    "data = wealth_filtered.copy()\n",
    "\n",
    "data[\"wealth_quartile\"] = pd.Categorical(data[\"wealth_quartile\"], ordered=True)\n",
    "\n",
    "model = OrderedModel(data[\"wealth_quartile\"], data[[\"risklit_quartile\", \"isced\"]],\n",
    "                     distr='logit')\n",
    "\n",
    "res = model.fit(method='bfgs')\n",
    "print(res.summary())"
   ]
  },
  {
   "cell_type": "markdown",
   "id": "a9904ffe-089a-46df-83be-63e680ec702a",
   "metadata": {},
   "source": [
    "### V3: With control of education and age"
   ]
  },
  {
   "cell_type": "code",
   "execution_count": null,
   "id": "54207330-adac-495d-bca6-316c606cdfe1",
   "metadata": {},
   "outputs": [],
   "source": [
    "import statsmodels.api as sm\n",
    "from statsmodels.miscmodels.ordinal_model import OrderedModel\n",
    "\n",
    "data = wealth_filtered.copy()\n",
    "\n",
    "data[\"wealth_quartile\"] = pd.Categorical(data[\"wealth_quartile\"], ordered=True)\n",
    "\n",
    "model = OrderedModel(data[\"wealth_quartile\"], data[[\"risklit_quartile\", \"isced\", \"age_rec\"]],\n",
    "                     distr='logit')\n",
    "\n",
    "# Age group 2 = 18 to 35 y/o\n",
    "# Age group 3 = 36 to 55 y/o\n",
    "# Age group 4 = 56 to 75 y/o \n",
    "\n",
    "res = model.fit(method='bfgs')\n",
    "print(res.summary())"
   ]
  },
  {
   "cell_type": "markdown",
   "id": "125c5996-b58b-40b7-be1a-a8cfe67d4eb9",
   "metadata": {},
   "source": [
    "### V4: With control of education, age and Financial Lit"
   ]
  },
  {
   "cell_type": "code",
   "execution_count": null,
   "id": "849b9c79-4b21-41f4-8ebd-8333a333bf00",
   "metadata": {},
   "outputs": [],
   "source": [
    "import statsmodels.api as sm\n",
    "from statsmodels.miscmodels.ordinal_model import OrderedModel\n",
    "\n",
    "data = wealth_filtered.copy()\n",
    "\n",
    "data[\"wealth_quartile\"] = pd.Categorical(data[\"wealth_quartile\"], ordered=True)\n",
    "\n",
    "model = OrderedModel(data[\"wealth_quartile\"], data[[\"risklit_quartile\", \"isced\", \"age_rec\", \"FinancialLiteracy_%\"]],\n",
    "                     distr='logit')\n",
    "\n",
    "# Age group 2 = 18 to 35 y/o\n",
    "# Age group 3 = 36 to 55 y/o\n",
    "# Age group 4 = 56 to 75 y/o \n",
    "\n",
    "res = model.fit(method='bfgs')\n",
    "print(res.summary())"
   ]
  },
  {
   "cell_type": "markdown",
   "id": "b9c2560c",
   "metadata": {},
   "source": [
    "### V5: With control of education, age, Financial Lit, CRT"
   ]
  },
  {
   "cell_type": "code",
   "execution_count": null,
   "id": "75585e2a",
   "metadata": {},
   "outputs": [],
   "source": [
    "import statsmodels.api as sm\n",
    "from statsmodels.miscmodels.ordinal_model import OrderedModel\n",
    "\n",
    "data = wealth_filtered.copy()\n",
    "\n",
    "data[\"wealth_quartile\"] = pd.Categorical(data[\"wealth_quartile\"], ordered=True)\n",
    "\n",
    "model = OrderedModel(data[\"wealth_quartile\"], data[[\"risklit_quartile\", \"isced\", \"age_rec\", \"FinancialLiteracy_%\", \"CRTScore_%\"]],\n",
    "                     distr='logit')\n",
    "\n",
    "# Age group 2 = 18 to 35 y/o\n",
    "# Age group 3 = 36 to 55 y/o\n",
    "# Age group 4 = 56 to 75 y/o \n",
    "\n",
    "res = model.fit(method='bfgs')\n",
    "print(res.summary())"
   ]
  },
  {
   "cell_type": "markdown",
   "id": "b6537d31-dde7-4604-82f1-8dd292ad4eb4",
   "metadata": {},
   "source": [
    "---"
   ]
  },
  {
   "cell_type": "markdown",
   "id": "0601767f-9124-4512-b692-c32024ba89f9",
   "metadata": {},
   "source": [
    "## Ordinal Logistic Regression: Wealth Quartiles by Risk literacy FOR 36-55 years old"
   ]
  },
  {
   "cell_type": "markdown",
   "id": "4bbdb3ec-6e53-488e-9c28-f37295296860",
   "metadata": {},
   "source": [
    "### V1: without control of education"
   ]
  },
  {
   "cell_type": "code",
   "execution_count": null,
   "id": "dab3932f-296f-4a8a-b2b1-bd4bfc10b432",
   "metadata": {},
   "outputs": [],
   "source": [
    "data = wealth_filtered.loc[wealth_filtered[\"age_rec\"] == 3].copy()\n",
    "\n",
    "data[\"wealth_quartile\"] = pd.Categorical(data[\"wealth_quartile\"], ordered=True)\n",
    "\n",
    "model = OrderedModel(data[\"wealth_quartile\"], data[\"risklit_quartile\"],\n",
    "                     distr='logit')\n",
    "\n",
    "res = model.fit(method='bfgs')\n",
    "print(res.summary())"
   ]
  },
  {
   "cell_type": "markdown",
   "id": "cf48b365-9b27-477c-a57a-a5f01641afdc",
   "metadata": {},
   "source": [
    "### V2: with control of education"
   ]
  },
  {
   "cell_type": "code",
   "execution_count": null,
   "id": "56052eea-23e2-40a0-8ce4-9e823f0041e3",
   "metadata": {},
   "outputs": [],
   "source": [
    "data = wealth_filtered.loc[wealth_filtered[\"age_rec\"] == 3].copy()\n",
    "\n",
    "data[\"wealth_quartile\"] = pd.Categorical(data[\"wealth_quartile\"], ordered=True)\n",
    "\n",
    "model = OrderedModel(data[\"wealth_quartile\"], data[[\"risklit_quartile\", \"isced\"]],\n",
    "                     distr='logit')\n",
    "\n",
    "res = model.fit(method='bfgs')\n",
    "print(res.summary())"
   ]
  },
  {
   "cell_type": "markdown",
   "id": "6f861878-6f32-41b5-8a82-5a0958b82e27",
   "metadata": {},
   "source": [
    "### V3: with control of education and financial literacy"
   ]
  },
  {
   "cell_type": "code",
   "execution_count": null,
   "id": "d381fc36-ecab-424e-8a8b-e1dd824c50e4",
   "metadata": {},
   "outputs": [],
   "source": [
    "data = wealth_filtered.loc[wealth_filtered[\"age_rec\"] == 3].copy()\n",
    "\n",
    "data[\"wealth_quartile\"] = pd.Categorical(data[\"wealth_quartile\"], ordered=True)\n",
    "\n",
    "model = OrderedModel(data[\"wealth_quartile\"], data[[\"risklit_quartile\", \"isced\", \"FinancialLiteracy_%\"]],\n",
    "                     distr='logit')\n",
    "\n",
    "res = model.fit(method='bfgs')\n",
    "print(res.summary())"
   ]
  },
  {
   "cell_type": "markdown",
   "id": "70729279",
   "metadata": {},
   "source": [
    "### V4: with control of education, financial literacy, CRT"
   ]
  },
  {
   "cell_type": "code",
   "execution_count": null,
   "id": "ff5d74df",
   "metadata": {},
   "outputs": [],
   "source": [
    "data = wealth_filtered.loc[wealth_filtered[\"age_rec\"] == 3].copy()\n",
    "\n",
    "data[\"wealth_quartile\"] = pd.Categorical(data[\"wealth_quartile\"], ordered=True)\n",
    "\n",
    "model = OrderedModel(data[\"wealth_quartile\"], data[[\"risklit_quartile\", \"isced\", \"FinancialLiteracy_%\", \"CRTScore_%\"]],\n",
    "                     distr='logit')\n",
    "\n",
    "res = model.fit(method='bfgs')\n",
    "print(res.summary())"
   ]
  },
  {
   "cell_type": "markdown",
   "id": "9315d493-ccca-4b0f-a80f-8af368aa1870",
   "metadata": {},
   "source": [
    "---"
   ]
  },
  {
   "cell_type": "markdown",
   "id": "266ffa23",
   "metadata": {},
   "source": [
    "## WITH CONSTANT"
   ]
  },
  {
   "cell_type": "markdown",
   "id": "ae756f50",
   "metadata": {},
   "source": [
    "## Linear Regression: Financial Planning 1 by Risk literacy"
   ]
  },
  {
   "cell_type": "code",
   "execution_count": null,
   "id": "272cd1ee",
   "metadata": {},
   "outputs": [],
   "source": [
    "finplan1_data = main.copy()\n",
    "risklit_quartile = pd.qcut(finplan1_data[\"TotalScore_19\"],q = 4, labels = False ) + 1\n",
    "finplan1_data[\"risklit_quartile\"] = risklit_quartile.copy()"
   ]
  },
  {
   "cell_type": "markdown",
   "id": "c29c5a34",
   "metadata": {},
   "source": [
    "### V1: Without any control variables"
   ]
  },
  {
   "cell_type": "code",
   "execution_count": null,
   "id": "0dc2ef11",
   "metadata": {},
   "outputs": [],
   "source": [
    "import statsmodels.api as sm\n",
    "\n",
    "data = finplan1_data.copy()\n",
    "\n",
    "model = sm.OLS(data[\"FinancialPlanning1_%\"], sm.add_constant(data[\"risklit_quartile\"]))\n",
    "\n",
    "res = model.fit()\n",
    "print(res.summary())"
   ]
  },
  {
   "cell_type": "markdown",
   "id": "249ceea6",
   "metadata": {},
   "source": [
    "### V2: With control of education"
   ]
  },
  {
   "cell_type": "code",
   "execution_count": null,
   "id": "73036dfc",
   "metadata": {},
   "outputs": [],
   "source": [
    "import statsmodels.api as sm\n",
    "\n",
    "data = finplan1_data.copy()\n",
    "\n",
    "\n",
    "model = sm.OLS(data[\"FinancialPlanning1_%\"], sm.add_constant(data[[\"risklit_quartile\", \"isced\"]]))\n",
    "\n",
    "res = model.fit()\n",
    "print(res.summary())"
   ]
  },
  {
   "cell_type": "markdown",
   "id": "7360d5fa",
   "metadata": {},
   "source": [
    "### V3: With control of education and age"
   ]
  },
  {
   "cell_type": "code",
   "execution_count": null,
   "id": "8fa9edab",
   "metadata": {},
   "outputs": [],
   "source": [
    "import statsmodels.api as sm\n",
    "\n",
    "data = finplan1_data.copy()\n",
    "\n",
    "model = sm.OLS(data[\"FinancialPlanning1_%\"], sm.add_constant(data[[\"risklit_quartile\", \"isced\", \"age_rec\"]]))\n",
    "\n",
    "# Age group 2 = 18 to 35 y/o\n",
    "# Age group 3 = 36 to 55 y/o\n",
    "# Age group 4 = 56 to 75 y/o \n",
    "\n",
    "res = model.fit()\n",
    "print(res.summary())"
   ]
  },
  {
   "cell_type": "markdown",
   "id": "a801e99a",
   "metadata": {},
   "source": [
    "### V4: With control of education, age and Financial Lit"
   ]
  },
  {
   "cell_type": "code",
   "execution_count": null,
   "id": "4f656c82",
   "metadata": {},
   "outputs": [],
   "source": [
    "import statsmodels.api as sm\n",
    "\n",
    "data = finplan1_data.copy()\n",
    "\n",
    "model = sm.OLS(data[\"FinancialPlanning1_%\"], sm.add_constant(data[[\"risklit_quartile\", \"isced\", \"age_rec\", \"FinancialLiteracy_%\"]]))\n",
    "\n",
    "# Age group 2 = 18 to 35 y/o\n",
    "# Age group 3 = 36 to 55 y/o\n",
    "# Age group 4 = 56 to 75 y/o \n",
    "\n",
    "res = model.fit()\n",
    "print(res.summary())"
   ]
  },
  {
   "cell_type": "markdown",
   "id": "029f3f27",
   "metadata": {},
   "source": [
    "### V5: With control of education, age, Financial Lit, CRT"
   ]
  },
  {
   "cell_type": "code",
   "execution_count": null,
   "id": "dd9a44fe",
   "metadata": {},
   "outputs": [],
   "source": [
    "import statsmodels.api as sm\n",
    "\n",
    "data = finplan1_data.copy()\n",
    "\n",
    "model = sm.OLS(data[\"FinancialPlanning1_%\"], sm.add_constant(data[[\"risklit_quartile\", \"isced\", \"age_rec\", \"FinancialLiteracy_%\", \"CRTScore_%\"]]))\n",
    "\n",
    "# Age group 2 = 18 to 35 y/o\n",
    "# Age group 3 = 36 to 55 y/o\n",
    "# Age group 4 = 56 to 75 y/o \n",
    "\n",
    "res = model.fit()\n",
    "print(res.summary())"
   ]
  },
  {
   "cell_type": "markdown",
   "id": "cea5f8db",
   "metadata": {},
   "source": [
    "---"
   ]
  },
  {
   "cell_type": "markdown",
   "id": "1c1ecd43",
   "metadata": {},
   "source": [
    "## Linear Regression: Financial Planning 1 by Risk literacy FOR 36-55 years old"
   ]
  },
  {
   "cell_type": "markdown",
   "id": "65485913",
   "metadata": {},
   "source": [
    "### V1: without control of education"
   ]
  },
  {
   "cell_type": "code",
   "execution_count": null,
   "id": "1fb9fa28",
   "metadata": {},
   "outputs": [],
   "source": [
    "data = finplan1_data.loc[finplan1_data[\"age_rec\"] == 3].copy()\n",
    "\n",
    "model = sm.OLS(data[\"FinancialPlanning1_%\"], sm.add_constant(data[\"risklit_quartile\"]))\n",
    "\n",
    "res = model.fit()\n",
    "print(res.summary())"
   ]
  },
  {
   "cell_type": "markdown",
   "id": "aefff709",
   "metadata": {},
   "source": [
    "### V2: with control of education"
   ]
  },
  {
   "cell_type": "code",
   "execution_count": null,
   "id": "d23f6b5c",
   "metadata": {},
   "outputs": [],
   "source": [
    "data = finplan1_data.loc[finplan1_data[\"age_rec\"] == 3].copy()\n",
    "\n",
    "model = sm.OLS(data[\"FinancialPlanning1_%\"], sm.add_constant(data[[\"risklit_quartile\", \"isced\"]]))\n",
    "\n",
    "res = model.fit()\n",
    "print(res.summary())"
   ]
  },
  {
   "cell_type": "markdown",
   "id": "cf0ccd7e",
   "metadata": {},
   "source": [
    "### V3: with control of education and financial literacy"
   ]
  },
  {
   "cell_type": "code",
   "execution_count": null,
   "id": "d59ebd6b",
   "metadata": {},
   "outputs": [],
   "source": [
    "data = finplan1_data.loc[finplan1_data[\"age_rec\"] == 3].copy()\n",
    "\n",
    "model = sm.OLS(data[\"FinancialPlanning1_%\"], sm.add_constant(data[[\"risklit_quartile\", \"isced\", \"FinancialLiteracy_%\"]]))\n",
    "\n",
    "res = model.fit()\n",
    "print(res.summary())"
   ]
  },
  {
   "cell_type": "markdown",
   "id": "9d0e86a1",
   "metadata": {},
   "source": [
    "### V4: with control of education, financial literacy, CRT"
   ]
  },
  {
   "cell_type": "code",
   "execution_count": null,
   "id": "cd43e0c5",
   "metadata": {},
   "outputs": [],
   "source": [
    "data = finplan1_data.loc[finplan1_data[\"age_rec\"] == 3].copy()\n",
    "\n",
    "model = sm.OLS(data[\"FinancialPlanning1_%\"], sm.add_constant(data[[\"risklit_quartile\", \"isced\", \"FinancialLiteracy_%\", \"CRTScore_%\"]]))\n",
    "\n",
    "res = model.fit()\n",
    "print(res.summary())"
   ]
  },
  {
   "cell_type": "markdown",
   "id": "55745839-d92d-47a3-b934-b934faf531fa",
   "metadata": {},
   "source": [
    "---"
   ]
  },
  {
   "cell_type": "markdown",
   "id": "71b69d19",
   "metadata": {},
   "source": [
    "## Linear Regression: Financial Planning 2 by Risk literacy"
   ]
  },
  {
   "cell_type": "code",
   "execution_count": null,
   "id": "c2278c9b",
   "metadata": {},
   "outputs": [],
   "source": [
    "finplan2_data = main.copy()\n",
    "risklit_quartile = pd.qcut(finplan2_data[\"TotalScore_19\"],q = 4, labels = False ) + 1\n",
    "finplan2_data[\"risklit_quartile\"] = risklit_quartile.copy()"
   ]
  },
  {
   "cell_type": "markdown",
   "id": "a3f2f424",
   "metadata": {},
   "source": [
    "### V1: Without any control variables"
   ]
  },
  {
   "cell_type": "code",
   "execution_count": null,
   "id": "9bae361a",
   "metadata": {},
   "outputs": [],
   "source": [
    "import statsmodels.api as sm\n",
    "\n",
    "data = finplan2_data.copy()\n",
    "\n",
    "model = sm.OLS(data[\"FinancialPlanning1_%\"], sm.add_constant(data[\"risklit_quartile\"]))\n",
    "\n",
    "res = model.fit()\n",
    "print(res.summary())"
   ]
  },
  {
   "cell_type": "markdown",
   "id": "7570775f",
   "metadata": {},
   "source": [
    "### V2: With control of education"
   ]
  },
  {
   "cell_type": "code",
   "execution_count": null,
   "id": "cd7ac429",
   "metadata": {},
   "outputs": [],
   "source": [
    "import statsmodels.api as sm\n",
    "\n",
    "data = finplan2_data.copy()\n",
    "\n",
    "\n",
    "model = sm.OLS(data[\"FinancialPlanning1_%\"], sm.add_constant(data[[\"risklit_quartile\", \"isced\"]]))\n",
    "\n",
    "res = model.fit()\n",
    "print(res.summary())"
   ]
  },
  {
   "cell_type": "markdown",
   "id": "941b2f0c",
   "metadata": {},
   "source": [
    "### V3: With control of education and age"
   ]
  },
  {
   "cell_type": "code",
   "execution_count": null,
   "id": "530ca011",
   "metadata": {},
   "outputs": [],
   "source": [
    "import statsmodels.api as sm\n",
    "\n",
    "data = finplan2_data.copy()\n",
    "\n",
    "model = sm.OLS(data[\"FinancialPlanning1_%\"], sm.add_constant(data[[\"risklit_quartile\", \"isced\", \"age_rec\"]]))\n",
    "\n",
    "# Age group 2 = 18 to 35 y/o\n",
    "# Age group 3 = 36 to 55 y/o\n",
    "# Age group 4 = 56 to 75 y/o \n",
    "\n",
    "res = model.fit()\n",
    "print(res.summary())"
   ]
  },
  {
   "cell_type": "markdown",
   "id": "0edac051",
   "metadata": {},
   "source": [
    "### V4: With control of education, age and Financial Lit"
   ]
  },
  {
   "cell_type": "code",
   "execution_count": null,
   "id": "d52d13a6",
   "metadata": {},
   "outputs": [],
   "source": [
    "import statsmodels.api as sm\n",
    "\n",
    "data = finplan2_data.copy()\n",
    "\n",
    "model = sm.OLS(data[\"FinancialPlanning1_%\"], sm.add_constant(data[[\"risklit_quartile\", \"isced\", \"age_rec\", \"FinancialLiteracy_%\"]]))\n",
    "\n",
    "# Age group 2 = 18 to 35 y/o\n",
    "# Age group 3 = 36 to 55 y/o\n",
    "# Age group 4 = 56 to 75 y/o \n",
    "\n",
    "res = model.fit()\n",
    "print(res.summary())"
   ]
  },
  {
   "cell_type": "markdown",
   "id": "9059d42b",
   "metadata": {},
   "source": [
    "### V5: With control of education, age, Financial Lit, CRT"
   ]
  },
  {
   "cell_type": "code",
   "execution_count": null,
   "id": "e9b43931",
   "metadata": {},
   "outputs": [],
   "source": [
    "import statsmodels.api as sm\n",
    "\n",
    "data = finplan2_data.copy()\n",
    "\n",
    "model = sm.OLS(data[\"FinancialPlanning1_%\"], sm.add_constant(data[[\"risklit_quartile\", \"isced\", \"age_rec\", \"FinancialLiteracy_%\", \"CRTScore_%\"]]))\n",
    "\n",
    "# Age group 2 = 18 to 35 y/o\n",
    "# Age group 3 = 36 to 55 y/o\n",
    "# Age group 4 = 56 to 75 y/o \n",
    "\n",
    "res = model.fit()\n",
    "print(res.summary())"
   ]
  },
  {
   "cell_type": "markdown",
   "id": "3fd9b063",
   "metadata": {},
   "source": [
    "---"
   ]
  },
  {
   "cell_type": "markdown",
   "id": "99d56603",
   "metadata": {},
   "source": [
    "## Linear Regression: Financial Planning 2 by Risk literacy FOR 36-55 years old"
   ]
  },
  {
   "cell_type": "markdown",
   "id": "744f52d8",
   "metadata": {},
   "source": [
    "### V1: without control of education"
   ]
  },
  {
   "cell_type": "code",
   "execution_count": null,
   "id": "841bd063",
   "metadata": {},
   "outputs": [],
   "source": [
    "data = finplan2_data.loc[finplan2_data[\"age_rec\"] == 3].copy()\n",
    "\n",
    "model = sm.OLS(data[\"FinancialPlanning1_%\"], sm.add_constant(data[\"risklit_quartile\"]))\n",
    "\n",
    "res = model.fit()\n",
    "print(res.summary())"
   ]
  },
  {
   "cell_type": "markdown",
   "id": "09b93f2e",
   "metadata": {},
   "source": [
    "### V2: with control of education"
   ]
  },
  {
   "cell_type": "code",
   "execution_count": null,
   "id": "2ec44fea",
   "metadata": {},
   "outputs": [],
   "source": [
    "data = finplan2_data.loc[finplan2_data[\"age_rec\"] == 3].copy()\n",
    "\n",
    "model = sm.OLS(data[\"FinancialPlanning1_%\"], sm.add_constant(data[[\"risklit_quartile\", \"isced\"]]))\n",
    "\n",
    "res = model.fit()\n",
    "print(res.summary())"
   ]
  },
  {
   "cell_type": "markdown",
   "id": "1b36ea4c",
   "metadata": {},
   "source": [
    "### V3: with control of education and financial literacy"
   ]
  },
  {
   "cell_type": "code",
   "execution_count": null,
   "id": "db8e10af",
   "metadata": {},
   "outputs": [],
   "source": [
    "data = finplan2_data.loc[finplan2_data[\"age_rec\"] == 3].copy()\n",
    "\n",
    "model = sm.OLS(data[\"FinancialPlanning1_%\"], sm.add_constant(data[[\"risklit_quartile\", \"isced\", \"FinancialLiteracy_%\"]]))\n",
    "\n",
    "res = model.fit()\n",
    "print(res.summary())"
   ]
  },
  {
   "cell_type": "markdown",
   "id": "a304c191",
   "metadata": {},
   "source": [
    "### V4: with control of education, financial literacy, CRT"
   ]
  },
  {
   "cell_type": "code",
   "execution_count": null,
   "id": "273fffb1",
   "metadata": {},
   "outputs": [],
   "source": [
    "data = finplan2_data.loc[finplan2_data[\"age_rec\"] == 3].copy()\n",
    "\n",
    "model = sm.OLS(data[\"FinancialPlanning1_%\"], sm.add_constant(data[[\"risklit_quartile\", \"isced\", \"FinancialLiteracy_%\", \"CRTScore_%\"]]))\n",
    "\n",
    "res = model.fit()\n",
    "print(res.summary())"
   ]
  },
  {
   "cell_type": "markdown",
   "id": "fe279f0d",
   "metadata": {},
   "source": [
    "---"
   ]
  },
  {
   "cell_type": "markdown",
   "id": "9d7c9e4b",
   "metadata": {},
   "source": [
    "---"
   ]
  },
  {
   "cell_type": "markdown",
   "id": "de7edfcf",
   "metadata": {},
   "source": [
    "## WITHOUT CONSTANT"
   ]
  },
  {
   "cell_type": "markdown",
   "id": "55df58aa",
   "metadata": {},
   "source": [
    "## Linear Regression: Financial Planning 1 by Risk literacy"
   ]
  },
  {
   "cell_type": "code",
   "execution_count": null,
   "id": "5e77b820",
   "metadata": {},
   "outputs": [],
   "source": [
    "finplan1_data = wealth_filtered.copy()\n",
    "risklit_quartile = pd.qcut(finplan1_data[\"TotalScore_19\"],q = 4, labels = False ) + 1\n",
    "finplan1_data[\"risklit_quartile\"] = risklit_quartile.copy()\n",
    "\n",
    "\n"
   ]
  },
  {
   "cell_type": "code",
   "execution_count": null,
   "id": "933c19d1",
   "metadata": {},
   "outputs": [],
   "source": [
    "cols = [\"savings_bank\", \"gov_bonds\", \"mutual_funds\", \"stocks\"]\n",
    "[col + \"_dummy\" for col in cols]\n"
   ]
  },
  {
   "cell_type": "code",
   "execution_count": null,
   "id": "f46a2280",
   "metadata": {},
   "outputs": [],
   "source": [
    "finplan1_data"
   ]
  },
  {
   "cell_type": "markdown",
   "id": "15e74f9d",
   "metadata": {},
   "source": [
    "### V1: Without any control variables"
   ]
  },
  {
   "cell_type": "code",
   "execution_count": null,
   "id": "434dfdad",
   "metadata": {},
   "outputs": [],
   "source": [
    "import statsmodels.api as sm\n",
    "\n",
    "data = finplan1_data.copy()\n",
    "\n",
    "model = sm.OLS(data[\"FinancialPlanning1_%\"], data[\"risklit_quartile\"])\n",
    "\n",
    "res = model.fit()\n",
    "print(res.summary())"
   ]
  },
  {
   "cell_type": "markdown",
   "id": "5066f023",
   "metadata": {},
   "source": [
    "### V2: With control of education"
   ]
  },
  {
   "cell_type": "code",
   "execution_count": null,
   "id": "5fdf5f4f",
   "metadata": {},
   "outputs": [],
   "source": [
    "import statsmodels.api as sm\n",
    "\n",
    "data = finplan1_data.copy()\n",
    "\n",
    "\n",
    "model = sm.OLS(data[\"FinancialPlanning1_%\"], data[[\"risklit_quartile\", \"isced\"]])\n",
    "\n",
    "res = model.fit()\n",
    "print(res.summary())"
   ]
  },
  {
   "cell_type": "markdown",
   "id": "714e51d9",
   "metadata": {},
   "source": [
    "### V3: With control of education and age"
   ]
  },
  {
   "cell_type": "code",
   "execution_count": null,
   "id": "82ff91ab",
   "metadata": {},
   "outputs": [],
   "source": [
    "import statsmodels.api as sm\n",
    "\n",
    "data = finplan1_data.copy()\n",
    "\n",
    "model = sm.OLS(data[\"FinancialPlanning1_%\"], data[[\"risklit_quartile\", \"isced\", \"age_rec\"]])\n",
    "\n",
    "# Age group 2 = 18 to 35 y/o\n",
    "# Age group 3 = 36 to 55 y/o\n",
    "# Age group 4 = 56 to 75 y/o \n",
    "\n",
    "res = model.fit()\n",
    "print(res.summary())"
   ]
  },
  {
   "cell_type": "markdown",
   "id": "517d499d",
   "metadata": {},
   "source": [
    "### V4: With control of education, age and Financial Lit"
   ]
  },
  {
   "cell_type": "code",
   "execution_count": null,
   "id": "98058195",
   "metadata": {},
   "outputs": [],
   "source": [
    "import statsmodels.api as sm\n",
    "\n",
    "data = finplan1_data.copy()\n",
    "\n",
    "model = sm.OLS(data[\"FinancialPlanning1_%\"], data[[\"risklit_quartile\", \"isced\", \"age_rec\", \"FinancialLiteracy_%\"]])\n",
    "\n",
    "# Age group 2 = 18 to 35 y/o\n",
    "# Age group 3 = 36 to 55 y/o\n",
    "# Age group 4 = 56 to 75 y/o \n",
    "\n",
    "res = model.fit()\n",
    "print(res.summary())"
   ]
  },
  {
   "cell_type": "markdown",
   "id": "f650e786",
   "metadata": {},
   "source": [
    "### V5: With control of education, age, Financial Lit, CRT"
   ]
  },
  {
   "cell_type": "code",
   "execution_count": null,
   "id": "5c2a2249",
   "metadata": {},
   "outputs": [],
   "source": [
    "import statsmodels.api as sm\n",
    "\n",
    "data = finplan1_data.copy()\n",
    "\n",
    "model = sm.OLS(data[\"FinancialPlanning1_%\"], data[[\"risklit_quartile\", \"isced\", \"age_rec\", \"FinancialLiteracy_%\", \"CRTScore_%\"]])\n",
    "\n",
    "# Age group 2 = 18 to 35 y/o\n",
    "# Age group 3 = 36 to 55 y/o\n",
    "# Age group 4 = 56 to 75 y/o \n",
    "\n",
    "res = model.fit()\n",
    "print(res.summary())"
   ]
  },
  {
   "cell_type": "markdown",
   "id": "8c425fa1",
   "metadata": {},
   "source": [
    "---"
   ]
  },
  {
   "cell_type": "markdown",
   "id": "dfccd6e8",
   "metadata": {},
   "source": [
    "## Linear Regression: Financial Planning 1 by Risk literacy FOR 36-55 years old"
   ]
  },
  {
   "cell_type": "markdown",
   "id": "31fe514a",
   "metadata": {},
   "source": [
    "### V1: without control of education"
   ]
  },
  {
   "cell_type": "code",
   "execution_count": null,
   "id": "26189b02",
   "metadata": {},
   "outputs": [],
   "source": [
    "data = finplan1_data.loc[finplan1_data[\"age_rec\"] == 3].copy()\n",
    "\n",
    "model = sm.OLS(data[\"FinancialPlanning1_%\"], data[\"risklit_quartile\"])\n",
    "\n",
    "res = model.fit()\n",
    "print(res.summary())"
   ]
  },
  {
   "cell_type": "markdown",
   "id": "122adc56",
   "metadata": {},
   "source": [
    "### V2: with control of education"
   ]
  },
  {
   "cell_type": "code",
   "execution_count": null,
   "id": "3a0d148e",
   "metadata": {},
   "outputs": [],
   "source": [
    "data = finplan1_data.loc[finplan1_data[\"age_rec\"] == 3].copy()\n",
    "\n",
    "model = sm.OLS(data[\"FinancialPlanning1_%\"], data[[\"risklit_quartile\", \"isced\"]])\n",
    "\n",
    "res = model.fit()\n",
    "print(res.summary())"
   ]
  },
  {
   "cell_type": "markdown",
   "id": "2b6bdce9",
   "metadata": {},
   "source": [
    "### V3: with control of education and financial literacy"
   ]
  },
  {
   "cell_type": "code",
   "execution_count": null,
   "id": "790fd9d2",
   "metadata": {},
   "outputs": [],
   "source": [
    "data = finplan1_data.loc[finplan1_data[\"age_rec\"] == 3].copy()\n",
    "\n",
    "model = sm.OLS(data[\"FinancialPlanning1_%\"], data[[\"risklit_quartile\", \"isced\", \"FinancialLiteracy_%\"]])\n",
    "\n",
    "res = model.fit()\n",
    "print(res.summary())"
   ]
  },
  {
   "cell_type": "markdown",
   "id": "04c5f587",
   "metadata": {},
   "source": [
    "### V4: with control of education, financial literacy, CRT"
   ]
  },
  {
   "cell_type": "code",
   "execution_count": null,
   "id": "23356e8a",
   "metadata": {},
   "outputs": [],
   "source": [
    "data = finplan1_data.loc[finplan1_data[\"age_rec\"] == 3].copy()\n",
    "\n",
    "model = sm.OLS(data[\"FinancialPlanning1_%\"], data[[\"risklit_quartile\", \"isced\", \"FinancialLiteracy_%\", \"CRTScore_%\"]])\n",
    "\n",
    "res = model.fit()\n",
    "print(res.summary())"
   ]
  },
  {
   "cell_type": "markdown",
   "id": "4c3ce77e",
   "metadata": {},
   "source": [
    "---"
   ]
  },
  {
   "cell_type": "markdown",
   "id": "5a5a4e69",
   "metadata": {},
   "source": [
    "## Linear Regression: Financial Planning 2 by Risk literacy"
   ]
  },
  {
   "cell_type": "code",
   "execution_count": null,
   "id": "c80534ab",
   "metadata": {},
   "outputs": [],
   "source": [
    "finplan2_data = main.copy()\n",
    "risklit_quartile = pd.qcut(finplan2_data[\"TotalScore_19\"],q = 4, labels = False ) + 1\n",
    "finplan2_data[\"risklit_quartile\"] = risklit_quartile.copy()"
   ]
  },
  {
   "cell_type": "markdown",
   "id": "31c00831",
   "metadata": {},
   "source": [
    "### V1: Without any control variables"
   ]
  },
  {
   "cell_type": "code",
   "execution_count": null,
   "id": "2091b0aa",
   "metadata": {},
   "outputs": [],
   "source": [
    "import statsmodels.api as sm\n",
    "\n",
    "data = finplan2_data.copy()\n",
    "\n",
    "model = sm.OLS(data[\"FinancialPlanning1_%\"], data[\"risklit_quartile\"])\n",
    "\n",
    "res = model.fit()\n",
    "print(res.summary())"
   ]
  },
  {
   "cell_type": "markdown",
   "id": "b17ca9f1",
   "metadata": {},
   "source": [
    "### V2: With control of education"
   ]
  },
  {
   "cell_type": "code",
   "execution_count": null,
   "id": "ed8e7c4d",
   "metadata": {},
   "outputs": [],
   "source": [
    "import statsmodels.api as sm\n",
    "\n",
    "data = finplan2_data.copy()\n",
    "\n",
    "\n",
    "model = sm.OLS(data[\"FinancialPlanning1_%\"], data[[\"risklit_quartile\", \"isced\"]])\n",
    "\n",
    "res = model.fit()\n",
    "print(res.summary())"
   ]
  },
  {
   "cell_type": "markdown",
   "id": "b41c6907",
   "metadata": {},
   "source": [
    "### V3: With control of education and age"
   ]
  },
  {
   "cell_type": "code",
   "execution_count": null,
   "id": "f0d4cb8d",
   "metadata": {},
   "outputs": [],
   "source": [
    "import statsmodels.api as sm\n",
    "\n",
    "data = finplan2_data.copy()\n",
    "\n",
    "model = sm.OLS(data[\"FinancialPlanning1_%\"], data[[\"risklit_quartile\", \"isced\", \"age_rec\"]])\n",
    "\n",
    "# Age group 2 = 18 to 35 y/o\n",
    "# Age group 3 = 36 to 55 y/o\n",
    "# Age group 4 = 56 to 75 y/o \n",
    "\n",
    "res = model.fit()\n",
    "print(res.summary())"
   ]
  },
  {
   "cell_type": "markdown",
   "id": "7cf7a32a",
   "metadata": {},
   "source": [
    "### V4: With control of education, age and Financial Lit"
   ]
  },
  {
   "cell_type": "code",
   "execution_count": null,
   "id": "0bfbc16b",
   "metadata": {},
   "outputs": [],
   "source": [
    "import statsmodels.api as sm\n",
    "\n",
    "data = finplan2_data.copy()\n",
    "\n",
    "model = sm.OLS(data[\"FinancialPlanning1_%\"], data[[\"risklit_quartile\", \"isced\", \"age_rec\", \"FinancialLiteracy_%\"]])\n",
    "\n",
    "# Age group 2 = 18 to 35 y/o\n",
    "# Age group 3 = 36 to 55 y/o\n",
    "# Age group 4 = 56 to 75 y/o \n",
    "\n",
    "res = model.fit()\n",
    "print(res.summary())"
   ]
  },
  {
   "cell_type": "markdown",
   "id": "67d07f57",
   "metadata": {},
   "source": [
    "### V5: With control of education, age, Financial Lit, CRT"
   ]
  },
  {
   "cell_type": "code",
   "execution_count": null,
   "id": "8e5e1825",
   "metadata": {},
   "outputs": [],
   "source": [
    "import statsmodels.api as sm\n",
    "\n",
    "data = finplan2_data.copy()\n",
    "\n",
    "model = sm.OLS(data[\"FinancialPlanning1_%\"], data[[\"risklit_quartile\", \"isced\", \"age_rec\", \"FinancialLiteracy_%\", \"CRTScore_%\"]])\n",
    "\n",
    "# Age group 2 = 18 to 35 y/o\n",
    "# Age group 3 = 36 to 55 y/o\n",
    "# Age group 4 = 56 to 75 y/o \n",
    "\n",
    "res = model.fit()\n",
    "print(res.summary())"
   ]
  },
  {
   "cell_type": "markdown",
   "id": "5b83083e",
   "metadata": {},
   "source": [
    "---"
   ]
  },
  {
   "cell_type": "markdown",
   "id": "5a615719",
   "metadata": {},
   "source": [
    "## Linear Regression: Financial Planning 2 by Risk literacy FOR 36-55 years old"
   ]
  },
  {
   "cell_type": "markdown",
   "id": "10c6cf02",
   "metadata": {},
   "source": [
    "### V1: without control of education"
   ]
  },
  {
   "cell_type": "code",
   "execution_count": null,
   "id": "dcbab150",
   "metadata": {},
   "outputs": [],
   "source": [
    "data = finplan2_data.loc[finplan2_data[\"age_rec\"] == 3].copy()\n",
    "\n",
    "model = sm.OLS(data[\"FinancialPlanning1_%\"], data[\"risklit_quartile\"])\n",
    "\n",
    "res = model.fit()\n",
    "print(res.summary())"
   ]
  },
  {
   "cell_type": "markdown",
   "id": "f035180e",
   "metadata": {},
   "source": [
    "### V2: with control of education"
   ]
  },
  {
   "cell_type": "code",
   "execution_count": null,
   "id": "8f7eeb14",
   "metadata": {},
   "outputs": [],
   "source": [
    "data = finplan2_data.loc[finplan2_data[\"age_rec\"] == 3].copy()\n",
    "\n",
    "model = sm.OLS(data[\"FinancialPlanning1_%\"], data[[\"risklit_quartile\", \"isced\"]])\n",
    "\n",
    "res = model.fit()\n",
    "print(res.summary())"
   ]
  },
  {
   "cell_type": "markdown",
   "id": "3379248d",
   "metadata": {},
   "source": [
    "### V3: with control of education and financial literacy"
   ]
  },
  {
   "cell_type": "code",
   "execution_count": null,
   "id": "fedfe632",
   "metadata": {},
   "outputs": [],
   "source": [
    "data = finplan2_data.loc[finplan2_data[\"age_rec\"] == 3].copy()\n",
    "\n",
    "model = sm.OLS(data[\"FinancialPlanning1_%\"], data[[\"risklit_quartile\", \"isced\", \"FinancialLiteracy_%\"]])\n",
    "\n",
    "res = model.fit()\n",
    "print(res.summary())"
   ]
  },
  {
   "cell_type": "markdown",
   "id": "fdd3b7b2",
   "metadata": {},
   "source": [
    "### V4: with control of education, financial literacy, CRT"
   ]
  },
  {
   "cell_type": "code",
   "execution_count": null,
   "id": "4311a2aa",
   "metadata": {},
   "outputs": [],
   "source": [
    "data = finplan2_data.loc[finplan2_data[\"age_rec\"] == 3].copy()\n",
    "\n",
    "model = sm.OLS(data[\"FinancialPlanning1_%\"], data[[\"risklit_quartile\", \"isced\", \"FinancialLiteracy_%\", \"CRTScore_%\"]])\n",
    "\n",
    "res = model.fit()\n",
    "print(res.summary())"
   ]
  },
  {
   "cell_type": "markdown",
   "id": "8cceafde",
   "metadata": {},
   "source": [
    "---"
   ]
  },
  {
   "cell_type": "markdown",
   "id": "6eec469c",
   "metadata": {},
   "source": [
    "---"
   ]
  },
  {
   "cell_type": "markdown",
   "id": "abdfbd9d",
   "metadata": {},
   "source": [
    "## Linear Regression: Risk Alignment Residuals by Risk literacy"
   ]
  },
  {
   "cell_type": "code",
   "execution_count": null,
   "id": "1efdbadc",
   "metadata": {},
   "outputs": [],
   "source": [
    "finplan2_data = main.copy()\n",
    "risklit_quartile = pd.qcut(finplan2_data[\"TotalScore_19\"],q = 4, labels = False ) + 1\n",
    "finplan2_data[\"risklit_quartile\"] = risklit_quartile.copy()"
   ]
  },
  {
   "cell_type": "markdown",
   "id": "eb9c55ea",
   "metadata": {},
   "source": [
    "### V1: Without any control variables"
   ]
  },
  {
   "cell_type": "code",
   "execution_count": null,
   "id": "f35fc62b",
   "metadata": {},
   "outputs": [],
   "source": [
    "import statsmodels.api as sm\n",
    "\n",
    "data = finplan2_data.copy()\n",
    "\n",
    "model = sm.OLS(data[\"RiskAlignment_residual\"].abs(), sm.add_constant(data[\"risklit_quartile\"]))\n",
    "\n",
    "res = model.fit()\n",
    "print(res.summary())"
   ]
  },
  {
   "cell_type": "markdown",
   "id": "7dd04ced",
   "metadata": {},
   "source": [
    "### V2: With control of education"
   ]
  },
  {
   "cell_type": "code",
   "execution_count": null,
   "id": "cab10b6d",
   "metadata": {},
   "outputs": [],
   "source": [
    "import statsmodels.api as sm\n",
    "\n",
    "data = finplan2_data.copy()\n",
    "\n",
    "\n",
    "model = sm.OLS(data[\"RiskAlignment_residual\"].abs(), sm.add_constant(data[[\"risklit_quartile\", \"isced\"]]))\n",
    "\n",
    "res = model.fit()\n",
    "print(res.summary())"
   ]
  },
  {
   "cell_type": "markdown",
   "id": "036859b1",
   "metadata": {},
   "source": [
    "### V3: With control of education and age"
   ]
  },
  {
   "cell_type": "code",
   "execution_count": null,
   "id": "816ce781",
   "metadata": {},
   "outputs": [],
   "source": [
    "import statsmodels.api as sm\n",
    "\n",
    "data = finplan2_data.copy()\n",
    "\n",
    "model = sm.OLS(data[\"RiskAlignment_residual\"].abs(), sm.add_constant(data[[\"risklit_quartile\", \"isced\", \"age_rec\"]]))\n",
    "\n",
    "# Age group 2 = 18 to 35 y/o\n",
    "# Age group 3 = 36 to 55 y/o\n",
    "# Age group 4 = 56 to 75 y/o \n",
    "\n",
    "res = model.fit()\n",
    "print(res.summary())"
   ]
  },
  {
   "cell_type": "markdown",
   "id": "30c68bc0",
   "metadata": {},
   "source": [
    "### V4: With control of education, age and Financial Lit"
   ]
  },
  {
   "cell_type": "code",
   "execution_count": null,
   "id": "826c2ebe",
   "metadata": {},
   "outputs": [],
   "source": [
    "import statsmodels.api as sm\n",
    "\n",
    "data = finplan2_data.copy()\n",
    "\n",
    "model = sm.OLS(data[\"RiskAlignment_residual\"].abs(), sm.add_constant(data[[\"risklit_quartile\", \"isced\", \"age_rec\", \"FinancialLiteracy_%\"]]))\n",
    "\n",
    "# Age group 2 = 18 to 35 y/o\n",
    "# Age group 3 = 36 to 55 y/o\n",
    "# Age group 4 = 56 to 75 y/o \n",
    "\n",
    "res = model.fit()\n",
    "print(res.summary())"
   ]
  },
  {
   "cell_type": "markdown",
   "id": "6a578e5c",
   "metadata": {},
   "source": [
    "### V5: With control of education, age, Financial Lit, CRT"
   ]
  },
  {
   "cell_type": "code",
   "execution_count": null,
   "id": "a76ed0e0",
   "metadata": {},
   "outputs": [],
   "source": [
    "import statsmodels.api as sm\n",
    "\n",
    "data = finplan2_data.copy()\n",
    "\n",
    "model = sm.OLS(data[\"RiskAlignment_residual\"].abs(), sm.add_constant(data[[\"risklit_quartile\", \"isced\", \"age_rec\", \"FinancialLiteracy_%\", \"CRTScore_%\"]]))\n",
    "\n",
    "# Age group 2 = 18 to 35 y/o\n",
    "# Age group 3 = 36 to 55 y/o\n",
    "# Age group 4 = 56 to 75 y/o \n",
    "\n",
    "res = model.fit()\n",
    "print(res.summary())"
   ]
  },
  {
   "cell_type": "markdown",
   "id": "bf95e34c",
   "metadata": {},
   "source": [
    "---"
   ]
  },
  {
   "cell_type": "markdown",
   "id": "c81eb768",
   "metadata": {},
   "source": [
    "## Linear Regression: Risk Alignment residuals by Risk literacy FOR 36-55 years old"
   ]
  },
  {
   "cell_type": "markdown",
   "id": "e2c8dfdc",
   "metadata": {},
   "source": [
    "### V1: without control of education"
   ]
  },
  {
   "cell_type": "code",
   "execution_count": null,
   "id": "6929077e",
   "metadata": {},
   "outputs": [],
   "source": [
    "data = finplan2_data.loc[finplan2_data[\"age_rec\"] == 3].copy()\n",
    "\n",
    "model = sm.OLS(data[\"RiskAlignment_residual\"].abs(), sm.add_constant(data[\"risklit_quartile\"]))\n",
    "\n",
    "res = model.fit()\n",
    "print(res.summary())"
   ]
  },
  {
   "cell_type": "markdown",
   "id": "d2d03e9f",
   "metadata": {},
   "source": [
    "### V2: with control of education"
   ]
  },
  {
   "cell_type": "code",
   "execution_count": null,
   "id": "7c6eec7f",
   "metadata": {},
   "outputs": [],
   "source": [
    "data = finplan2_data.loc[finplan2_data[\"age_rec\"] == 3].copy()\n",
    "\n",
    "model = sm.OLS(data[\"RiskAlignment_residual\"].abs(), sm.add_constant(data[[\"risklit_quartile\", \"isced\"]]))\n",
    "\n",
    "res = model.fit()\n",
    "print(res.summary())"
   ]
  },
  {
   "cell_type": "markdown",
   "id": "e6a7a86e",
   "metadata": {},
   "source": [
    "### V3: with control of education and financial literacy"
   ]
  },
  {
   "cell_type": "code",
   "execution_count": null,
   "id": "083a12e9",
   "metadata": {},
   "outputs": [],
   "source": [
    "data = finplan2_data.loc[finplan2_data[\"age_rec\"] == 3].copy()\n",
    "\n",
    "model = sm.OLS(data[\"RiskAlignment_residual\"].abs(), sm.add_constant(data[[\"risklit_quartile\", \"isced\", \"FinancialLiteracy_%\"]]))\n",
    "\n",
    "res = model.fit()\n",
    "print(res.summary())"
   ]
  },
  {
   "cell_type": "markdown",
   "id": "0e1ab4f5",
   "metadata": {},
   "source": [
    "### V4: with control of education, financial literacy, CRT"
   ]
  },
  {
   "cell_type": "code",
   "execution_count": null,
   "id": "97d5e7ad",
   "metadata": {},
   "outputs": [],
   "source": [
    "data = finplan2_data.loc[finplan2_data[\"age_rec\"] == 3].copy()\n",
    "\n",
    "model = sm.OLS(data[\"RiskAlignment_residual\"].abs(), sm.add_constant(data[[\"risklit_quartile\", \"isced\", \"FinancialLiteracy_%\", \"CRTScore_%\"]]))\n",
    "\n",
    "res = model.fit()\n",
    "print(res.summary())"
   ]
  },
  {
   "cell_type": "markdown",
   "id": "d6828a75",
   "metadata": {},
   "source": [
    "---"
   ]
  },
  {
   "cell_type": "markdown",
   "id": "bd3da946",
   "metadata": {},
   "source": [
    "---"
   ]
  },
  {
   "cell_type": "markdown",
   "id": "ef97f669",
   "metadata": {},
   "source": [
    "## Linear Regression: Risk Alignment (Felix) by Risk literacy"
   ]
  },
  {
   "cell_type": "code",
   "execution_count": null,
   "id": "99e8d15e",
   "metadata": {},
   "outputs": [],
   "source": [
    "finplan2_data = main.copy()\n",
    "risklit_quartile = pd.qcut(finplan2_data[\"TotalScore_19\"],q = 4, labels = False ) + 1\n",
    "finplan2_data[\"risklit_quartile\"] = risklit_quartile.copy()"
   ]
  },
  {
   "cell_type": "markdown",
   "id": "e99d2729",
   "metadata": {},
   "source": [
    "### V1: Without any control variables"
   ]
  },
  {
   "cell_type": "code",
   "execution_count": null,
   "id": "f7157fb4",
   "metadata": {},
   "outputs": [],
   "source": [
    "import statsmodels.api as sm\n",
    "\n",
    "data = finplan2_data.copy()\n",
    "\n",
    "model = sm.OLS(data[\"RiskAlignment_felix\"].abs(), sm.add_constant(data[\"risklit_quartile\"]))\n",
    "\n",
    "res = model.fit()\n",
    "print(res.summary())"
   ]
  },
  {
   "cell_type": "markdown",
   "id": "a4462d48",
   "metadata": {},
   "source": [
    "### V2: With control of education"
   ]
  },
  {
   "cell_type": "code",
   "execution_count": null,
   "id": "c0c92633",
   "metadata": {},
   "outputs": [],
   "source": [
    "import statsmodels.api as sm\n",
    "\n",
    "data = finplan2_data.copy()\n",
    "\n",
    "\n",
    "model = sm.OLS(data[\"RiskAlignment_felix\"].abs(), sm.add_constant(data[[\"risklit_quartile\", \"isced\"]]))\n",
    "\n",
    "res = model.fit()\n",
    "print(res.summary())"
   ]
  },
  {
   "cell_type": "markdown",
   "id": "e337c776",
   "metadata": {},
   "source": [
    "### V3: With control of education and age"
   ]
  },
  {
   "cell_type": "code",
   "execution_count": null,
   "id": "6b27c8ff",
   "metadata": {},
   "outputs": [],
   "source": [
    "import statsmodels.api as sm\n",
    "\n",
    "data = finplan2_data.copy()\n",
    "\n",
    "model = sm.OLS(data[\"RiskAlignment_felix\"].abs(), sm.add_constant(data[[\"risklit_quartile\", \"isced\", \"age_rec\"]]))\n",
    "\n",
    "# Age group 2 = 18 to 35 y/o\n",
    "# Age group 3 = 36 to 55 y/o\n",
    "# Age group 4 = 56 to 75 y/o \n",
    "\n",
    "res = model.fit()\n",
    "print(res.summary())"
   ]
  },
  {
   "cell_type": "markdown",
   "id": "76583e82",
   "metadata": {},
   "source": [
    "### V4: With control of education, age and Financial Lit"
   ]
  },
  {
   "cell_type": "code",
   "execution_count": null,
   "id": "6da5fae1",
   "metadata": {},
   "outputs": [],
   "source": [
    "import statsmodels.api as sm\n",
    "\n",
    "data = finplan2_data.copy()\n",
    "\n",
    "model = sm.OLS(data[\"RiskAlignment_felix\"].abs(), sm.add_constant(data[[\"risklit_quartile\", \"isced\", \"age_rec\", \"FinancialLiteracy_%\"]]))\n",
    "\n",
    "# Age group 2 = 18 to 35 y/o\n",
    "# Age group 3 = 36 to 55 y/o\n",
    "# Age group 4 = 56 to 75 y/o \n",
    "\n",
    "res = model.fit()\n",
    "print(res.summary())"
   ]
  },
  {
   "cell_type": "markdown",
   "id": "d3384eb3",
   "metadata": {},
   "source": [
    "### V5: With control of education, age, Financial Lit, CRT"
   ]
  },
  {
   "cell_type": "code",
   "execution_count": null,
   "id": "1a5d5020",
   "metadata": {},
   "outputs": [],
   "source": [
    "import statsmodels.api as sm\n",
    "\n",
    "data = finplan2_data.copy()\n",
    "\n",
    "model = sm.OLS(data[\"RiskAlignment_felix\"].abs(), sm.add_constant(data[[\"risklit_quartile\", \"isced\", \"age_rec\", \"FinancialLiteracy_%\", \"CRTScore_%\"]]))\n",
    "\n",
    "# Age group 2 = 18 to 35 y/o\n",
    "# Age group 3 = 36 to 55 y/o\n",
    "# Age group 4 = 56 to 75 y/o \n",
    "\n",
    "res = model.fit()\n",
    "print(res.summary())"
   ]
  },
  {
   "cell_type": "markdown",
   "id": "0b7cc763",
   "metadata": {},
   "source": [
    "---"
   ]
  },
  {
   "cell_type": "markdown",
   "id": "8e7f6910",
   "metadata": {},
   "source": [
    "## Linear Regression: Risk Alignement (Felix) by Risk literacy FOR 36-55 years old"
   ]
  },
  {
   "cell_type": "markdown",
   "id": "ebd509e2",
   "metadata": {},
   "source": [
    "### V1: without control of education"
   ]
  },
  {
   "cell_type": "code",
   "execution_count": null,
   "id": "5f9e8c56",
   "metadata": {},
   "outputs": [],
   "source": [
    "data = finplan2_data.loc[finplan2_data[\"age_rec\"] == 3].copy()\n",
    "\n",
    "model = sm.OLS(data[\"RiskAlignment_felix\"].abs(), sm.add_constant(data[\"risklit_quartile\"]))\n",
    "\n",
    "res = model.fit()\n",
    "print(res.summary())"
   ]
  },
  {
   "cell_type": "markdown",
   "id": "0135c49d",
   "metadata": {},
   "source": [
    "### V2: with control of education"
   ]
  },
  {
   "cell_type": "code",
   "execution_count": null,
   "id": "f37bbf19",
   "metadata": {},
   "outputs": [],
   "source": [
    "data = finplan2_data.loc[finplan2_data[\"age_rec\"] == 3].copy()\n",
    "\n",
    "model = sm.OLS(data[\"RiskAlignment_felix\"].abs(), sm.add_constant(data[[\"risklit_quartile\", \"isced\"]]))\n",
    "\n",
    "res = model.fit()\n",
    "print(res.summary())"
   ]
  },
  {
   "cell_type": "markdown",
   "id": "062fa96e",
   "metadata": {},
   "source": [
    "### V3: with control of education and financial literacy"
   ]
  },
  {
   "cell_type": "code",
   "execution_count": null,
   "id": "dde3d519",
   "metadata": {},
   "outputs": [],
   "source": [
    "data = finplan2_data.loc[finplan2_data[\"age_rec\"] == 3].copy()\n",
    "\n",
    "model = sm.OLS(data[\"RiskAlignment_felix\"].abs(), sm.add_constant(data[[\"risklit_quartile\", \"isced\", \"FinancialLiteracy_%\"]]))\n",
    "\n",
    "res = model.fit()\n",
    "print(res.summary())"
   ]
  },
  {
   "cell_type": "markdown",
   "id": "658255d6",
   "metadata": {},
   "source": [
    "### V4: with control of education, financial literacy, CRT"
   ]
  },
  {
   "cell_type": "code",
   "execution_count": null,
   "id": "46046552",
   "metadata": {},
   "outputs": [],
   "source": [
    "data = finplan2_data.loc[finplan2_data[\"age_rec\"] == 3].copy()\n",
    "\n",
    "model = sm.OLS(data[\"RiskAlignment_felix\"].abs(), sm.add_constant(data[[\"risklit_quartile\", \"isced\", \"FinancialLiteracy_%\", \"CRTScore_%\"]]))\n",
    "\n",
    "res = model.fit()\n",
    "print(res.summary())"
   ]
  },
  {
   "cell_type": "markdown",
   "id": "e992ea03",
   "metadata": {},
   "source": [
    "---"
   ]
  },
  {
   "cell_type": "markdown",
   "id": "ebbb4040",
   "metadata": {},
   "source": [
    "---"
   ]
  },
  {
   "cell_type": "markdown",
   "id": "902d5807",
   "metadata": {},
   "source": [
    "## Ordinal Logistic Regression: Emergency funds dummy by Risk literacy"
   ]
  },
  {
   "cell_type": "markdown",
   "id": "30d54bd3",
   "metadata": {},
   "source": [
    "### V1: with control of education, age, financial literacy"
   ]
  },
  {
   "cell_type": "code",
   "execution_count": null,
   "id": "51d384b1",
   "metadata": {},
   "outputs": [],
   "source": [
    "import statsmodels.api as sm\n",
    "from statsmodels.miscmodels.ordinal_model import OrderedModel\n",
    "\n",
    "data = finplan2_data.copy()\n",
    "\n",
    "data[\"financialplanning_emergency\"] = pd.Categorical(data[\"financialplanning_emergency\"], ordered=True)\n",
    "\n",
    "model = OrderedModel(data[\"financialplanning_emergency\"], data[[\"risklit_quartile\", \"isced\", \"age_rec\", \"FinancialLiteracy_%\"]],\n",
    "                     distr='logit')\n",
    "\n",
    "# Age group 2 = 18 to 35 y/o\n",
    "# Age group 3 = 36 to 55 y/o\n",
    "# Age group 4 = 56 to 75 y/o \n",
    "\n",
    "res = model.fit(method='bfgs')\n",
    "print(res.summary())"
   ]
  },
  {
   "cell_type": "markdown",
   "id": "ebafa724",
   "metadata": {},
   "source": [
    "### V2: with control of education, age, financial literacy, CRT"
   ]
  },
  {
   "cell_type": "code",
   "execution_count": null,
   "id": "efcb856e",
   "metadata": {},
   "outputs": [],
   "source": [
    "import statsmodels.api as sm\n",
    "from statsmodels.miscmodels.ordinal_model import OrderedModel\n",
    "\n",
    "data = finplan2_data.copy()\n",
    "\n",
    "data[\"financialplanning_emergency\"] = pd.Categorical(data[\"financialplanning_emergency\"], ordered=True)\n",
    "\n",
    "model = OrderedModel(data[\"financialplanning_emergency\"], data[[\"risklit_quartile\", \"isced\", \"age_rec\", \"FinancialLiteracy_%\", \"CRTScore_%\"]],\n",
    "                     distr='logit')\n",
    "\n",
    "# Age group 2 = 18 to 35 y/o\n",
    "# Age group 3 = 36 to 55 y/o\n",
    "# Age group 4 = 56 to 75 y/o \n",
    "\n",
    "res = model.fit(method='bfgs')\n",
    "print(res.summary())"
   ]
  },
  {
   "cell_type": "markdown",
   "id": "b0d14f19",
   "metadata": {},
   "source": [
    "---"
   ]
  },
  {
   "cell_type": "markdown",
   "id": "93b8f29a",
   "metadata": {},
   "source": [
    "---"
   ]
  },
  {
   "cell_type": "markdown",
   "id": "b9cdd35f",
   "metadata": {},
   "source": [
    "## Ordinal Logistic Regression: Retirement funds dummy by Risk literacy"
   ]
  },
  {
   "cell_type": "markdown",
   "id": "62fe335a",
   "metadata": {},
   "source": [
    "### V1: with control of education, age, financial literacy"
   ]
  },
  {
   "cell_type": "code",
   "execution_count": null,
   "id": "a1b98f13",
   "metadata": {},
   "outputs": [],
   "source": [
    "import statsmodels.api as sm\n",
    "from statsmodels.miscmodels.ordinal_model import OrderedModel\n",
    "\n",
    "data = finplan2_data.copy()\n",
    "\n",
    "data[\"financialplanning_retirement\"] = pd.Categorical(data[\"financialplanning_retirement\"], ordered=True)\n",
    "\n",
    "model = OrderedModel(data[\"financialplanning_retirement\"], data[[\"risklit_quartile\", \"isced\", \"age_rec\", \"FinancialLiteracy_%\"]],\n",
    "                     distr='logit')\n",
    "\n",
    "# Age group 2 = 18 to 35 y/o\n",
    "# Age group 3 = 36 to 55 y/o\n",
    "# Age group 4 = 56 to 75 y/o \n",
    "\n",
    "res = model.fit(method='bfgs')\n",
    "print(res.summary())"
   ]
  },
  {
   "cell_type": "markdown",
   "id": "42411e28",
   "metadata": {},
   "source": [
    "### V2: with control of education, age, financial literacy, CRT"
   ]
  },
  {
   "cell_type": "code",
   "execution_count": null,
   "id": "b0ea32d7",
   "metadata": {},
   "outputs": [],
   "source": [
    "import statsmodels.api as sm\n",
    "from statsmodels.miscmodels.ordinal_model import OrderedModel\n",
    "\n",
    "data = finplan2_data.copy()\n",
    "\n",
    "data[\"financialplanning_retirement\"] = pd.Categorical(data[\"financialplanning_retirement\"], ordered=True)\n",
    "\n",
    "model = OrderedModel(data[\"financialplanning_retirement\"], data[[\"risklit_quartile\", \"isced\", \"age_rec\", \"FinancialLiteracy_%\", \"CRTScore_%\"]],\n",
    "                     distr='logit')\n",
    "\n",
    "# Age group 2 = 18 to 35 y/o\n",
    "# Age group 3 = 36 to 55 y/o\n",
    "# Age group 4 = 56 to 75 y/o \n",
    "\n",
    "res = model.fit(method='bfgs')\n",
    "print(res.summary())"
   ]
  },
  {
   "cell_type": "markdown",
   "id": "34fbca72",
   "metadata": {},
   "source": [
    "---"
   ]
  },
  {
   "cell_type": "markdown",
   "id": "cc475530",
   "metadata": {},
   "source": [
    "---\n"
   ]
  },
  {
   "cell_type": "markdown",
   "id": "691c14d6",
   "metadata": {},
   "source": [
    "## Linear Regression: Investment Behaviour by Risk literacy"
   ]
  },
  {
   "cell_type": "markdown",
   "id": "382f51e3",
   "metadata": {},
   "source": [
    "### V1: With control of education, age and Financial Lit"
   ]
  },
  {
   "cell_type": "code",
   "execution_count": null,
   "id": "b18e41a8",
   "metadata": {},
   "outputs": [],
   "source": [
    "import statsmodels.api as sm\n",
    "\n",
    "data = finplan2_data.copy()\n",
    "\n",
    "model = sm.OLS(data[\"investment_behaviour\"].abs(), sm.add_constant(data[[\"risklit_quartile\", \"isced\", \"age_rec\", \"FinancialLiteracy_%\"]]))\n",
    "\n",
    "# Age group 2 = 18 to 35 y/o\n",
    "# Age group 3 = 36 to 55 y/o\n",
    "# Age group 4 = 56 to 75 y/o \n",
    "\n",
    "res = model.fit()\n",
    "print(res.summary())"
   ]
  },
  {
   "cell_type": "markdown",
   "id": "cc4c0e2d",
   "metadata": {},
   "source": [
    "### V2: With control of education, age, Financial Lit, CRT"
   ]
  },
  {
   "cell_type": "code",
   "execution_count": null,
   "id": "4a5197e0",
   "metadata": {},
   "outputs": [],
   "source": [
    "import statsmodels.api as sm\n",
    "\n",
    "data = finplan2_data.copy()\n",
    "\n",
    "model = sm.OLS(data[\"investment_behaviour\"].abs(), sm.add_constant(data[[\"risklit_quartile\", \"isced\", \"age_rec\", \"FinancialLiteracy_%\", \"CRTScore_%\"]]))\n",
    "\n",
    "# Age group 2 = 18 to 35 y/o\n",
    "# Age group 3 = 36 to 55 y/o\n",
    "# Age group 4 = 56 to 75 y/o \n",
    "\n",
    "res = model.fit()\n",
    "print(res.summary())"
   ]
  },
  {
   "cell_type": "markdown",
   "id": "4758ad71",
   "metadata": {},
   "source": [
    "---"
   ]
  },
  {
   "cell_type": "markdown",
   "id": "5896d349",
   "metadata": {},
   "source": [
    "---"
   ]
  },
  {
   "cell_type": "markdown",
   "id": "c32568a8",
   "metadata": {},
   "source": [
    "## Linear Regression: Investments by Risk literacy"
   ]
  },
  {
   "cell_type": "markdown",
   "id": "3519d5ac",
   "metadata": {},
   "source": [
    "### V1: With control of education, age and Financial Lit"
   ]
  },
  {
   "cell_type": "code",
   "execution_count": null,
   "id": "d6a87de1",
   "metadata": {},
   "outputs": [],
   "source": [
    "import statsmodels.api as sm\n",
    "\n",
    "data = finplan2_data.copy()\n",
    "\n",
    "model = sm.OLS(data[\"investments\"].abs(), sm.add_constant(data[[\"risklit_quartile\", \"isced\", \"age_rec\", \"FinancialLiteracy_%\"]]))\n",
    "\n",
    "# Age group 2 = 18 to 35 y/o\n",
    "# Age group 3 = 36 to 55 y/o\n",
    "# Age group 4 = 56 to 75 y/o \n",
    "\n",
    "res = model.fit()\n",
    "print(res.summary())"
   ]
  },
  {
   "cell_type": "markdown",
   "id": "25555c1e",
   "metadata": {},
   "source": [
    "### V2: With control of education, age, Financial Lit, CRT"
   ]
  },
  {
   "cell_type": "code",
   "execution_count": null,
   "id": "44564507",
   "metadata": {},
   "outputs": [],
   "source": [
    "import statsmodels.api as sm\n",
    "\n",
    "data = finplan2_data.copy()\n",
    "\n",
    "model = sm.OLS(data[\"investments\"].abs(), sm.add_constant(data[[\"risklit_quartile\", \"isced\", \"age_rec\", \"FinancialLiteracy_%\", \"CRTScore_%\"]]))\n",
    "\n",
    "# Age group 2 = 18 to 35 y/o\n",
    "# Age group 3 = 36 to 55 y/o\n",
    "# Age group 4 = 56 to 75 y/o \n",
    "\n",
    "res = model.fit()\n",
    "print(res.summary())"
   ]
  },
  {
   "cell_type": "markdown",
   "id": "41be749b",
   "metadata": {},
   "source": [
    "---"
   ]
  },
  {
   "cell_type": "markdown",
   "id": "4b7f8ca9",
   "metadata": {},
   "source": [
    "---"
   ]
  },
  {
   "cell_type": "markdown",
   "id": "12702d76",
   "metadata": {},
   "source": [
    "## Linear Regression: Riskier Investments by Risk literacy"
   ]
  },
  {
   "cell_type": "markdown",
   "id": "e3a1d17e",
   "metadata": {},
   "source": [
    "### V1: With control of education, age and Financial Lit"
   ]
  },
  {
   "cell_type": "code",
   "execution_count": null,
   "id": "83f012f3",
   "metadata": {},
   "outputs": [],
   "source": [
    "import statsmodels.api as sm\n",
    "\n",
    "data = finplan2_data.copy()\n",
    "\n",
    "model = sm.OLS(data[\"risky_investments\"].abs(), sm.add_constant(data[[\"risklit_quartile\", \"isced\", \"age_rec\", \"FinancialLiteracy_%\"]]))\n",
    "\n",
    "# Age group 2 = 18 to 35 y/o\n",
    "# Age group 3 = 36 to 55 y/o\n",
    "# Age group 4 = 56 to 75 y/o \n",
    "\n",
    "res = model.fit()\n",
    "print(res.summary())"
   ]
  },
  {
   "cell_type": "markdown",
   "id": "979e80c1",
   "metadata": {},
   "source": [
    "### V2: With control of education, age, Financial Lit, CRT"
   ]
  },
  {
   "cell_type": "code",
   "execution_count": null,
   "id": "f00da403",
   "metadata": {},
   "outputs": [],
   "source": [
    "import statsmodels.api as sm\n",
    "\n",
    "data = finplan2_data.copy()\n",
    "\n",
    "model = sm.OLS(data[\"risky_investments\"], sm.add_constant(data[[\"risklit_quartile\", \"isced\", \"age_rec\", \"FinancialLiteracy_%\", \"CRTScore_%\"]]))\n",
    "\n",
    "# Age group 2 = 18 to 35 y/o\n",
    "# Age group 3 = 36 to 55 y/o\n",
    "# Age group 4 = 56 to 75 y/o \n",
    "\n",
    "res = model.fit()\n",
    "print(res.summary())"
   ]
  },
  {
   "cell_type": "markdown",
   "id": "700e18c6",
   "metadata": {},
   "source": [
    "---"
   ]
  },
  {
   "cell_type": "markdown",
   "id": "d5e8bdbf",
   "metadata": {},
   "source": [
    "---"
   ]
  },
  {
   "cell_type": "markdown",
   "id": "2abc6433-623e-4cac-bcf2-8e17e2e11e6b",
   "metadata": {},
   "source": [
    "## Willingness to take risk vs risk literacy"
   ]
  },
  {
   "cell_type": "code",
   "execution_count": null,
   "id": "5c7cc578-89a7-4fec-8f94-9a3e6a32ca9d",
   "metadata": {},
   "outputs": [],
   "source": [
    "fig, axis = plt.subplots(1, 1, figsize = [6, 6])\n",
    "\n",
    "sns.regplot( x = main[\"TotalScore_%\"], y = (main[\"RiskAppetite1_%\"] + main[\"RiskAppetite2_%\"])/2, scatter_kws={\"color\": \"blue\"}, line_kws={\"color\": \"red\"})\n",
    "axis.set(ylabel='Risk Appetite', xlabel='Total Score_%')\n",
    "\n",
    "axis.set_xticks(np.arange(0, 110, step = 10))\n",
    "axis.set_yticks(np.arange(0, 110, step = 10))\n",
    "plt.show()"
   ]
  },
  {
   "cell_type": "markdown",
   "id": "0303a201-ea4c-4760-97e0-b6e9efb10e09",
   "metadata": {},
   "source": [
    "## Financial Planning 1 vs risk literacy"
   ]
  },
  {
   "cell_type": "code",
   "execution_count": null,
   "id": "3959a968-7cc0-4719-8b61-06885ce12a3b",
   "metadata": {},
   "outputs": [],
   "source": [
    "fig, axis = plt.subplots(1, 1, figsize = [6, 6])\n",
    "\n",
    "sns.regplot( x = main[\"TotalScore_%\"], y = main[\"FinancialPlanning1_%\"], scatter_kws={\"color\": \"blue\"}, line_kws={\"color\": \"red\"})\n",
    "axis.set(ylabel='Financial Planning 1', xlabel='Total Score_%')\n",
    "\n",
    "axis.set_xticks(np.arange(0, 110, step = 10))\n",
    "axis.set_yticks(np.arange(0, 110, step = 10))\n",
    "plt.show()"
   ]
  },
  {
   "cell_type": "markdown",
   "id": "b46e54cc",
   "metadata": {},
   "source": [
    "## Financial Planning 2 vs risk literacy"
   ]
  },
  {
   "cell_type": "code",
   "execution_count": null,
   "id": "e2fddb12",
   "metadata": {},
   "outputs": [],
   "source": [
    "fig, axis = plt.subplots(1, 1, figsize = [6, 6])\n",
    "\n",
    "sns.regplot( x = main[\"TotalScore_%\"], y = main[\"FinancialPlanning2_%\"], scatter_kws={\"color\": \"blue\"}, line_kws={\"color\": \"red\"})\n",
    "axis.set(ylabel='Financial Planning 2', xlabel='Total Score_%')\n",
    "\n",
    "axis.set_xticks(np.arange(0, 110, step = 10))\n",
    "axis.set_yticks(np.arange(0, 110, step = 10))\n",
    "plt.show()"
   ]
  },
  {
   "cell_type": "markdown",
   "id": "be9e71d6",
   "metadata": {},
   "source": [
    "## Risky Assets ownership vs risk literacy"
   ]
  },
  {
   "cell_type": "code",
   "execution_count": null,
   "id": "55826d1c",
   "metadata": {},
   "outputs": [],
   "source": [
    "fig, axis = plt.subplots(1, 1, figsize = [6, 6])\n",
    "\n",
    "sns.regplot( x = main[\"TotalScore_%\"], y = main[\"RiskAssets_%\"], scatter_kws={\"color\": \"blue\"}, line_kws={\"color\": \"red\"})\n",
    "axis.set(ylabel='Risky assets ownership', xlabel='Total Score_%')\n",
    "\n",
    "axis.set_xticks(np.arange(0, 110, step = 10))\n",
    "axis.set_yticks(np.arange(0, 110, step = 10))\n",
    "plt.show()"
   ]
  },
  {
   "cell_type": "markdown",
   "id": "d102d05c",
   "metadata": {},
   "source": [
    "## Safe Assets ownership vs risk literacy"
   ]
  },
  {
   "cell_type": "code",
   "execution_count": null,
   "id": "d1d9e2bd",
   "metadata": {},
   "outputs": [],
   "source": [
    "fig, axis = plt.subplots(1, 1, figsize = [6, 6])\n",
    "\n",
    "sns.regplot( x = main[\"TotalScore_%\"], y = main[\"SafeAssets_%\"], scatter_kws={\"color\": \"blue\"}, line_kws={\"color\": \"red\"})\n",
    "axis.set(ylabel='Safe assets ownership', xlabel='Total Score_%')\n",
    "\n",
    "axis.set_xticks(np.arange(0, 110, step = 10))\n",
    "axis.set_yticks(np.arange(0, 110, step = 10))\n",
    "plt.show()"
   ]
  },
  {
   "cell_type": "markdown",
   "id": "ce79f656",
   "metadata": {},
   "source": [
    "## Financial Literacy vs risk literacy"
   ]
  },
  {
   "cell_type": "code",
   "execution_count": null,
   "id": "2139b1d9",
   "metadata": {},
   "outputs": [],
   "source": [
    "fig, axis = plt.subplots(1, 1, figsize = [6, 6])\n",
    "\n",
    "sns.regplot( x = main[\"TotalScore_%\"], y = main[\"FinancialLiteracy_%\"], scatter_kws={\"color\": \"blue\"}, line_kws={\"color\": \"red\"})\n",
    "axis.set(ylabel='Financial Literacy', xlabel='Total Score_%')\n",
    "\n",
    "axis.set_xticks(np.arange(0, 110, step = 10))\n",
    "axis.set_yticks(np.arange(0, 110, step = 10))\n",
    "plt.show()"
   ]
  },
  {
   "cell_type": "markdown",
   "id": "9b7a2f1c",
   "metadata": {},
   "source": [
    "## CRT vs risk literacy"
   ]
  },
  {
   "cell_type": "code",
   "execution_count": null,
   "id": "9609ad46",
   "metadata": {},
   "outputs": [],
   "source": [
    "fig, axis = plt.subplots(1, 1, figsize = [6, 6])\n",
    "\n",
    "sns.regplot( x = main[\"TotalScore_%\"], y = main[\"CRTScore_%\"], scatter_kws={\"color\": \"blue\"}, line_kws={\"color\": \"red\"})\n",
    "axis.set(ylabel='CRT score', xlabel='Total Score_%')\n",
    "\n",
    "axis.set_xticks(np.arange(0, 110, step = 10))\n",
    "axis.set_yticks(np.arange(0, 110, step = 10))\n",
    "plt.show()"
   ]
  },
  {
   "cell_type": "markdown",
   "id": "b05c77f1",
   "metadata": {},
   "source": [
    "## Risk Alignment residuals vs Risk Literacy"
   ]
  },
  {
   "cell_type": "code",
   "execution_count": null,
   "id": "f74b2baf",
   "metadata": {},
   "outputs": [],
   "source": [
    "fig, axis = plt.subplots(1, 1, figsize = [6, 6])\n",
    "\n",
    "sns.regplot( x = main[\"TotalScore_%\"], y = main[\"RiskAlignment_residual\"].abs(), scatter_kws={\"color\": \"blue\"}, line_kws={\"color\": \"red\"})\n",
    "axis.set(ylabel='RiskAlignment_residual', xlabel='Total Score_%')\n",
    "\n",
    "axis.set_xticks(np.arange(0, 110, step = 10))\n",
    "axis.set_yticks(np.arange(0, 110, step = 10))\n",
    "plt.show()"
   ]
  },
  {
   "cell_type": "code",
   "execution_count": null,
   "id": "c96bbdd6-4089-4b83-9fc5-ce1803e7d698",
   "metadata": {},
   "outputs": [],
   "source": [
    "print(\"Correlation coefficient between Risk Lit and\", \n",
    "      \"absolute value of risk alignement residuals: \\n\", \n",
    "      main[\"TotalScore_%\"].corr(main[\"RiskAlignment_residual\"].abs(), method = \"pearson\"))"
   ]
  },
  {
   "cell_type": "markdown",
   "id": "8a646c34",
   "metadata": {},
   "source": [
    "## Risk Alignment (Felix) vs Risk Literacy"
   ]
  },
  {
   "cell_type": "code",
   "execution_count": null,
   "id": "1b3d8f1a",
   "metadata": {},
   "outputs": [],
   "source": [
    "fig, axis = plt.subplots(1, 1, figsize = [6, 6])\n",
    "\n",
    "sns.regplot( x = main[\"TotalScore_%\"], y = main[\"RiskAlignment_felix\"].abs(), scatter_kws={\"color\": \"blue\"}, line_kws={\"color\": \"red\"})\n",
    "axis.set(ylabel='RiskAlignment_felix', xlabel='Total Score_%')\n",
    "\n",
    "axis.set_xticks(np.arange(0, 110, step = 10))\n",
    "axis.set_yticks(np.arange(0, 8, step = 1))\n",
    "plt.show()"
   ]
  },
  {
   "cell_type": "code",
   "execution_count": null,
   "id": "5f5173f4",
   "metadata": {},
   "outputs": [],
   "source": [
    "print(\"Correlation coefficient between Risk Lit and\", \n",
    "      \"absolute value of risk alignement residuals: \\n\", \n",
    "      main[\"TotalScore_%\"].corr(main[\"RiskAlignment_felix\"].abs(), method = \"pearson\"))"
   ]
  },
  {
   "cell_type": "markdown",
   "id": "18a03342",
   "metadata": {},
   "source": [
    "## Table Output"
   ]
  },
  {
   "cell_type": "code",
   "execution_count": null,
   "id": "9b16f3e1-328c-4443-b94f-6a38ae56b236",
   "metadata": {},
   "outputs": [],
   "source": [
    "\n",
    "def regression_output(data: pd.DataFrame, regression_type: str, dependent_variable: str, independent_variable: str,\n",
    "                      control_variables: list, depvar_absval: bool = False) -> pd.DataFrame :\n",
    "    \n",
    "    if depvar_absval == True:\n",
    "        data[dependent_variable] = data[dependent_variable].abs().copy()\n",
    "\n",
    "    if regression_type == \"OLS\":\n",
    "\n",
    "        model = sm.OLS(data[dependent_variable],\n",
    "                       sm.add_constant(data[[independent_variable] + control_variables]))\n",
    "        res = model.fit()\n",
    "    \n",
    "    elif regression_type == \"OrderedModel\":\n",
    "\n",
    "        data[dependent_variable] = pd.Categorical(data[dependent_variable], ordered=True)\n",
    "\n",
    "        model = OrderedModel(data[dependent_variable],\n",
    "                             data[[independent_variable] + control_variables], distr='logit')\n",
    "        res = model.fit(method='bfgs')\n",
    "\n",
    "    else:\n",
    "        raise ValueError(\"Unsupported regression_type. Use 'OLS' or 'OrderedModel'.\")\n",
    "    \n",
    "    def format_coefficient(coef, pval):\n",
    "        if pval < 0.01:\n",
    "            stars = \"***\"\n",
    "        elif pval < 0.05:\n",
    "            stars = \"**\"\n",
    "        elif pval < 0.10:\n",
    "            stars = \"*\"\n",
    "        else:\n",
    "            stars = \"\"\n",
    "        return f\"{coef:.3f}{stars}\"\n",
    "    \n",
    "    def format_p_value(pval):\n",
    "        return f'=\"({pval:.3f})\"'\n",
    "    \n",
    "    # output = pd.DatFrame(index = [\"risklit_quartile\", \"isced\", \"age_rec\", \"FinancialLiteracy_%\", \"CRTScore_%\"])\n",
    "\n",
    "    rows = []\n",
    "    for var, coeff, pval in zip(res.params.index, res.params, res.pvalues):\n",
    "        rows.append([var, str(format_coefficient(coeff, pval))])\n",
    "        rows.append([\"\", str(format_p_value(pval))])\n",
    "    \n",
    "    output = pd.DataFrame(data = rows, columns = [regression_type, dependent_variable])\n",
    "    return output\n"
   ]
  },
  {
   "cell_type": "code",
   "execution_count": null,
   "id": "3cd9177c",
   "metadata": {},
   "outputs": [],
   "source": [
    "data = finplan2_data.copy()\n",
    "import csv\n",
    "pd.concat([ regression_output(data = data, regression_type = \"OLS\", dependent_variable = \"risky_investments\",\n",
    "                              independent_variable = \"risklit_quartile\", control_variables = [\"isced\", \"age_rec\", \"FinancialLiteracy_%\", \"CRTScore_%\"],\n",
    "                              depvar_absval = False),\n",
    "            regression_output(data = data, regression_type = \"OLS\", dependent_variable = \"risky_investments\",\n",
    "                              independent_variable = \"risklit_quartile\", control_variables = [\"isced\", \"age_rec\", \"FinancialLiteracy_%\"],\n",
    "                              depvar_absval = False)],\n",
    "                              axis = 1).replace({pd.NA:\"\"})\n",
    "\n"
   ]
  },
  {
   "cell_type": "code",
   "execution_count": null,
   "id": "3a0f5d09",
   "metadata": {},
   "outputs": [],
   "source": []
  },
  {
   "cell_type": "code",
   "execution_count": null,
   "id": "476720e7",
   "metadata": {},
   "outputs": [],
   "source": []
  },
  {
   "cell_type": "code",
   "execution_count": null,
   "id": "f81dec7d",
   "metadata": {},
   "outputs": [],
   "source": []
  },
  {
   "cell_type": "code",
   "execution_count": null,
   "id": "a7152bd9",
   "metadata": {},
   "outputs": [],
   "source": []
  }
 ],
 "metadata": {
  "kernelspec": {
   "display_name": ".venv (3.12.3)",
   "language": "python",
   "name": "python3"
  },
  "language_info": {
   "codemirror_mode": {
    "name": "ipython",
    "version": 3
   },
   "file_extension": ".py",
   "mimetype": "text/x-python",
   "name": "python",
   "nbconvert_exporter": "python",
   "pygments_lexer": "ipython3",
   "version": "3.12.3"
  }
 },
 "nbformat": 4,
 "nbformat_minor": 5
}
